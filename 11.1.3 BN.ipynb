{
 "cells": [
  {
   "cell_type": "code",
   "execution_count": 1,
   "metadata": {
    "ExecuteTime": {
     "end_time": "2022-09-12T08:13:35.471435Z",
     "start_time": "2022-09-12T08:13:32.254486Z"
    }
   },
   "outputs": [],
   "source": [
    "import sys\n",
    "import sklearn\n",
    "import tensorflow as tf\n",
    "from tensorflow import keras\n",
    "import numpy as np\n",
    "import os\n",
    "\n",
    "np.random.seed(42)"
   ]
  },
  {
   "cell_type": "code",
   "execution_count": 2,
   "metadata": {
    "ExecuteTime": {
     "end_time": "2022-09-12T08:13:35.942470Z",
     "start_time": "2022-09-12T08:13:35.471435Z"
    }
   },
   "outputs": [],
   "source": [
    "(X_train_full, y_train_full), (X_test, y_test) = keras.datasets.fashion_mnist.load_data()\n",
    "X_train_full = X_train_full / 255.0\n",
    "X_test = X_test / 255.0\n",
    "X_valid, X_train = X_train_full[:5000], X_train_full[5000:]\n",
    "y_valid, y_train = y_train_full[:5000], y_train_full[5000:]"
   ]
  },
  {
   "cell_type": "markdown",
   "metadata": {},
   "source": [
    "### 在隐藏层的激活函数后添加BN层"
   ]
  },
  {
   "cell_type": "code",
   "execution_count": 3,
   "metadata": {
    "ExecuteTime": {
     "end_time": "2022-09-12T08:13:36.242876Z",
     "start_time": "2022-09-12T08:13:35.942470Z"
    }
   },
   "outputs": [],
   "source": [
    "\"\"\"\n",
    "    每个BN层的每个输入添加了四个参数（γ、β、μ、σ）,\n",
    "    创建BN层时还会创建两个操作：用于更新和移动平均值\n",
    "\"\"\"\n",
    "model_after = keras.models.Sequential([\n",
    "    keras.layers.Flatten(input_shape=[28, 28]),#展平输入图像成二维\n",
    "    keras.layers.BatchNormalization(),\n",
    "    \n",
    "    keras.layers.Dense(300, activation=\"relu\"),\n",
    "    keras.layers.BatchNormalization(),\n",
    "    \n",
    "    keras.layers.Dense(100, activation=\"relu\"),\n",
    "    keras.layers.BatchNormalization(),\n",
    "    \n",
    "    keras.layers.Dense(10, activation=\"softmax\")\n",
    "])"
   ]
  },
  {
   "cell_type": "markdown",
   "metadata": {},
   "source": [
    "### 在隐藏层的激活函数前添加BN层"
   ]
  },
  {
   "cell_type": "markdown",
   "metadata": {},
   "source": [
    "#### BN层每个输入都包含一个偏移参数，可从上一层中删除偏置项（传递use_bias=False即可）"
   ]
  },
  {
   "cell_type": "code",
   "execution_count": 4,
   "metadata": {
    "ExecuteTime": {
     "end_time": "2022-09-12T08:13:36.305394Z",
     "start_time": "2022-09-12T08:13:36.244994Z"
    }
   },
   "outputs": [],
   "source": [
    "\"\"\"\n",
    "在激活函数之前添加BN层，必须从隐藏层中删除激活函数，\n",
    "并将其作为单独的层添加在BN层之后\n",
    "\"\"\"\n",
    "model_before = keras.models.Sequential([\n",
    "    keras.layers.Flatten(input_shape=[28, 28]),#展平输入图像\n",
    "    keras.layers.BatchNormalization(),\n",
    "    \n",
    "    keras.layers.Dense(300, use_bias=False),#删除偏置项\n",
    "    keras.layers.BatchNormalization(),\n",
    "    keras.layers.Activation(\"elu\"),\n",
    "    \n",
    "    keras.layers.Dense(100, use_bias=False),\n",
    "    keras.layers.BatchNormalization(),\n",
    "    keras.layers.Activation(\"elu\"),\n",
    "    \n",
    "    keras.layers.Dense(10, use_bias=False)\n",
    "])"
   ]
  },
  {
   "cell_type": "markdown",
   "metadata": {},
   "source": [
    "#### γ（缩放参数）和β（偏移参数）是可通过反向传播进行训练的"
   ]
  },
  {
   "cell_type": "markdown",
   "metadata": {},
   "source": [
    "#### μ和σ是移动的平均值，不可训练，不受反向传播影响"
   ]
  },
  {
   "cell_type": "code",
   "execution_count": 5,
   "metadata": {
    "ExecuteTime": {
     "end_time": "2022-09-12T08:13:36.321360Z",
     "start_time": "2022-09-12T08:13:36.307362Z"
    }
   },
   "outputs": [
    {
     "name": "stdout",
     "output_type": "stream",
     "text": [
      "Model: \"sequential\"\n",
      "_________________________________________________________________\n",
      " Layer (type)                Output Shape              Param #   \n",
      "=================================================================\n",
      " flatten (Flatten)           (None, 784)               0         \n",
      "                                                                 \n",
      " batch_normalization (BatchN  (None, 784)              3136      \n",
      " ormalization)                                                   \n",
      "                                                                 \n",
      " dense (Dense)               (None, 300)               235500    \n",
      "                                                                 \n",
      " batch_normalization_1 (Batc  (None, 300)              1200      \n",
      " hNormalization)                                                 \n",
      "                                                                 \n",
      " dense_1 (Dense)             (None, 100)               30100     \n",
      "                                                                 \n",
      " batch_normalization_2 (Batc  (None, 100)              400       \n",
      " hNormalization)                                                 \n",
      "                                                                 \n",
      " dense_2 (Dense)             (None, 10)                1010      \n",
      "                                                                 \n",
      "=================================================================\n",
      "Total params: 271,346\n",
      "Trainable params: 268,978\n",
      "Non-trainable params: 2,368\n",
      "_________________________________________________________________\n"
     ]
    }
   ],
   "source": [
    "model_after.summary()\n",
    "#第一个BN层添加了4×784=3136个参数"
   ]
  },
  {
   "cell_type": "code",
   "execution_count": 6,
   "metadata": {
    "ExecuteTime": {
     "end_time": "2022-09-12T08:13:36.337395Z",
     "start_time": "2022-09-12T08:13:36.322361Z"
    }
   },
   "outputs": [
    {
     "data": {
      "text/plain": [
       "[('batch_normalization/gamma:0', True),\n",
       " ('batch_normalization/beta:0', True),\n",
       " ('batch_normalization/moving_mean:0', False),\n",
       " ('batch_normalization/moving_variance:0', False)]"
      ]
     },
     "execution_count": 6,
     "metadata": {},
     "output_type": "execute_result"
    }
   ],
   "source": [
    "bn1 = model_after.layers[1]#第一个BN层\n",
    "[(var.name, var.trainable) for var in bn1.variables]"
   ]
  },
  {
   "cell_type": "code",
   "execution_count": 7,
   "metadata": {
    "ExecuteTime": {
     "end_time": "2022-09-12T08:13:36.352384Z",
     "start_time": "2022-09-12T08:13:36.339365Z"
    }
   },
   "outputs": [
    {
     "data": {
      "text/plain": [
       "list"
      ]
     },
     "execution_count": 7,
     "metadata": {},
     "output_type": "execute_result"
    }
   ],
   "source": [
    "type(bn1.variables)"
   ]
  },
  {
   "cell_type": "code",
   "execution_count": 8,
   "metadata": {
    "ExecuteTime": {
     "end_time": "2022-09-12T08:13:36.382641Z",
     "start_time": "2022-09-12T08:13:36.354363Z"
    }
   },
   "outputs": [],
   "source": [
    "model_after.compile(loss=\"sparse_categorical_crossentropy\",\n",
    "              optimizer=keras.optimizers.SGD(learning_rate=1e-3),\n",
    "              metrics=[\"accuracy\"])\n",
    "model_before.compile(loss=\"sparse_categorical_crossentropy\",\n",
    "              optimizer=keras.optimizers.SGD(learning_rate=1e-3),\n",
    "              metrics=[\"accuracy\"])"
   ]
  },
  {
   "cell_type": "code",
   "execution_count": 9,
   "metadata": {
    "ExecuteTime": {
     "end_time": "2022-09-12T08:14:25.948104Z",
     "start_time": "2022-09-12T08:13:36.384395Z"
    }
   },
   "outputs": [
    {
     "name": "stdout",
     "output_type": "stream",
     "text": [
      "Epoch 1/10\n",
      "1719/1719 [==============================] - 5s 3ms/step - loss: 0.8468 - accuracy: 0.7195 - val_loss: 0.5560 - val_accuracy: 0.8118\n",
      "Epoch 2/10\n",
      "1719/1719 [==============================] - 5s 3ms/step - loss: 0.5676 - accuracy: 0.8032 - val_loss: 0.4718 - val_accuracy: 0.8380\n",
      "Epoch 3/10\n",
      "1719/1719 [==============================] - 5s 3ms/step - loss: 0.5098 - accuracy: 0.8223 - val_loss: 0.4339 - val_accuracy: 0.8478\n",
      "Epoch 4/10\n",
      "1719/1719 [==============================] - 5s 3ms/step - loss: 0.4746 - accuracy: 0.8334 - val_loss: 0.4115 - val_accuracy: 0.8558\n",
      "Epoch 5/10\n",
      "1719/1719 [==============================] - 5s 3ms/step - loss: 0.4519 - accuracy: 0.8404 - val_loss: 0.3972 - val_accuracy: 0.8608\n",
      "Epoch 6/10\n",
      "1719/1719 [==============================] - 5s 3ms/step - loss: 0.4325 - accuracy: 0.8455 - val_loss: 0.3864 - val_accuracy: 0.8636\n",
      "Epoch 7/10\n",
      "1719/1719 [==============================] - 5s 3ms/step - loss: 0.4190 - accuracy: 0.8487 - val_loss: 0.3772 - val_accuracy: 0.8668\n",
      "Epoch 8/10\n",
      "1719/1719 [==============================] - 5s 3ms/step - loss: 0.4066 - accuracy: 0.8555 - val_loss: 0.3706 - val_accuracy: 0.8712\n",
      "Epoch 9/10\n",
      "1719/1719 [==============================] - 5s 3ms/step - loss: 0.3958 - accuracy: 0.8597 - val_loss: 0.3649 - val_accuracy: 0.8728\n",
      "Epoch 10/10\n",
      "1719/1719 [==============================] - 5s 3ms/step - loss: 0.3841 - accuracy: 0.8640 - val_loss: 0.3583 - val_accuracy: 0.8726\n"
     ]
    }
   ],
   "source": [
    "history_after = model_after.fit(X_train, y_train, epochs=10,\n",
    "                    validation_data=(X_valid, y_valid))"
   ]
  },
  {
   "cell_type": "code",
   "execution_count": 10,
   "metadata": {
    "ExecuteTime": {
     "end_time": "2022-09-12T08:15:20.276537Z",
     "start_time": "2022-09-12T08:14:25.950104Z"
    }
   },
   "outputs": [
    {
     "name": "stdout",
     "output_type": "stream",
     "text": [
      "Epoch 1/10\n",
      "1719/1719 [==============================] - 6s 3ms/step - loss: 2.1137 - accuracy: 0.4156 - val_loss: 2.2351 - val_accuracy: 0.1722\n",
      "Epoch 2/10\n",
      "1719/1719 [==============================] - 5s 3ms/step - loss: 2.2428 - accuracy: 0.1798 - val_loss: 2.2098 - val_accuracy: 0.0820\n",
      "Epoch 3/10\n",
      "1719/1719 [==============================] - 5s 3ms/step - loss: 2.1721 - accuracy: 0.1490 - val_loss: 1.9697 - val_accuracy: 0.1890\n",
      "Epoch 4/10\n",
      "1719/1719 [==============================] - 5s 3ms/step - loss: 1.9444 - accuracy: 0.2023 - val_loss: 2.4764 - val_accuracy: 0.2866\n",
      "Epoch 5/10\n",
      "1719/1719 [==============================] - 5s 3ms/step - loss: 2.2951 - accuracy: 0.2785 - val_loss: 2.0404 - val_accuracy: 0.2542\n",
      "Epoch 6/10\n",
      "1719/1719 [==============================] - 5s 3ms/step - loss: 2.0897 - accuracy: 0.2467 - val_loss: 2.0859 - val_accuracy: 0.2216\n",
      "Epoch 7/10\n",
      "1719/1719 [==============================] - 6s 3ms/step - loss: 2.4690 - accuracy: 0.2452 - val_loss: 3.9833 - val_accuracy: 0.1628\n",
      "Epoch 8/10\n",
      "1719/1719 [==============================] - 5s 3ms/step - loss: 2.4634 - accuracy: 0.2548 - val_loss: 2.2240 - val_accuracy: 0.2844\n",
      "Epoch 9/10\n",
      "1719/1719 [==============================] - 6s 3ms/step - loss: 2.1998 - accuracy: 0.2681 - val_loss: 2.2593 - val_accuracy: 0.2072\n",
      "Epoch 10/10\n",
      "1719/1719 [==============================] - 6s 3ms/step - loss: 2.2887 - accuracy: 0.2137 - val_loss: 2.2435 - val_accuracy: 0.2350\n"
     ]
    }
   ],
   "source": [
    "history_before = model_before.fit(X_train, y_train, epochs=10,\n",
    "                    validation_data=(X_valid, y_valid))"
   ]
  },
  {
   "cell_type": "code",
   "execution_count": null,
   "metadata": {},
   "outputs": [],
   "source": []
  }
 ],
 "metadata": {
  "kernelspec": {
   "display_name": "Python 3",
   "language": "python",
   "name": "python3"
  },
  "language_info": {
   "codemirror_mode": {
    "name": "ipython",
    "version": 3
   },
   "file_extension": ".py",
   "mimetype": "text/x-python",
   "name": "python",
   "nbconvert_exporter": "python",
   "pygments_lexer": "ipython3",
   "version": "3.7.0"
  }
 },
 "nbformat": 4,
 "nbformat_minor": 2
}
