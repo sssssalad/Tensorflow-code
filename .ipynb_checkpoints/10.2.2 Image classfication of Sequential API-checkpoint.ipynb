{
 "cells": [
  {
   "cell_type": "code",
   "execution_count": 1,
   "metadata": {
    "ExecuteTime": {
     "end_time": "2022-11-08T11:50:12.422760Z",
     "start_time": "2022-11-08T11:50:03.098882Z"
    }
   },
   "outputs": [
    {
     "data": {
      "text/plain": [
       "'2.7.0'"
      ]
     },
     "execution_count": 1,
     "metadata": {},
     "output_type": "execute_result"
    }
   ],
   "source": [
    "import tensorflow as tf\n",
    "from tensorflow import keras\n",
    "tf.__version__"
   ]
  },
  {
   "cell_type": "code",
   "execution_count": 2,
   "metadata": {
    "ExecuteTime": {
     "end_time": "2022-11-08T11:50:12.438777Z",
     "start_time": "2022-11-08T11:50:12.423760Z"
    }
   },
   "outputs": [
    {
     "data": {
      "text/plain": [
       "'2.7.0'"
      ]
     },
     "execution_count": 2,
     "metadata": {},
     "output_type": "execute_result"
    }
   ],
   "source": [
    "keras.__version__"
   ]
  },
  {
   "cell_type": "markdown",
   "metadata": {},
   "source": [
    "### 顺序API  构建简单图像分类器模型（layer by layer）"
   ]
  },
  {
   "cell_type": "markdown",
   "metadata": {},
   "source": [
    "#### 使用keras加载数据集"
   ]
  },
  {
   "cell_type": "raw",
   "metadata": {},
   "source": [
    "tf.keras.datasets.imdb.load_data(\n",
    "    path='imdb.npz', num_words=None, skip_top=0, maxlen=None, seed=113,\n",
    "    start_char=1, oov_char=2, index_from=3, **kwargs)\n",
    "\n",
    "path：定义的文件的名称，一般默认\n",
    "\n",
    "num_words：整数。大于该词频的单词会被读取。\n",
    "单词的词频小于该整数时会被oov_char定义的数字代替，默认用2代替。词频越高的单词在单词表中的位置越靠前，索引越小；所以实际上保留下来的是索引小于此数值的单词。\n",
    "\n",
    "skip_top：整数。词频低于此整数的单词会被读入。高于此整数的会被oov_char定义的数字代替。\n",
    "\n",
    "maxlen：整数。评论单词数小于此数值的会被读入。\n",
    "比如一条评论包含的单词数是120，如果maxlen=100，则该条评论不会被读入。\n",
    "\n",
    "seed：整数。定义了随机打乱数据时候的初始化种子。\n",
    "\n",
    "start_char：整数。定义了每条评论的起始索引。默认为1。\n",
    "\n",
    "oov_char：整数。定义了不满足条件单词的替代值。不满足过滤条件的单词的索引都用此数值代替。\n",
    "\n",
    "index_from：整数。单词索引大于此数值的会被读入。\n",
    "\n",
    "**kwargs：兼容用途"
   ]
  },
  {
   "cell_type": "markdown",
   "metadata": {},
   "source": [
    "对数据集调用load_data()函数，函数return回来 (x_train, y_train), (x_test, y_test)"
   ]
  },
  {
   "cell_type": "code",
   "execution_count": 3,
   "metadata": {
    "ExecuteTime": {
     "end_time": "2022-11-08T11:50:12.844839Z",
     "start_time": "2022-11-08T11:50:12.442763Z"
    }
   },
   "outputs": [],
   "source": [
    "fashion_mnist = keras.datasets.fashion_mnist\n",
    "(X_train_full,y_train_full),(X_test,y_test) = fashion_mnist.load_data()\n",
    "#分为训练集和测试集\n",
    "#y是衣服类型标签，x是图像数据"
   ]
  },
  {
   "cell_type": "code",
   "execution_count": 4,
   "metadata": {
    "ExecuteTime": {
     "end_time": "2022-11-08T11:50:12.860853Z",
     "start_time": "2022-11-08T11:50:12.846814Z"
    }
   },
   "outputs": [
    {
     "data": {
      "text/plain": [
       "(60000, 28, 28)"
      ]
     },
     "execution_count": 4,
     "metadata": {},
     "output_type": "execute_result"
    }
   ],
   "source": [
    "X_train_full.shape\n",
    "#共60000张表示成28×28阵列(矩阵）的图像"
   ]
  },
  {
   "cell_type": "code",
   "execution_count": 5,
   "metadata": {
    "ExecuteTime": {
     "end_time": "2022-11-08T11:50:12.876829Z",
     "start_time": "2022-11-08T11:50:12.862820Z"
    },
    "scrolled": true
   },
   "outputs": [
    {
     "data": {
      "text/plain": [
       "dtype('uint8')"
      ]
     },
     "execution_count": 5,
     "metadata": {},
     "output_type": "execute_result"
    }
   ],
   "source": [
    "X_train_full.dtype\n",
    "#uint8数据类型。UINT是一种整数类型。\n",
    "#u：表示：无符号，所有值都是正数（不允许有负号）。\n",
    "#INT：表示整数，所有值都是整数，0,1,2,3。。。\n",
    "#8：只有8位信息：最大值为255，最小值为0。"
   ]
  },
  {
   "cell_type": "markdown",
   "metadata": {},
   "source": [
    "### 创建验证集"
   ]
  },
  {
   "cell_type": "markdown",
   "metadata": {},
   "source": [
    "#### 像素强度除以255.0将它们转化为浮点数，降低到0-1范围内（便于使用梯度下降训练神经网络）"
   ]
  },
  {
   "cell_type": "code",
   "execution_count": 6,
   "metadata": {
    "ExecuteTime": {
     "end_time": "2022-11-08T11:50:13.065247Z",
     "start_time": "2022-11-08T11:50:12.879816Z"
    }
   },
   "outputs": [],
   "source": [
    "#训练集训练完在验证集上看结果，调参，再看验证集结果，调参结束，测试集上看结果\n",
    "#验证集是训练集分出来的一部分\n",
    "X_valid,X_train = X_train_full[:5000]/255.0,X_train_full[5000:]/255.0\n",
    "y_valid,y_train = y_train_full[:5000],y_train_full[5000:]\n",
    "X_test = X_test / 255.0"
   ]
  },
  {
   "cell_type": "markdown",
   "metadata": {},
   "source": [
    "#### 添加类名列表代表图片表示的内容（图片的标签）"
   ]
  },
  {
   "cell_type": "code",
   "execution_count": 7,
   "metadata": {
    "ExecuteTime": {
     "end_time": "2022-11-08T11:50:13.080250Z",
     "start_time": "2022-11-08T11:50:13.067228Z"
    }
   },
   "outputs": [],
   "source": [
    "class_names = [\"T-shirt/top\",\"Trouser\",\"Pullover\",\"Dress\",\n",
    "               \"Coat\",\"Sandal\",\"Shirt\",\"Sneaker\",\"Bag\",\"Ankle boot\"]"
   ]
  },
  {
   "cell_type": "markdown",
   "metadata": {},
   "source": [
    "#### 显示图像，可视化样本"
   ]
  },
  {
   "cell_type": "code",
   "execution_count": 8,
   "metadata": {
    "ExecuteTime": {
     "end_time": "2022-11-08T11:50:13.883598Z",
     "start_time": "2022-11-08T11:50:13.082229Z"
    }
   },
   "outputs": [
    {
     "data": {
      "image/png": "[encoded data removed]",
      "text/plain": [
       "<Figure size 432x288 with 4 Axes>"
      ]
     },
     "metadata": {},
     "output_type": "display_data"
    }
   ],
   "source": [
    "# 下面是输出了训练集中前4个样本\n",
    "%matplotlib inline\n",
    "#使得图片可见\n",
    "import matplotlib.pylab as plt#导入绘图库\n",
    "\n",
    "fig, ax = plt.subplots(nrows=2, ncols=2, sharex='all', sharey='all')\n",
    "ax = ax.flatten()\n",
    "\n",
    "for i in range(4):\n",
    "    img = X_train[i].reshape(28, 28)\n",
    "    #ax[i].imshow(img,cmap='Greys')\n",
    "    ax[i].imshow(img,cmap='binary')\n",
    "    \n",
    "ax[0].set_xticks([])\n",
    "ax[0].set_yticks([])\n",
    "\n",
    "plt.tight_layout()\n",
    "plt.rcParams['figure.figsize'] =(10.0, 5.0)#设置图像大小\n",
    "plt.show()"
   ]
  },
  {
   "cell_type": "code",
   "execution_count": 9,
   "metadata": {
    "ExecuteTime": {
     "end_time": "2022-11-08T11:50:13.899276Z",
     "start_time": "2022-11-08T11:50:13.886280Z"
    }
   },
   "outputs": [
    {
     "data": {
      "text/plain": [
       "'Sneaker'"
      ]
     },
     "execution_count": 9,
     "metadata": {},
     "output_type": "execute_result"
    }
   ],
   "source": [
    "#显示第三幅图像代表的种类(运动鞋)\n",
    "class_names[y_train[2]]"
   ]
  },
  {
   "cell_type": "code",
   "execution_count": 10,
   "metadata": {
    "ExecuteTime": {
     "end_time": "2022-11-08T11:50:14.985879Z",
     "start_time": "2022-11-08T11:50:13.901253Z"
    }
   },
   "outputs": [
    {
     "data": {
      "image/png": "[encoded data removed]",
      "text/plain": [
       "<Figure size 864x345.6 with 40 Axes>"
      ]
     },
     "metadata": {
      "needs_background": "light"
     },
     "output_type": "display_data"
    }
   ],
   "source": [
    "n_rows = 4\n",
    "n_cols = 10\n",
    "plt.figure(figsize=(n_cols * 1.2, n_rows * 1.2))\n",
    "for row in range(n_rows):\n",
    "    for col in range(n_cols):\n",
    "        index = n_cols * row + col\n",
    "        plt.subplot(n_rows, n_cols, index + 1)\n",
    "        plt.imshow(X_train[index], cmap=\"binary\", interpolation=\"nearest\")\n",
    "        plt.axis('off')\n",
    "        plt.title(class_names[y_train[index]], fontsize=12)\n",
    "plt.subplots_adjust(wspace=0.2, hspace=0.5)\n",
    "plt.show()"
   ]
  },
  {
   "cell_type": "markdown",
   "metadata": {},
   "source": [
    "Flatten层：将每个输入图像转为一维数组\n",
    "\n",
    "Dense层：管理自己的权重矩阵，包含神经元、输入之间的所有连接权重和偏置项的一个向量（每个神经元一个）"
   ]
  },
  {
   "cell_type": "raw",
   "metadata": {},
   "source": [
    "tf.keras.layers.Dense(\n",
    "\"\"\"全连接层\"\"\"\n",
    "    units,                                 # 正整数，输出空间的维数\n",
    "    activation=None,                       # 激活函数，不指定则没有\n",
    "    use_bias=True,\t\t\t\t\t\t   # 布尔值，是否使用偏移向量\n",
    "    kernel_initializer='glorot_uniform',   # 核权重矩阵的初始值设定项\n",
    "    bias_initializer='zeros',              # 偏差向量的初始值设定项\n",
    "    kernel_regularizer=None,               # 正则化函数应用于核权矩阵\n",
    "    bias_regularizer=None,                 # 应用于偏差向量的正则化函数\n",
    "    activity_regularizer=None,             \n",
    "    # Regularizer function applied to the output of the layer (its \"activation\")\n",
    "    kernel_constraint=None,                \n",
    "    # Constraint function applied to the kernel weights matrix.\n",
    "    bias_constraint=None, **kwargs         \n",
    "    # Constraint function applied to the bias vector\n",
    ")"
   ]
  },
  {
   "cell_type": "code",
   "execution_count": 11,
   "metadata": {
    "ExecuteTime": {
     "end_time": "2022-11-08T11:50:16.219790Z",
     "start_time": "2022-11-08T11:50:14.987857Z"
    }
   },
   "outputs": [],
   "source": [
    "\"\"\"逐层添加层\"\"\"\n",
    "\n",
    "model=keras.models.Sequential()\n",
    "#创建Sequential模型（顺序API），核心操作是添加layers（图层）\n",
    "\n",
    "model.add(keras.layers.Flatten(input_shape=[28,28]))\n",
    "\"\"\"权重矩阵的形状取决于输入的个数，故第一层模型需要指定input_shape\"\"\"\n",
    "#将每个输入的图像（x，28,28）转为一维数组（x，28*28）\n",
    "\n",
    "model.add(keras.layers.Dense(300,activation=\"relu\"))\n",
    "#300个神经元的隐藏层，初始化了连接权重，使用relu激活函数，得到300维的输出\n",
    "\n",
    "model.add(keras.layers.Dense(100,activation=\"relu\"))\n",
    "#100个神经元的隐藏层，得到100维的输出\n",
    "\n",
    "model.add(keras.layers.Dense(10,activation=\"softmax\"))\n",
    "#10个神经元的隐藏层（每个类一个），输出结果只有一个\n",
    "\n",
    "#选用softmax激活函数（这些类排他），输出属于每个类的概率值"
   ]
  },
  {
   "cell_type": "code",
   "execution_count": 12,
   "metadata": {
    "ExecuteTime": {
     "end_time": "2022-11-08T11:50:16.267543Z",
     "start_time": "2022-11-08T11:50:16.221505Z"
    }
   },
   "outputs": [],
   "source": [
    "# 或\n",
    "\"\"\"创建顺序模型时传递一个列表\"\"\"\n",
    "model=keras.models.Sequential([\n",
    "    keras.layers.Flatten(input_shape=[28,28]),\n",
    "    keras.layers.Dense(300,activation=\"relu\"),\n",
    "    keras.layers.Dense(100,activation=\"relu\"),\n",
    "    keras.layers.Dense(10,activation=\"softmax\")\n",
    "])"
   ]
  },
  {
   "cell_type": "code",
   "execution_count": 13,
   "metadata": {
    "ExecuteTime": {
     "end_time": "2022-11-08T11:50:16.283504Z",
     "start_time": "2022-11-08T11:50:16.269507Z"
    }
   },
   "outputs": [
    {
     "data": {
      "text/plain": [
       "[<keras.layers.core.flatten.Flatten at 0x14c3d898550>,\n",
       " <keras.layers.core.dense.Dense at 0x14c3d874390>,\n",
       " <keras.layers.core.dense.Dense at 0x14c60f50ba8>,\n",
       " <keras.layers.core.dense.Dense at 0x14c60f0c4a8>]"
      ]
     },
     "execution_count": 13,
     "metadata": {},
     "output_type": "execute_result"
    }
   ],
   "source": [
    "\"\"\"显示模型的层列表\"\"\"\n",
    "model.layers"
   ]
  },
  {
   "cell_type": "code",
   "execution_count": 14,
   "metadata": {
    "ExecuteTime": {
     "end_time": "2022-11-08T11:50:16.298533Z",
     "start_time": "2022-11-08T11:50:16.285505Z"
    }
   },
   "outputs": [
    {
     "data": {
      "text/plain": [
       "<keras.layers.core.dense.Dense at 0x14c3d874390>"
      ]
     },
     "execution_count": 14,
     "metadata": {},
     "output_type": "execute_result"
    }
   ],
   "source": [
    "#按索引获取层\n",
    "hidden1 = model.layers[1]\n",
    "hidden1"
   ]
  },
  {
   "cell_type": "code",
   "execution_count": 15,
   "metadata": {
    "ExecuteTime": {
     "end_time": "2022-11-08T11:50:16.313509Z",
     "start_time": "2022-11-08T11:50:16.300505Z"
    }
   },
   "outputs": [
    {
     "data": {
      "text/plain": [
       "'dense_3'"
      ]
     },
     "execution_count": 15,
     "metadata": {},
     "output_type": "execute_result"
    }
   ],
   "source": [
    "#按名称获取层\n",
    "hidden1.name"
   ]
  },
  {
   "cell_type": "markdown",
   "metadata": {},
   "source": [
    "def get_layer(self, name=None, index=None)\n",
    "\n",
    "name:层的名称;index:整数, 层的索引号;\n",
    "\n",
    "返回值:层实例(因为每个层都是一个类,所以返回的层本质上是一个类)"
   ]
  },
  {
   "cell_type": "code",
   "execution_count": 17,
   "metadata": {
    "ExecuteTime": {
     "end_time": "2022-11-08T11:52:12.079936Z",
     "start_time": "2022-11-08T11:52:12.072935Z"
    }
   },
   "outputs": [
    {
     "data": {
      "text/plain": [
       "True"
      ]
     },
     "execution_count": 17,
     "metadata": {},
     "output_type": "execute_result"
    }
   ],
   "source": [
    "#根据层的名称(具有唯一性)或索引号检索层.同时提供了名字name和索引index时以索引号为准.\n",
    "model.get_layer('dense_3') is hidden1"
   ]
  },
  {
   "cell_type": "markdown",
   "metadata": {},
   "source": [
    "get_weights()和set_weights()可访问层的所有参数"
   ]
  },
  {
   "cell_type": "code",
   "execution_count": 18,
   "metadata": {
    "ExecuteTime": {
     "end_time": "2022-11-08T11:52:18.176731Z",
     "start_time": "2022-11-08T11:52:18.155033Z"
    }
   },
   "outputs": [
    {
     "data": {
      "text/plain": [
       "array([[-0.05812079, -0.04705863,  0.06601731, ...,  0.07029901,\n",
       "        -0.04390316,  0.05254069],\n",
       "       [-0.06554382, -0.00867642,  0.02898876, ...,  0.00257974,\n",
       "        -0.04302965,  0.03149558],\n",
       "       [-0.06393803, -0.04446277, -0.00597698, ..., -0.00231786,\n",
       "         0.05570066, -0.02092694],\n",
       "       ...,\n",
       "       [-0.04474595, -0.05505195, -0.06538996, ...,  0.07224427,\n",
       "         0.0341076 , -0.02801497],\n",
       "       [ 0.0636075 ,  0.04805889,  0.06853954, ...,  0.05436622,\n",
       "        -0.01079366, -0.05674173],\n",
       "       [ 0.04899247,  0.05689822,  0.067099  , ..., -0.06444456,\n",
       "         0.05812222, -0.05852245]], dtype=float32)"
      ]
     },
     "execution_count": 18,
     "metadata": {},
     "output_type": "execute_result"
    }
   ],
   "source": [
    "weights,biases = hidden1.get_weights()\n",
    "weights"
   ]
  },
  {
   "cell_type": "code",
   "execution_count": 19,
   "metadata": {
    "ExecuteTime": {
     "end_time": "2022-11-08T11:52:20.263850Z",
     "start_time": "2022-11-08T11:52:20.244813Z"
    }
   },
   "outputs": [
    {
     "data": {
      "text/plain": [
       "(784, 300)"
      ]
     },
     "execution_count": 19,
     "metadata": {},
     "output_type": "execute_result"
    }
   ],
   "source": [
    "weights.shape"
   ]
  },
  {
   "cell_type": "code",
   "execution_count": 20,
   "metadata": {
    "ExecuteTime": {
     "end_time": "2022-11-08T11:52:20.674538Z",
     "start_time": "2022-11-08T11:52:20.659536Z"
    }
   },
   "outputs": [
    {
     "data": {
      "text/plain": [
       "array([0., 0., 0., 0., 0., 0., 0., 0., 0., 0.], dtype=float32)"
      ]
     },
     "execution_count": 20,
     "metadata": {},
     "output_type": "execute_result"
    }
   ],
   "source": [
    "biases[:10]#显示前10个神经元的偏置"
   ]
  },
  {
   "cell_type": "code",
   "execution_count": 21,
   "metadata": {
    "ExecuteTime": {
     "end_time": "2022-11-08T11:52:21.003162Z",
     "start_time": "2022-11-08T11:52:20.995161Z"
    }
   },
   "outputs": [
    {
     "name": "stdout",
     "output_type": "stream",
     "text": [
      "(300,)\n"
     ]
    }
   ],
   "source": [
    "print(biases.shape)"
   ]
  },
  {
   "cell_type": "code",
   "execution_count": 22,
   "metadata": {
    "ExecuteTime": {
     "end_time": "2022-11-08T11:52:21.269178Z",
     "start_time": "2022-11-08T11:52:21.261205Z"
    }
   },
   "outputs": [
    {
     "name": "stdout",
     "output_type": "stream",
     "text": [
      "Model: \"sequential_1\"\n",
      "_________________________________________________________________\n",
      " Layer (type)                Output Shape              Param #   \n",
      "=================================================================\n",
      " flatten_1 (Flatten)         (None, 784)               0         \n",
      "                                                                 \n",
      " dense_3 (Dense)             (None, 300)               235500    \n",
      "                                                                 \n",
      " dense_4 (Dense)             (None, 100)               30100     \n",
      "                                                                 \n",
      " dense_5 (Dense)             (None, 10)                1010      \n",
      "                                                                 \n",
      "=================================================================\n",
      "Total params: 266,610\n",
      "Trainable params: 266,610\n",
      "Non-trainable params: 0\n",
      "_________________________________________________________________\n"
     ]
    }
   ],
   "source": [
    "\"\"\"显示模型的所有层，Param表示每个层参数的个数,None表示批处理大小任意\"\"\"\n",
    "model.summary()\n",
    "#Param = （输入数据维度+1）* 神经元个数，加1是考虑到每个神经元都有一个Bias。"
   ]
  },
  {
   "cell_type": "markdown",
   "metadata": {},
   "source": [
    "keras.utils.plot_model()生成网络模型图像"
   ]
  },
  {
   "cell_type": "raw",
   "metadata": {},
   "source": [
    "参数：\n",
    "model为要绘制的网络模型 \n",
    "to_file='model.png'为要保存的模型图名称\n",
    "\n",
    "可选参数：\n",
    "show_shapes (默认为 False) 控制是否在图中输出各层的尺寸。\n",
    "show_layer_names (默认为 True) 控制是否在图中显示每一层的名字。\n",
    "expand_dim（默认为 False）控制是否将嵌套模型扩展为图形中的聚类。\n",
    "dpi（默认为 96）控制图像 dpi"
   ]
  },
  {
   "cell_type": "code",
   "execution_count": 23,
   "metadata": {
    "ExecuteTime": {
     "end_time": "2022-11-08T11:52:22.461279Z",
     "start_time": "2022-11-08T11:52:21.832801Z"
    }
   },
   "outputs": [
    {
     "data": {
      "image/png": "[encoded data removed]",
      "text/plain": [
       "<IPython.core.display.Image object>"
      ]
     },
     "execution_count": 23,
     "metadata": {},
     "output_type": "execute_result"
    }
   ],
   "source": [
    "#打印模型结构\n",
    "from keras.utils.vis_utils import plot_model\n",
    "\n",
    "keras.utils.plot_model(model,\n",
    "                       to_file=\"my_fashion_mnist_model.png\", \n",
    "                       show_shapes=True)"
   ]
  },
  {
   "cell_type": "markdown",
   "metadata": {},
   "source": [
    "### 编译模型"
   ]
  },
  {
   "cell_type": "markdown",
   "metadata": {},
   "source": [
    "model.compile（）: 选择损失函数和优化器,选择指定在训练和评估期间要计算的其他指标"
   ]
  },
  {
   "cell_type": "raw",
   "metadata": {},
   "source": [
    "语法：model.compile(\n",
    "   optimizer, \n",
    "   loss = None, \n",
    "   metrics = None, \n",
    "   loss_weights = None, \n",
    "   sample_weight_mode = None, \n",
    "   weighted_metrics = None, \n",
    "   target_tensors = None\n",
    ")\n",
    "参数：optimizer：优化器，用于控制梯度裁剪。必选项\n",
    "    loss：损失函数（或称目标函数、优化评分函数）。必选项\n",
    "    metrics：评价函数，用于评估当前训练模型的性能。当模型编译后（compile），评价函数应该作为 metrics 的参数来输入。评价函数和损失函数相似，只不过评价函数的结果不会用于训练过程中。"
   ]
  },
  {
   "cell_type": "code",
   "execution_count": 24,
   "metadata": {
    "ExecuteTime": {
     "end_time": "2022-11-08T11:52:22.790254Z",
     "start_time": "2022-11-08T11:52:22.774644Z"
    }
   },
   "outputs": [],
   "source": [
    "model.compile(loss=\"sparse_categorical_crossentropy\",\n",
    "              optimizer=\"sgd\",\n",
    "              metrics=[\"accuracy\"])\n",
    "#因为每个图像仅存在一个标签（多类分类问题），使用sparse_categorical_crossentropy\n",
    "#使用sgd优化器，使用梯度下降训练模型，使用此优化器时学习率非常重要，通常灵活设置。"
   ]
  },
  {
   "cell_type": "markdown",
   "metadata": {},
   "source": [
    "### 训练和评估模型"
   ]
  },
  {
   "cell_type": "markdown",
   "metadata": {},
   "source": [
    "model.fit() 输入数据进行训练，返回History对象"
   ]
  },
  {
   "cell_type": "raw",
   "metadata": {},
   "source": [
    "model.fit（）常用参数：x，y，\n",
    "\n",
    "batch_size：整数。每次梯度更新的样本数，未指定时默认为32。\n",
    "\n",
    "epochs：整数。训练模型迭代次数。\n",
    "\n",
    "validation_split：浮点数0-1之间。用作验证集的训练数据的比例。模型将分出一部分不会被训练的验证数据，在每一轮结束时评估这些验证数据的误差和其他模型指标。验证数据在混洗之前x和y数据的最后一部分样本中。\n",
    "\n",
    "validation_data：元组 (x_val，y_val，val_sample_weights)，用来评估损失和在每轮结束时的模型度量指标，模型不会在这个数据上进行训练。这个参数会覆盖validation_split，其中第三个可选参数val_sample_weights为样本权重。\n",
    "\n",
    "shuffle：布尔值。是否在每轮迭代之前混洗数据。\n",
    "\n",
    "class_weight：字典。按类分配权重。主要针对的上数据不均衡问题，比如：异常检测的二项分类问题，异常数据仅占1%，正常数据占99%; 此时就要设置不同类对loss的影响。\n",
    "\n",
    "sample_weight：字典。按实例分配权重。主要解决的是样本质量不同的问题，比如前1000个样本的可信度，那么它的权重就要高，后1000个样本可能有错、不可信，那么权重就要调低。\n",
    "\n",
    "class_weight和sample_weight都提供时两者相乘\n",
    "\n",
    "initial_epoch\n",
    "\n",
    "steps_per_Epoch：一个epoch包含的步数（每一步是一个batch的数据送入），当使用如TensorFlow数据Tensor之类的输入张量进行训练时，默认的None代表自动分割，即数据集样本数/batch样本数。\n",
    "\n",
    "workers：整数。最大线程数。\n",
    "\n",
    "返回：History对象，包含训练参数history.params、经历的轮次列表history.epoch，包含在训练集和验证集上每个轮次结束时测得的损失和格外指标的字典history.history。"
   ]
  },
  {
   "cell_type": "markdown",
   "metadata": {},
   "source": [
    "#### 使用validation_data参数传递验证集"
   ]
  },
  {
   "cell_type": "markdown",
   "metadata": {},
   "source": [
    "#### 可使用validation_split设置为希望Keras用于验证的训练集的比例，=0.1时表示用数据的最后10%（在乱序之前）进行验证"
   ]
  },
  {
   "cell_type": "code",
   "execution_count": 25,
   "metadata": {
    "ExecuteTime": {
     "end_time": "2022-11-08T11:54:05.719861Z",
     "start_time": "2022-11-08T11:52:24.132013Z"
    }
   },
   "outputs": [
    {
     "name": "stdout",
     "output_type": "stream",
     "text": [
      "Epoch 1/30\n",
      "1719/1719 [==============================] - 3s 2ms/step - loss: 0.7213 - accuracy: 0.7608 - val_loss: 0.5389 - val_accuracy: 0.8102\n",
      "Epoch 2/30\n",
      "1719/1719 [==============================] - 3s 2ms/step - loss: 0.4905 - accuracy: 0.8299 - val_loss: 0.4554 - val_accuracy: 0.8418\n",
      "Epoch 3/30\n",
      "1719/1719 [==============================] - 3s 2ms/step - loss: 0.4440 - accuracy: 0.8458 - val_loss: 0.4250 - val_accuracy: 0.8520\n",
      "Epoch 4/30\n",
      "1719/1719 [==============================] - 3s 2ms/step - loss: 0.4158 - accuracy: 0.8543 - val_loss: 0.4051 - val_accuracy: 0.8592\n",
      "Epoch 5/30\n",
      "1719/1719 [==============================] - 3s 2ms/step - loss: 0.3957 - accuracy: 0.8611 - val_loss: 0.3776 - val_accuracy: 0.8698\n",
      "Epoch 6/30\n",
      "1719/1719 [==============================] - 3s 2ms/step - loss: 0.3796 - accuracy: 0.8673 - val_loss: 0.3795 - val_accuracy: 0.8712\n",
      "Epoch 7/30\n",
      "1719/1719 [==============================] - 3s 2ms/step - loss: 0.3652 - accuracy: 0.8719 - val_loss: 0.3593 - val_accuracy: 0.8740\n",
      "Epoch 8/30\n",
      "1719/1719 [==============================] - 3s 2ms/step - loss: 0.3528 - accuracy: 0.8763 - val_loss: 0.3516 - val_accuracy: 0.8754\n",
      "Epoch 9/30\n",
      "1719/1719 [==============================] - 3s 2ms/step - loss: 0.3422 - accuracy: 0.8785 - val_loss: 0.3478 - val_accuracy: 0.8796\n",
      "Epoch 10/30\n",
      "1719/1719 [==============================] - 3s 2ms/step - loss: 0.3324 - accuracy: 0.8824 - val_loss: 0.3566 - val_accuracy: 0.8736\n",
      "Epoch 11/30\n",
      "1719/1719 [==============================] - 3s 2ms/step - loss: 0.3243 - accuracy: 0.8836 - val_loss: 0.3459 - val_accuracy: 0.8748\n",
      "Epoch 12/30\n",
      "1719/1719 [==============================] - 3s 2ms/step - loss: 0.3170 - accuracy: 0.8864 - val_loss: 0.3361 - val_accuracy: 0.8780\n",
      "Epoch 13/30\n",
      "1719/1719 [==============================] - 3s 2ms/step - loss: 0.3093 - accuracy: 0.8888 - val_loss: 0.3365 - val_accuracy: 0.8812\n",
      "Epoch 14/30\n",
      "1719/1719 [==============================] - 4s 2ms/step - loss: 0.3031 - accuracy: 0.8919 - val_loss: 0.3374 - val_accuracy: 0.8792\n",
      "Epoch 15/30\n",
      "1719/1719 [==============================] - 3s 2ms/step - loss: 0.2967 - accuracy: 0.8935 - val_loss: 0.3252 - val_accuracy: 0.8826\n",
      "Epoch 16/30\n",
      "1719/1719 [==============================] - 4s 2ms/step - loss: 0.2905 - accuracy: 0.8959 - val_loss: 0.3326 - val_accuracy: 0.8790\n",
      "Epoch 17/30\n",
      "1719/1719 [==============================] - 3s 2ms/step - loss: 0.2838 - accuracy: 0.8987 - val_loss: 0.3221 - val_accuracy: 0.8846\n",
      "Epoch 18/30\n",
      "1719/1719 [==============================] - 4s 2ms/step - loss: 0.2797 - accuracy: 0.8992 - val_loss: 0.3136 - val_accuracy: 0.8876\n",
      "Epoch 19/30\n",
      "1719/1719 [==============================] - 4s 2ms/step - loss: 0.2732 - accuracy: 0.9015 - val_loss: 0.3209 - val_accuracy: 0.8820\n",
      "Epoch 20/30\n",
      "1719/1719 [==============================] - 3s 2ms/step - loss: 0.2694 - accuracy: 0.9035 - val_loss: 0.3068 - val_accuracy: 0.8896\n",
      "Epoch 21/30\n",
      "1719/1719 [==============================] - 3s 2ms/step - loss: 0.2644 - accuracy: 0.9047 - val_loss: 0.3107 - val_accuracy: 0.8886\n",
      "Epoch 22/30\n",
      "1719/1719 [==============================] - 3s 2ms/step - loss: 0.2595 - accuracy: 0.9067 - val_loss: 0.3350 - val_accuracy: 0.8750\n",
      "Epoch 23/30\n",
      "1719/1719 [==============================] - 3s 2ms/step - loss: 0.2550 - accuracy: 0.9074 - val_loss: 0.3022 - val_accuracy: 0.8894\n",
      "Epoch 24/30\n",
      "1719/1719 [==============================] - 4s 2ms/step - loss: 0.2505 - accuracy: 0.9099 - val_loss: 0.3014 - val_accuracy: 0.8906\n",
      "Epoch 25/30\n",
      "1719/1719 [==============================] - 4s 2ms/step - loss: 0.2461 - accuracy: 0.9124 - val_loss: 0.3047 - val_accuracy: 0.8876\n",
      "Epoch 26/30\n",
      "1719/1719 [==============================] - 4s 2ms/step - loss: 0.2410 - accuracy: 0.9135 - val_loss: 0.3088 - val_accuracy: 0.8856\n",
      "Epoch 27/30\n",
      "1719/1719 [==============================] - 4s 2ms/step - loss: 0.2387 - accuracy: 0.9139 - val_loss: 0.3023 - val_accuracy: 0.8896\n",
      "Epoch 28/30\n",
      "1719/1719 [==============================] - 4s 2ms/step - loss: 0.2349 - accuracy: 0.9154 - val_loss: 0.2914 - val_accuracy: 0.8962\n",
      "Epoch 29/30\n",
      "1719/1719 [==============================] - 4s 2ms/step - loss: 0.2301 - accuracy: 0.9165 - val_loss: 0.2974 - val_accuracy: 0.8924\n",
      "Epoch 30/30\n",
      "1719/1719 [==============================] - 4s 2ms/step - loss: 0.2264 - accuracy: 0.9188 - val_loss: 0.3194 - val_accuracy: 0.8852\n"
     ]
    }
   ],
   "source": [
    "'''将输入特征X_train、目标类y_train和要训练的轮次epoch传递给模型,\n",
    "   还传递了一个验证集（可选），进行神经网络的训练,在每个轮次测量在验证集上的指标并打印\n",
    "'''\n",
    "#若训练集性能好于验证集，则模型可能过拟合训练集\n",
    "mymodel = model.fit(X_train, y_train, epochs=30,\n",
    "                    validation_data=(X_valid, y_valid))"
   ]
  },
  {
   "cell_type": "code",
   "execution_count": 26,
   "metadata": {
    "ExecuteTime": {
     "end_time": "2022-11-08T11:54:05.735363Z",
     "start_time": "2022-11-08T11:54:05.719861Z"
    }
   },
   "outputs": [
    {
     "data": {
      "text/plain": [
       "{'verbose': 1, 'epochs': 30, 'steps': 1719}"
      ]
     },
     "execution_count": 26,
     "metadata": {},
     "output_type": "execute_result"
    }
   ],
   "source": [
    "mymodel.params#训练参数"
   ]
  },
  {
   "cell_type": "code",
   "execution_count": 27,
   "metadata": {
    "ExecuteTime": {
     "end_time": "2022-11-08T11:54:05.751117Z",
     "start_time": "2022-11-08T11:54:05.735363Z"
    }
   },
   "outputs": [
    {
     "name": "stdout",
     "output_type": "stream",
     "text": [
      "[0, 1, 2, 3, 4, 5, 6, 7, 8, 9, 10, 11, 12, 13, 14, 15, 16, 17, 18, 19, 20, 21, 22, 23, 24, 25, 26, 27, 28, 29]\n"
     ]
    }
   ],
   "source": [
    "print(mymodel.epoch)#轮次列表"
   ]
  },
  {
   "cell_type": "code",
   "execution_count": 28,
   "metadata": {
    "ExecuteTime": {
     "end_time": "2022-11-08T11:54:05.767140Z",
     "start_time": "2022-11-08T11:54:05.754144Z"
    }
   },
   "outputs": [
    {
     "data": {
      "text/plain": [
       "dict_keys(['loss', 'accuracy', 'val_loss', 'val_accuracy'])"
      ]
     },
     "execution_count": 28,
     "metadata": {},
     "output_type": "execute_result"
    }
   ],
   "source": [
    "mymodel.history.keys()\n",
    "#包含在训练集和验证集上每轮次结束时测得的损失和格外指标的字典"
   ]
  },
  {
   "cell_type": "code",
   "execution_count": 29,
   "metadata": {
    "ExecuteTime": {
     "end_time": "2022-11-08T11:54:05.964705Z",
     "start_time": "2022-11-08T11:54:05.769139Z"
    }
   },
   "outputs": [
    {
     "data": {
      "image/png": "[encoded data removed]",
      "text/plain": [
       "<Figure size 576x360 with 1 Axes>"
      ]
     },
     "metadata": {
      "needs_background": "light"
     },
     "output_type": "display_data"
    }
   ],
   "source": [
    "import pandas as pd\n",
    "#画出学习曲线：\n",
    "'''每个轮次测得的平均训练损失和准确率以及平均验证损失和准确率'''\n",
    "\n",
    "pd.DataFrame(mymodel.history).plot(figsize=(8, 5))\n",
    "plt.grid(True)#设置网格线\n",
    "plt.gca().set_ylim(0, 1)#设置纵坐标范围为0-1\n",
    "plt.show()"
   ]
  },
  {
   "cell_type": "markdown",
   "metadata": {},
   "source": [
    "model.evaluate(): 输入数据(data)和真实标签(label),将预测结果与真实标签比较,输出损失值和选定的指标值"
   ]
  },
  {
   "cell_type": "code",
   "execution_count": 30,
   "metadata": {
    "ExecuteTime": {
     "end_time": "2022-11-08T11:54:06.473189Z",
     "start_time": "2022-11-08T11:54:05.966706Z"
    }
   },
   "outputs": [
    {
     "name": "stdout",
     "output_type": "stream",
     "text": [
      "313/313 [==============================] - 0s 1ms/step - loss: 0.3514 - accuracy: 0.8755\n"
     ]
    },
    {
     "data": {
      "text/plain": [
       "[0.35142070055007935, 0.8755000233650208]"
      ]
     },
     "execution_count": 30,
     "metadata": {},
     "output_type": "execute_result"
    }
   ],
   "source": [
    "model.evaluate(X_test, y_test)#查看模型性能"
   ]
  },
  {
   "cell_type": "markdown",
   "metadata": {},
   "source": [
    "### 使用模型进行预测"
   ]
  },
  {
   "cell_type": "markdown",
   "metadata": {},
   "source": [
    "model.predict():输入测试数据，输出预测结果(通常用在需要得到预测结果的时候，比如需要拿到结果来画图)\n",
    "\n",
    "round（）：将数字四舍五入，参数为小数点位数"
   ]
  },
  {
   "cell_type": "code",
   "execution_count": 31,
   "metadata": {
    "ExecuteTime": {
     "end_time": "2022-11-08T11:54:06.614234Z",
     "start_time": "2022-11-08T11:54:06.473189Z"
    }
   },
   "outputs": [
    {
     "data": {
      "text/plain": [
       "array([[0.  , 0.  , 0.  , 0.  , 0.  , 0.  , 0.  , 0.  , 0.  , 0.99],\n",
       "       [0.  , 0.  , 1.  , 0.  , 0.  , 0.  , 0.  , 0.  , 0.  , 0.  ],\n",
       "       [0.  , 1.  , 0.  , 0.  , 0.  , 0.  , 0.  , 0.  , 0.  , 0.  ],\n",
       "       [0.  , 1.  , 0.  , 0.  , 0.  , 0.  , 0.  , 0.  , 0.  , 0.  ]],\n",
       "      dtype=float32)"
      ]
     },
     "execution_count": 31,
     "metadata": {},
     "output_type": "execute_result"
    }
   ],
   "source": [
    "#使用模型预测新的实例（测试集的前三个实例）\n",
    "#打印出实例属于每个类的概率\n",
    "X_new = X_test[:4]\n",
    "y_proba = model.predict(X_new)#返回预测结果\n",
    "y_proba.round(2)#将数字四舍五入到两位"
   ]
  },
  {
   "cell_type": "markdown",
   "metadata": {},
   "source": [
    "model.predict_classes()：预测的标签选取概率最大的"
   ]
  },
  {
   "cell_type": "code",
   "execution_count": 32,
   "metadata": {
    "ExecuteTime": {
     "end_time": "2022-11-08T11:54:06.676504Z",
     "start_time": "2022-11-08T11:54:06.614234Z"
    }
   },
   "outputs": [
    {
     "data": {
      "text/plain": [
       "array([9, 2, 1, 1], dtype=int64)"
      ]
     },
     "execution_count": 32,
     "metadata": {},
     "output_type": "execute_result"
    }
   ],
   "source": [
    "import numpy as np\n",
    "#y_pred = model.predict_classes(X_new) # deprecated\n",
    "y_pred = np.argmax(model.predict(X_new), axis=-1)\n",
    "y_pred"
   ]
  },
  {
   "cell_type": "code",
   "execution_count": 33,
   "metadata": {
    "ExecuteTime": {
     "end_time": "2022-11-08T11:54:06.692126Z",
     "start_time": "2022-11-08T11:54:06.676504Z"
    }
   },
   "outputs": [
    {
     "data": {
      "text/plain": [
       "array(['Ankle boot', 'Pullover', 'Trouser', 'Trouser'], dtype='<U11')"
      ]
     },
     "execution_count": 33,
     "metadata": {},
     "output_type": "execute_result"
    }
   ],
   "source": [
    "np.array(class_names)[y_pred]"
   ]
  },
  {
   "cell_type": "code",
   "execution_count": 34,
   "metadata": {
    "ExecuteTime": {
     "end_time": "2022-11-08T11:54:06.707600Z",
     "start_time": "2022-11-08T11:54:06.692126Z"
    }
   },
   "outputs": [
    {
     "data": {
      "text/plain": [
       "array([9, 2, 1, 1], dtype=uint8)"
      ]
     },
     "execution_count": 34,
     "metadata": {},
     "output_type": "execute_result"
    }
   ],
   "source": [
    "y_new = y_test[:4]\n",
    "y_new"
   ]
  },
  {
   "cell_type": "code",
   "execution_count": 35,
   "metadata": {
    "ExecuteTime": {
     "end_time": "2022-11-08T11:54:06.848383Z",
     "start_time": "2022-11-08T11:54:06.707600Z"
    }
   },
   "outputs": [
    {
     "data": {
      "image/png": "[encoded data removed]",
      "text/plain": [
       "<Figure size 432x288 with 4 Axes>"
      ]
     },
     "metadata": {},
     "output_type": "display_data"
    }
   ],
   "source": [
    "'''示例可视化'''\n",
    "fig, ax = plt.subplots(nrows=2, ncols=2, sharex='all', sharey='all')\n",
    "ax = ax.flatten()\n",
    "for i in range(4):\n",
    "    img = X_test[i].reshape(28, 28)\n",
    "    #ax[i].imshow(img,cmap='Greys')#灰度图\n",
    "    ax[i].imshow(img,cmap='binary')#黑白图\n",
    "ax[0].set_xticks([])\n",
    "ax[0].set_yticks([])\n",
    "plt.tight_layout()\n",
    "plt.rcParams['figure.figsize'] =(20.0, 10.0)#设置图像大小\n",
    "plt.show()"
   ]
  },
  {
   "cell_type": "code",
   "execution_count": 36,
   "metadata": {
    "ExecuteTime": {
     "end_time": "2022-11-08T11:54:06.864016Z",
     "start_time": "2022-11-08T11:54:06.848383Z"
    }
   },
   "outputs": [
    {
     "data": {
      "text/plain": [
       "'Trouser'"
      ]
     },
     "execution_count": 36,
     "metadata": {},
     "output_type": "execute_result"
    }
   ],
   "source": [
    "## 显示第三幅图像代表的种类\n",
    "class_names[y_test[2]]"
   ]
  },
  {
   "cell_type": "code",
   "execution_count": null,
   "metadata": {},
   "outputs": [],
   "source": []
  }
 ],
 "metadata": {
  "kernelspec": {
   "display_name": "Python 3",
   "language": "python",
   "name": "python3"
  },
  "language_info": {
   "codemirror_mode": {
    "name": "ipython",
    "version": 3
   },
   "file_extension": ".py",
   "mimetype": "text/x-python",
   "name": "python",
   "nbconvert_exporter": "python",
   "pygments_lexer": "ipython3",
   "version": "3.7.0"
  }
 },
 "nbformat": 4,
 "nbformat_minor": 2
}
