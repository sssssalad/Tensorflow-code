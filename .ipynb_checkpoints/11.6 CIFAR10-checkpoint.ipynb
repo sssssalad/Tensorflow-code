{
 "cells": [
  {
   "cell_type": "code",
   "execution_count": 1,
   "metadata": {
    "ExecuteTime": {
     "end_time": "2022-10-26T01:28:10.142297Z",
     "start_time": "2022-10-26T01:28:00.887470Z"
    }
   },
   "outputs": [],
   "source": [
    "import numpy as np\n",
    "import os\n",
    "import tensorflow as tf\n",
    "from tensorflow import keras\n",
    "\n",
    "#\n",
    "np.random.seed(42)\n",
    "tf.random.set_seed(42)"
   ]
  },
  {
   "cell_type": "markdown",
   "metadata": {},
   "source": [
    "### a"
   ]
  },
  {
   "cell_type": "markdown",
   "metadata": {},
   "source": [
    "#### Build a DNN with 20 hidden layers of 100 neurons each (that's too many, but it's the point of this exercise). Use He initialization and the ELU activation function."
   ]
  },
  {
   "cell_type": "code",
   "execution_count": 2,
   "metadata": {
    "ExecuteTime": {
     "end_time": "2022-10-26T01:28:11.383089Z",
     "start_time": "2022-10-26T01:28:10.142297Z"
    }
   },
   "outputs": [],
   "source": [
    "from functools import partial\n",
    "\n",
    "#包装每个神经网络层的默认参数值\n",
    "RegularizedDense = partial(keras.layers.Dense,\n",
    "                           activation=\"elu\",\n",
    "                           kernel_initializer=\"he_normal\",)\n",
    "\n",
    "model = keras.models.Sequential()\n",
    "model.add(keras.layers.Flatten(input_shape=[32,32,3]))\n",
    "for i in range(20):\n",
    "    model.add(RegularizedDense(100)),"
   ]
  },
  {
   "cell_type": "markdown",
   "metadata": {},
   "source": [
    "### b"
   ]
  },
  {
   "cell_type": "markdown",
   "metadata": {},
   "source": [
    "#### Using Nadam optimization and early stopping, train the network on the CIFAR10 dataset. You can load it with keras.datasets.cifar10.load_data(). "
   ]
  },
  {
   "cell_type": "markdown",
   "metadata": {},
   "source": [
    "#### The dataset is composed of 60,000 32 × 32–pixel color images (50,000 for training, 10,000 for testing) with 10 classes, so you'll need a softmax output layer with 10 neurons. "
   ]
  },
  {
   "cell_type": "markdown",
   "metadata": {},
   "source": [
    "#### Remember to search for the right learning rate each time you change the model's architecture or hyperparameters."
   ]
  },
  {
   "cell_type": "markdown",
   "metadata": {},
   "source": [
    "### 使用Nadm优化器和提前停止，训练用时3m57s，ACC为49.23%"
   ]
  },
  {
   "cell_type": "code",
   "execution_count": 3,
   "metadata": {
    "ExecuteTime": {
     "end_time": "2022-10-26T01:28:11.399090Z",
     "start_time": "2022-10-26T01:28:11.384090Z"
    }
   },
   "outputs": [],
   "source": [
    "model.add(RegularizedDense(10, activation=\"softmax\"))"
   ]
  },
  {
   "cell_type": "code",
   "execution_count": 4,
   "metadata": {
    "ExecuteTime": {
     "end_time": "2022-10-26T01:28:11.447089Z",
     "start_time": "2022-10-26T01:28:11.410095Z"
    }
   },
   "outputs": [],
   "source": [
    "optimizer = keras.optimizers.Nadam(learning_rate=5e-5)\n",
    "#学习率参数值非常重要\n",
    "\n",
    "model.compile(loss=\"sparse_categorical_crossentropy\",\n",
    "            optimizer=optimizer,\n",
    "            metrics=[\"accuracy\"])"
   ]
  },
  {
   "cell_type": "code",
   "execution_count": 5,
   "metadata": {
    "ExecuteTime": {
     "end_time": "2022-10-26T01:28:11.462091Z",
     "start_time": "2022-10-26T01:28:11.449094Z"
    }
   },
   "outputs": [],
   "source": [
    "\"\"\"EarlyStopping回调：追踪最佳权重，在训练结束时还原\"\"\"\n",
    "#patience参数决定多少轮次模型在验证集上没有进展后停止训练\n",
    "#restore_best_weights=True即为结束时自动回溯到最佳模型\n",
    "\n",
    "checkpoint_cb = keras.callbacks.ModelCheckpoint(\"my_keras_model.h5\", \n",
    "                                                save_best_only=True)\n",
    "early_stopping_cb=keras.callbacks.EarlyStopping(patience=10,\n",
    "                                               restore_best_weights=True)"
   ]
  },
  {
   "cell_type": "code",
   "execution_count": 6,
   "metadata": {
    "ExecuteTime": {
     "end_time": "2022-10-26T01:28:13.037190Z",
     "start_time": "2022-10-26T01:28:11.464091Z"
    }
   },
   "outputs": [],
   "source": [
    "#\n",
    "(X_train_full,y_train_full),(X_test,y_test) = keras.datasets.cifar10.load_data()\n",
    "#10个类别，60000个32×32像素图像，50000个用于训练，10000个用于测试\n",
    "\n",
    "X_train = X_train_full[5000:]\n",
    "y_train = y_train_full[5000:]\n",
    "X_valid = X_train_full[:5000]\n",
    "y_valid = y_train_full[:5000]\n",
    "\n",
    "#归一化输入特征\n",
    "X_train = X_train/255.0\n",
    "X_test = X_test/255.0\n",
    "X_valid = X_valid/255.0\n",
    "X_test = X_test/255.0"
   ]
  },
  {
   "cell_type": "code",
   "execution_count": 7,
   "metadata": {
    "ExecuteTime": {
     "end_time": "2022-10-26T01:28:13.053163Z",
     "start_time": "2022-10-26T01:28:13.038156Z"
    }
   },
   "outputs": [
    {
     "data": {
      "text/plain": [
       "(45000, 32, 32, 3)"
      ]
     },
     "execution_count": 7,
     "metadata": {},
     "output_type": "execute_result"
    }
   ],
   "source": [
    "X_train.shape"
   ]
  },
  {
   "cell_type": "code",
   "execution_count": 8,
   "metadata": {
    "ExecuteTime": {
     "end_time": "2022-10-26T01:28:13.069158Z",
     "start_time": "2022-10-26T01:28:13.055158Z"
    }
   },
   "outputs": [
    {
     "data": {
      "text/plain": [
       "(45000, 1)"
      ]
     },
     "execution_count": 8,
     "metadata": {},
     "output_type": "execute_result"
    }
   ],
   "source": [
    "y_train.shape"
   ]
  },
  {
   "cell_type": "code",
   "execution_count": 9,
   "metadata": {
    "ExecuteTime": {
     "end_time": "2022-10-26T01:28:13.084158Z",
     "start_time": "2022-10-26T01:28:13.071159Z"
    }
   },
   "outputs": [
    {
     "data": {
      "text/plain": [
       "(10000, 32, 32, 3)"
      ]
     },
     "execution_count": 9,
     "metadata": {},
     "output_type": "execute_result"
    }
   ],
   "source": [
    "X_test.shape"
   ]
  },
  {
   "cell_type": "code",
   "execution_count": 10,
   "metadata": {
    "ExecuteTime": {
     "end_time": "2022-10-26T01:28:13.099165Z",
     "start_time": "2022-10-26T01:28:13.087156Z"
    }
   },
   "outputs": [
    {
     "data": {
      "text/plain": [
       "(10000, 1)"
      ]
     },
     "execution_count": 10,
     "metadata": {},
     "output_type": "execute_result"
    }
   ],
   "source": [
    "y_test.shape"
   ]
  },
  {
   "cell_type": "code",
   "execution_count": 11,
   "metadata": {
    "ExecuteTime": {
     "end_time": "2022-10-26T01:32:09.871208Z",
     "start_time": "2022-10-26T01:28:13.103162Z"
    }
   },
   "outputs": [
    {
     "name": "stdout",
     "output_type": "stream",
     "text": [
      "Epoch 1/20\n",
      "1407/1407 [==============================] - 12s 7ms/step - loss: 1.9176 - accuracy: 0.3029 - val_loss: 1.7596 - val_accuracy: 0.3610\n",
      "Epoch 2/20\n",
      "1407/1407 [==============================] - 10s 7ms/step - loss: 1.7119 - accuracy: 0.3827 - val_loss: 1.7395 - val_accuracy: 0.3580\n",
      "Epoch 3/20\n",
      "1407/1407 [==============================] - 11s 7ms/step - loss: 1.6227 - accuracy: 0.4149 - val_loss: 1.7282 - val_accuracy: 0.3698\n",
      "Epoch 4/20\n",
      "1407/1407 [==============================] - 11s 8ms/step - loss: 1.5593 - accuracy: 0.4388 - val_loss: 1.6314 - val_accuracy: 0.4214\n",
      "Epoch 5/20\n",
      "1407/1407 [==============================] - 12s 9ms/step - loss: 1.5166 - accuracy: 0.4564 - val_loss: 1.5317 - val_accuracy: 0.4480\n",
      "Epoch 6/20\n",
      "1407/1407 [==============================] - 11s 8ms/step - loss: 1.4798 - accuracy: 0.4705 - val_loss: 1.5381 - val_accuracy: 0.4486\n",
      "Epoch 7/20\n",
      "1407/1407 [==============================] - 11s 8ms/step - loss: 1.4490 - accuracy: 0.4790 - val_loss: 1.5494 - val_accuracy: 0.4428\n",
      "Epoch 8/20\n",
      "1407/1407 [==============================] - 11s 8ms/step - loss: 1.4237 - accuracy: 0.4908 - val_loss: 1.4825 - val_accuracy: 0.4652\n",
      "Epoch 9/20\n",
      "1407/1407 [==============================] - 11s 8ms/step - loss: 1.4003 - accuracy: 0.4989 - val_loss: 1.4837 - val_accuracy: 0.4706\n",
      "Epoch 10/20\n",
      "1407/1407 [==============================] - 12s 8ms/step - loss: 1.3778 - accuracy: 0.5074 - val_loss: 1.5228 - val_accuracy: 0.4462\n",
      "Epoch 11/20\n",
      "1407/1407 [==============================] - 12s 9ms/step - loss: 1.3598 - accuracy: 0.5156 - val_loss: 1.4796 - val_accuracy: 0.4644\n",
      "Epoch 12/20\n",
      "1407/1407 [==============================] - 12s 9ms/step - loss: 1.3404 - accuracy: 0.5182 - val_loss: 1.5128 - val_accuracy: 0.4694\n",
      "Epoch 13/20\n",
      "1407/1407 [==============================] - 12s 9ms/step - loss: 1.3214 - accuracy: 0.5262 - val_loss: 1.4671 - val_accuracy: 0.4890\n",
      "Epoch 14/20\n",
      "1407/1407 [==============================] - 12s 9ms/step - loss: 1.3063 - accuracy: 0.5317 - val_loss: 1.4501 - val_accuracy: 0.4822\n",
      "Epoch 15/20\n",
      "1407/1407 [==============================] - 12s 9ms/step - loss: 1.2879 - accuracy: 0.5396 - val_loss: 1.4613 - val_accuracy: 0.4850\n",
      "Epoch 16/20\n",
      "1407/1407 [==============================] - 13s 9ms/step - loss: 1.2708 - accuracy: 0.5478 - val_loss: 1.4522 - val_accuracy: 0.4892\n",
      "Epoch 17/20\n",
      "1407/1407 [==============================] - 12s 9ms/step - loss: 1.2547 - accuracy: 0.5518 - val_loss: 1.4484 - val_accuracy: 0.4924\n",
      "Epoch 18/20\n",
      "1407/1407 [==============================] - 12s 9ms/step - loss: 1.2424 - accuracy: 0.5563 - val_loss: 1.4512 - val_accuracy: 0.4936\n",
      "Epoch 19/20\n",
      "1407/1407 [==============================] - 12s 9ms/step - loss: 1.2261 - accuracy: 0.5612 - val_loss: 1.4590 - val_accuracy: 0.4832\n",
      "Epoch 20/20\n",
      "1407/1407 [==============================] - 12s 9ms/step - loss: 1.2102 - accuracy: 0.5673 - val_loss: 1.4785 - val_accuracy: 0.4832\n"
     ]
    }
   ],
   "source": [
    "history = model.fit(X_train,y_train,epochs=20,\n",
    "                    validation_data=(X_valid, y_valid),\n",
    "                    callbacks=[early_stopping_cb,checkpoint_cb])"
   ]
  },
  {
   "cell_type": "code",
   "execution_count": 12,
   "metadata": {
    "ExecuteTime": {
     "end_time": "2022-10-26T01:32:11.049432Z",
     "start_time": "2022-10-26T01:32:09.873210Z"
    }
   },
   "outputs": [
    {
     "name": "stdout",
     "output_type": "stream",
     "text": [
      "157/157 [==============================] - 1s 2ms/step - loss: 1.4484 - accuracy: 0.4924\n"
     ]
    },
    {
     "data": {
      "text/plain": [
       "[1.4483685493469238, 0.49239999055862427]"
      ]
     },
     "execution_count": 12,
     "metadata": {},
     "output_type": "execute_result"
    }
   ],
   "source": [
    "model=keras.models.load_model(\"my_keras_model.h5\")\n",
    "model.evaluate(X_valid, y_valid)"
   ]
  },
  {
   "cell_type": "markdown",
   "metadata": {},
   "source": [
    "#### 使用Nadm优化器和提前停止，训练用时3m57s，ACC为49.23%"
   ]
  },
  {
   "cell_type": "markdown",
   "metadata": {},
   "source": [
    "### c"
   ]
  },
  {
   "cell_type": "markdown",
   "metadata": {},
   "source": [
    "####  Now try adding Batch Normalization and compare the learning curves（曲线）: Is it converging（收敛） faster than before? Does it produce a better model? How does it affect training speed?"
   ]
  },
  {
   "cell_type": "markdown",
   "metadata": {},
   "source": [
    "#### 在激活函数之后使用BN层，训练时间为6m59s，ACC为49.86%"
   ]
  },
  {
   "cell_type": "markdown",
   "metadata": {},
   "source": [
    "#### 在激活函数之前使用BN层，训练时间为6m54s，ACC为50.67%"
   ]
  },
  {
   "cell_type": "markdown",
   "metadata": {},
   "source": [
    "### 训练时间几乎是原始模型的两倍，但准确度有所提高"
   ]
  },
  {
   "cell_type": "code",
   "execution_count": 13,
   "metadata": {
    "ExecuteTime": {
     "end_time": "2022-10-26T01:32:11.492231Z",
     "start_time": "2022-10-26T01:32:11.051468Z"
    }
   },
   "outputs": [],
   "source": [
    "#在激活函数后使用BN\n",
    "model_BN_after=keras.Sequential()\n",
    "\n",
    "model_BN_after.add(keras.layers.Flatten(input_shape=[32,32,3]))\n",
    "model_BN_after.add(keras.layers.BatchNormalization())\n",
    "\n",
    "for i in range(20):\n",
    "    model_BN_after.add(RegularizedDense(100)),\n",
    "    model_BN_after.add(keras.layers.BatchNormalization())\n",
    "    \n",
    "model_BN_after.add(RegularizedDense(10,activation='softmax'))"
   ]
  },
  {
   "cell_type": "code",
   "execution_count": 14,
   "metadata": {
    "ExecuteTime": {
     "end_time": "2022-10-26T01:32:11.933713Z",
     "start_time": "2022-10-26T01:32:11.494143Z"
    }
   },
   "outputs": [],
   "source": [
    "#在激活函数之前使用BN\n",
    "model_BN_before=keras.Sequential()\n",
    "\n",
    "model_BN_before.add(keras.layers.Flatten(input_shape=[32,32,3]))\n",
    "model_BN_before.add(keras.layers.BatchNormalization())\n",
    "\n",
    "for i in range(20):\n",
    "    model_BN_before.add(keras.layers.Dense(100,use_bias=False,kernel_initializer=\"he_normal\")),\n",
    "    #设置偏置为0,\n",
    "    model_BN_before.add(keras.layers.BatchNormalization()),\n",
    "    model_BN_before.add(keras.layers.Activation(\"elu\"))\n",
    "    \n",
    "model_BN_before.add(RegularizedDense(10,activation='softmax'))"
   ]
  },
  {
   "cell_type": "code",
   "execution_count": 15,
   "metadata": {
    "ExecuteTime": {
     "end_time": "2022-10-26T01:32:11.964440Z",
     "start_time": "2022-10-26T01:32:11.935445Z"
    }
   },
   "outputs": [],
   "source": [
    "# optimizer = keras.optimizers.Nadam(learning_rate=5e-5)\n",
    "# #学习率参数值非常重要\n",
    "\n",
    "checkpoint_cb_BN_after = keras.callbacks.ModelCheckpoint(\"my_keras_bn_after_model.h5\", \n",
    "                                                 save_best_only=True)\n",
    "checkpoint_cb_BN_before = keras.callbacks.ModelCheckpoint(\"my_keras_bn_before_model.h5\", \n",
    "                                                 save_best_only=True)\n",
    "# early_stopping_cb=keras.callbacks.EarlyStopping(patience=10,\n",
    "#                                                restore_best_weights=True)\n",
    "model_BN_after.compile(loss=\"sparse_categorical_crossentropy\",\n",
    "            optimizer=optimizer,\n",
    "            metrics=[\"accuracy\"])\n",
    "\n",
    "model_BN_before.compile(loss=\"sparse_categorical_crossentropy\",\n",
    "            optimizer=optimizer,\n",
    "            metrics=[\"accuracy\"])\n"
   ]
  },
  {
   "cell_type": "code",
   "execution_count": 16,
   "metadata": {
    "ExecuteTime": {
     "end_time": "2022-10-26T01:39:11.031921Z",
     "start_time": "2022-10-26T01:32:11.966398Z"
    }
   },
   "outputs": [
    {
     "name": "stdout",
     "output_type": "stream",
     "text": [
      "Epoch 1/20\n",
      "1407/1407 [==============================] - 28s 15ms/step - loss: 2.0536 - accuracy: 0.2674 - val_loss: 1.8114 - val_accuracy: 0.3466\n",
      "Epoch 2/20\n",
      "1407/1407 [==============================] - 20s 14ms/step - loss: 1.8512 - accuracy: 0.3370 - val_loss: 1.7134 - val_accuracy: 0.3868\n",
      "Epoch 3/20\n",
      "1407/1407 [==============================] - 22s 16ms/step - loss: 1.7699 - accuracy: 0.3686 - val_loss: 1.6469 - val_accuracy: 0.4158\n",
      "Epoch 4/20\n",
      "1407/1407 [==============================] - 22s 15ms/step - loss: 1.7131 - accuracy: 0.3878 - val_loss: 1.6047 - val_accuracy: 0.4314\n",
      "Epoch 5/20\n",
      "1407/1407 [==============================] - 20s 14ms/step - loss: 1.6653 - accuracy: 0.4074 - val_loss: 1.5653 - val_accuracy: 0.4418\n",
      "Epoch 6/20\n",
      "1407/1407 [==============================] - 20s 14ms/step - loss: 1.6297 - accuracy: 0.4205 - val_loss: 1.5348 - val_accuracy: 0.4518\n",
      "Epoch 7/20\n",
      "1407/1407 [==============================] - 20s 14ms/step - loss: 1.5917 - accuracy: 0.4319 - val_loss: 1.5195 - val_accuracy: 0.4568\n",
      "Epoch 8/20\n",
      "1407/1407 [==============================] - 20s 14ms/step - loss: 1.5678 - accuracy: 0.4438 - val_loss: 1.5001 - val_accuracy: 0.4662\n",
      "Epoch 9/20\n",
      "1407/1407 [==============================] - 20s 14ms/step - loss: 1.5455 - accuracy: 0.4514 - val_loss: 1.4819 - val_accuracy: 0.4696\n",
      "Epoch 10/20\n",
      "1407/1407 [==============================] - 20s 15ms/step - loss: 1.5191 - accuracy: 0.4618 - val_loss: 1.4715 - val_accuracy: 0.4750\n",
      "Epoch 11/20\n",
      "1407/1407 [==============================] - 20s 15ms/step - loss: 1.5026 - accuracy: 0.4677 - val_loss: 1.4571 - val_accuracy: 0.4786\n",
      "Epoch 12/20\n",
      "1407/1407 [==============================] - 20s 14ms/step - loss: 1.4785 - accuracy: 0.4755 - val_loss: 1.4569 - val_accuracy: 0.4844\n",
      "Epoch 13/20\n",
      "1407/1407 [==============================] - 21s 15ms/step - loss: 1.4638 - accuracy: 0.4800 - val_loss: 1.4480 - val_accuracy: 0.4872\n",
      "Epoch 14/20\n",
      "1407/1407 [==============================] - 20s 14ms/step - loss: 1.4436 - accuracy: 0.4882 - val_loss: 1.4295 - val_accuracy: 0.4946\n",
      "Epoch 15/20\n",
      "1407/1407 [==============================] - 20s 14ms/step - loss: 1.4254 - accuracy: 0.4927 - val_loss: 1.4330 - val_accuracy: 0.4924\n",
      "Epoch 16/20\n",
      "1407/1407 [==============================] - 21s 15ms/step - loss: 1.4171 - accuracy: 0.4975 - val_loss: 1.4175 - val_accuracy: 0.4952\n",
      "Epoch 17/20\n",
      "1407/1407 [==============================] - 21s 15ms/step - loss: 1.3988 - accuracy: 0.5036 - val_loss: 1.4155 - val_accuracy: 0.4998\n",
      "Epoch 18/20\n",
      "1407/1407 [==============================] - 21s 15ms/step - loss: 1.3826 - accuracy: 0.5072 - val_loss: 1.3967 - val_accuracy: 0.5022\n",
      "Epoch 19/20\n",
      "1407/1407 [==============================] - 22s 16ms/step - loss: 1.3717 - accuracy: 0.5140 - val_loss: 1.3951 - val_accuracy: 0.4986\n",
      "Epoch 20/20\n",
      "1407/1407 [==============================] - 21s 15ms/step - loss: 1.3614 - accuracy: 0.5159 - val_loss: 1.3957 - val_accuracy: 0.5038\n"
     ]
    }
   ],
   "source": [
    "history_BN_after = model_BN_after.fit(X_train,y_train,epochs=20,\n",
    "                    validation_data=(X_valid, y_valid),\n",
    "                    callbacks=[early_stopping_cb,checkpoint_cb_BN_after])"
   ]
  },
  {
   "cell_type": "code",
   "execution_count": 17,
   "metadata": {
    "ExecuteTime": {
     "end_time": "2022-10-26T01:46:05.043597Z",
     "start_time": "2022-10-26T01:39:11.033927Z"
    }
   },
   "outputs": [
    {
     "name": "stdout",
     "output_type": "stream",
     "text": [
      "Epoch 1/20\n",
      "1407/1407 [==============================] - 27s 14ms/step - loss: 1.9046 - accuracy: 0.3158 - val_loss: 1.6849 - val_accuracy: 0.4052\n",
      "Epoch 2/20\n",
      "1407/1407 [==============================] - 20s 14ms/step - loss: 1.7238 - accuracy: 0.3844 - val_loss: 1.6009 - val_accuracy: 0.4284\n",
      "Epoch 3/20\n",
      "1407/1407 [==============================] - 20s 14ms/step - loss: 1.6555 - accuracy: 0.4105 - val_loss: 1.5496 - val_accuracy: 0.4384\n",
      "Epoch 4/20\n",
      "1407/1407 [==============================] - 21s 15ms/step - loss: 1.6118 - accuracy: 0.4250 - val_loss: 1.5238 - val_accuracy: 0.4576\n",
      "Epoch 5/20\n",
      "1407/1407 [==============================] - 22s 16ms/step - loss: 1.5704 - accuracy: 0.4436 - val_loss: 1.4885 - val_accuracy: 0.4642\n",
      "Epoch 6/20\n",
      "1407/1407 [==============================] - 24s 17ms/step - loss: 1.5392 - accuracy: 0.4503 - val_loss: 1.4728 - val_accuracy: 0.4736\n",
      "Epoch 7/20\n",
      "1407/1407 [==============================] - 20s 14ms/step - loss: 1.5112 - accuracy: 0.4612 - val_loss: 1.4593 - val_accuracy: 0.4734\n",
      "Epoch 8/20\n",
      "1407/1407 [==============================] - 21s 15ms/step - loss: 1.4874 - accuracy: 0.4710 - val_loss: 1.4452 - val_accuracy: 0.4818\n",
      "Epoch 9/20\n",
      "1407/1407 [==============================] - 20s 15ms/step - loss: 1.4694 - accuracy: 0.4811 - val_loss: 1.4330 - val_accuracy: 0.4828\n",
      "Epoch 10/20\n",
      "1407/1407 [==============================] - 20s 14ms/step - loss: 1.4478 - accuracy: 0.4850 - val_loss: 1.4141 - val_accuracy: 0.4856\n",
      "Epoch 11/20\n",
      "1407/1407 [==============================] - 20s 14ms/step - loss: 1.4311 - accuracy: 0.4914 - val_loss: 1.4105 - val_accuracy: 0.4930\n",
      "Epoch 12/20\n",
      "1407/1407 [==============================] - 19s 13ms/step - loss: 1.4097 - accuracy: 0.4998 - val_loss: 1.4185 - val_accuracy: 0.4862\n",
      "Epoch 13/20\n",
      "1407/1407 [==============================] - 19s 14ms/step - loss: 1.3938 - accuracy: 0.5063 - val_loss: 1.4106 - val_accuracy: 0.4972\n",
      "Epoch 14/20\n",
      "1407/1407 [==============================] - 20s 14ms/step - loss: 1.3806 - accuracy: 0.5115 - val_loss: 1.3931 - val_accuracy: 0.5052\n",
      "Epoch 15/20\n",
      "1407/1407 [==============================] - 19s 14ms/step - loss: 1.3641 - accuracy: 0.5172 - val_loss: 1.4086 - val_accuracy: 0.5020\n",
      "Epoch 16/20\n",
      "1407/1407 [==============================] - 21s 15ms/step - loss: 1.3556 - accuracy: 0.5206 - val_loss: 1.3824 - val_accuracy: 0.5042\n",
      "Epoch 17/20\n",
      "1407/1407 [==============================] - 20s 14ms/step - loss: 1.3414 - accuracy: 0.5240 - val_loss: 1.3810 - val_accuracy: 0.5058\n",
      "Epoch 18/20\n",
      "1407/1407 [==============================] - 20s 14ms/step - loss: 1.3264 - accuracy: 0.5285 - val_loss: 1.3750 - val_accuracy: 0.5070\n",
      "Epoch 19/20\n",
      "1407/1407 [==============================] - 22s 16ms/step - loss: 1.3139 - accuracy: 0.5341 - val_loss: 1.3724 - val_accuracy: 0.5068\n",
      "Epoch 20/20\n",
      "1407/1407 [==============================] - 19s 14ms/step - loss: 1.3039 - accuracy: 0.5384 - val_loss: 1.3773 - val_accuracy: 0.5132\n"
     ]
    }
   ],
   "source": [
    "history_BN_before = model_BN_before.fit(X_train,y_train,epochs=20,\n",
    "                    validation_data=(X_valid, y_valid),\n",
    "                    callbacks=[early_stopping_cb,checkpoint_cb_BN_before])"
   ]
  },
  {
   "cell_type": "code",
   "execution_count": 18,
   "metadata": {
    "ExecuteTime": {
     "end_time": "2022-10-26T01:46:06.658485Z",
     "start_time": "2022-10-26T01:46:05.045631Z"
    }
   },
   "outputs": [
    {
     "name": "stdout",
     "output_type": "stream",
     "text": [
      "WARNING:tensorflow:Error in loading the saved optimizer state. As a result, your model is starting with a freshly initialized optimizer.\n",
      "157/157 [==============================] - 1s 3ms/step - loss: 1.3951 - accuracy: 0.4986\n"
     ]
    },
    {
     "data": {
      "text/plain": [
       "[1.3950549364089966, 0.4986000061035156]"
      ]
     },
     "execution_count": 18,
     "metadata": {},
     "output_type": "execute_result"
    }
   ],
   "source": [
    "model_BN_after = keras.models.load_model(\"my_keras_bn_after_model.h5\")\n",
    "model_BN_after.evaluate(X_valid, y_valid)"
   ]
  },
  {
   "cell_type": "markdown",
   "metadata": {},
   "source": [
    "#### 在激活函数之后使用BN层，训练时间为6m59s，ACC为49.86%"
   ]
  },
  {
   "cell_type": "code",
   "execution_count": 19,
   "metadata": {
    "ExecuteTime": {
     "end_time": "2022-10-26T01:46:08.193356Z",
     "start_time": "2022-10-26T01:46:06.660468Z"
    }
   },
   "outputs": [
    {
     "name": "stdout",
     "output_type": "stream",
     "text": [
      "WARNING:tensorflow:Error in loading the saved optimizer state. As a result, your model is starting with a freshly initialized optimizer.\n",
      "157/157 [==============================] - 1s 3ms/step - loss: 1.3724 - accuracy: 0.5068\n"
     ]
    },
    {
     "data": {
      "text/plain": [
       "[1.3724042177200317, 0.5067999958992004]"
      ]
     },
     "execution_count": 19,
     "metadata": {},
     "output_type": "execute_result"
    }
   ],
   "source": [
    "model_BN_before = keras.models.load_model(\"my_keras_bn_before_model.h5\")\n",
    "model_BN_before.evaluate(X_valid, y_valid)"
   ]
  },
  {
   "cell_type": "markdown",
   "metadata": {},
   "source": [
    "#### 在激活函数之前使用BN层，训练时间为6m54s，ACC为50.67%"
   ]
  },
  {
   "cell_type": "markdown",
   "metadata": {},
   "source": [
    "### d"
   ]
  },
  {
   "cell_type": "markdown",
   "metadata": {},
   "source": [
    "#### Try replacing Batch Normalization with SELU, and make the necessary adjustements to ensure the network self-normalizes (i.e., standardize the input features, use LeCun normal initialization, make sure the DNN contains only a sequence of dense layers, etc.)."
   ]
  },
  {
   "cell_type": "markdown",
   "metadata": {},
   "source": [
    "#### 使用SELU和BN层应用在自归一化网络,训练时间为3m26s，ACC为47.24%"
   ]
  },
  {
   "cell_type": "markdown",
   "metadata": {
    "ExecuteTime": {
     "end_time": "2022-10-26T02:53:53.503454Z",
     "start_time": "2022-10-26T02:53:53.485820Z"
    }
   },
   "source": [
    "### 使用自归一化网络后使用BN层训练速度和原始模型差不多，但比单独使用BN层的模型的训练速度快一倍。ACC没有提高。"
   ]
  },
  {
   "cell_type": "code",
   "execution_count": 20,
   "metadata": {
    "ExecuteTime": {
     "end_time": "2022-10-26T01:46:10.206694Z",
     "start_time": "2022-10-26T01:46:08.195355Z"
    }
   },
   "outputs": [],
   "source": [
    "\"\"\"Z-score标准化输入使其平均数为0，标准差为1，\n",
    "    加快梯度下降求最优解速度，可能可以提高精度\"\"\"\n",
    "#归一化输入特征\n",
    "pixel_means = X_train.mean(axis=0, keepdims=True)#平均数\n",
    "pixel_stds = X_train.std(axis=0, keepdims=True)#标准差\n",
    "\n",
    "X_train_scaled = (X_train - pixel_means) / pixel_stds\n",
    "X_valid_scaled = (X_valid - pixel_means) / pixel_stds\n",
    "X_test_scaled = (X_test - pixel_means) / pixel_stds"
   ]
  },
  {
   "cell_type": "code",
   "execution_count": 21,
   "metadata": {
    "ExecuteTime": {
     "end_time": "2022-10-26T01:46:10.424450Z",
     "start_time": "2022-10-26T01:46:10.209448Z"
    }
   },
   "outputs": [],
   "source": [
    "#selu自归一化网络\n",
    "model_selu=keras.Sequential()\n",
    "\n",
    "model_selu.add(keras.layers.Flatten(input_shape=[32,32,3]))\n",
    "\n",
    "for i in range(20):\n",
    "    model_selu.add(keras.layers.Dense(100,activation='selu',\n",
    "                                      kernel_initializer=\"lecun_normal\")),\n",
    "    \n",
    "model_selu.add(RegularizedDense(10,activation='softmax'))"
   ]
  },
  {
   "cell_type": "code",
   "execution_count": 22,
   "metadata": {
    "ExecuteTime": {
     "end_time": "2022-10-26T01:49:36.756961Z",
     "start_time": "2022-10-26T01:46:10.427457Z"
    }
   },
   "outputs": [
    {
     "name": "stdout",
     "output_type": "stream",
     "text": [
      "Epoch 1/20\n",
      "1407/1407 [==============================] - 16s 9ms/step - loss: 1.8410 - accuracy: 0.3386 - val_loss: 1.6982 - val_accuracy: 0.3928\n",
      "Epoch 2/20\n",
      "1407/1407 [==============================] - 14s 10ms/step - loss: 1.6269 - accuracy: 0.4220 - val_loss: 1.6039 - val_accuracy: 0.4202\n",
      "Epoch 3/20\n",
      "1407/1407 [==============================] - 13s 9ms/step - loss: 1.5271 - accuracy: 0.4558 - val_loss: 1.5645 - val_accuracy: 0.4360\n",
      "Epoch 4/20\n",
      "1407/1407 [==============================] - 12s 9ms/step - loss: 1.4602 - accuracy: 0.4801 - val_loss: 1.5450 - val_accuracy: 0.4452\n",
      "Epoch 5/20\n",
      "1407/1407 [==============================] - 12s 9ms/step - loss: 1.4002 - accuracy: 0.5032 - val_loss: 1.5092 - val_accuracy: 0.4692\n",
      "Epoch 6/20\n",
      "1407/1407 [==============================] - 12s 9ms/step - loss: 1.3512 - accuracy: 0.5170 - val_loss: 1.4893 - val_accuracy: 0.4724\n",
      "Epoch 7/20\n",
      "1407/1407 [==============================] - 12s 8ms/step - loss: 1.3084 - accuracy: 0.5350 - val_loss: 1.5019 - val_accuracy: 0.4738\n",
      "Epoch 8/20\n",
      "1407/1407 [==============================] - 12s 9ms/step - loss: 1.2680 - accuracy: 0.5503 - val_loss: 1.4955 - val_accuracy: 0.4704\n",
      "Epoch 9/20\n",
      "1407/1407 [==============================] - 12s 9ms/step - loss: 1.2315 - accuracy: 0.5613 - val_loss: 1.5166 - val_accuracy: 0.4658\n",
      "Epoch 10/20\n",
      "1407/1407 [==============================] - 13s 9ms/step - loss: 1.1978 - accuracy: 0.5743 - val_loss: 1.4959 - val_accuracy: 0.4858\n",
      "Epoch 11/20\n",
      "1407/1407 [==============================] - 13s 10ms/step - loss: 1.1640 - accuracy: 0.5870 - val_loss: 1.4983 - val_accuracy: 0.4848\n",
      "Epoch 12/20\n",
      "1407/1407 [==============================] - 14s 10ms/step - loss: 1.1333 - accuracy: 0.5959 - val_loss: 1.5067 - val_accuracy: 0.4806\n",
      "Epoch 13/20\n",
      "1407/1407 [==============================] - 13s 9ms/step - loss: 1.1013 - accuracy: 0.6072 - val_loss: 1.5195 - val_accuracy: 0.4872\n",
      "Epoch 14/20\n",
      "1407/1407 [==============================] - 13s 9ms/step - loss: 1.0723 - accuracy: 0.6174 - val_loss: 1.4989 - val_accuracy: 0.4838\n",
      "Epoch 15/20\n",
      "1407/1407 [==============================] - 12s 9ms/step - loss: 1.0428 - accuracy: 0.6311 - val_loss: 1.5558 - val_accuracy: 0.4876\n",
      "Epoch 16/20\n",
      "1407/1407 [==============================] - 12s 9ms/step - loss: 1.0151 - accuracy: 0.6397 - val_loss: 1.5499 - val_accuracy: 0.4884\n"
     ]
    }
   ],
   "source": [
    "# optimizer = keras.optimizers.Nadam(learning_rate=5e-5)\n",
    "\n",
    "checkpoint_cb_selu = keras.callbacks.ModelCheckpoint(\"my_keras_selu_model.h5\", \n",
    "                                                 save_best_only=True)\n",
    "# early_stopping_cb=keras.callbacks.EarlyStopping(patience=10,\n",
    "#                                                restore_best_weights=True)\n",
    "model_selu.compile(loss=\"sparse_categorical_crossentropy\",\n",
    "            optimizer=optimizer,\n",
    "            metrics=[\"accuracy\"])\n",
    "\n",
    "history_selu = model_selu.fit(X_train_scaled,y_train,epochs=20,\n",
    "                    validation_data=(X_valid_scaled, y_valid),\n",
    "                    callbacks=[early_stopping_cb,checkpoint_cb_selu])"
   ]
  },
  {
   "cell_type": "code",
   "execution_count": 23,
   "metadata": {
    "ExecuteTime": {
     "end_time": "2022-10-26T01:49:37.875576Z",
     "start_time": "2022-10-26T01:49:36.758926Z"
    }
   },
   "outputs": [
    {
     "name": "stdout",
     "output_type": "stream",
     "text": [
      "WARNING:tensorflow:Error in loading the saved optimizer state. As a result, your model is starting with a freshly initialized optimizer.\n",
      "157/157 [==============================] - 1s 3ms/step - loss: 1.4893 - accuracy: 0.4724\n"
     ]
    },
    {
     "data": {
      "text/plain": [
       "[1.4893200397491455, 0.4724000096321106]"
      ]
     },
     "execution_count": 23,
     "metadata": {},
     "output_type": "execute_result"
    }
   ],
   "source": [
    "model_selu = keras.models.load_model(\"my_keras_selu_model.h5\")\n",
    "model_selu.evaluate(X_valid_scaled, y_valid)"
   ]
  },
  {
   "cell_type": "markdown",
   "metadata": {},
   "source": [
    "#### 使用SELU和BN层应用在自归一化网络,训练时间为3m26s，ACC为47.24%"
   ]
  },
  {
   "cell_type": "markdown",
   "metadata": {},
   "source": [
    "### e"
   ]
  },
  {
   "cell_type": "markdown",
   "metadata": {},
   "source": [
    "####  Try regularizing the model with alpha dropout. "
   ]
  },
  {
   "cell_type": "markdown",
   "metadata": {},
   "source": [
    "### 使用Alpha Dropout训练时间为3m3s，ACC为45.17%"
   ]
  },
  {
   "cell_type": "markdown",
   "metadata": {},
   "source": [
    "#### Then, without retraining your model, see if you can achieve better accuracy using MC Dropout."
   ]
  },
  {
   "cell_type": "markdown",
   "metadata": {},
   "source": [
    "### 使用MC DropoutACC为45%"
   ]
  },
  {
   "cell_type": "code",
   "execution_count": 24,
   "metadata": {
    "ExecuteTime": {
     "end_time": "2022-10-26T01:49:38.080829Z",
     "start_time": "2022-10-26T01:49:37.878542Z"
    }
   },
   "outputs": [
    {
     "data": {
      "text/plain": [
       "(None,)"
      ]
     },
     "execution_count": 24,
     "metadata": {},
     "output_type": "execute_result"
    }
   ],
   "source": [
    "model_Alpha_dp=keras.Sequential()\n",
    "\n",
    "model_Alpha_dp.add(keras.layers.Flatten(input_shape=[32,32,3]))\n",
    "\n",
    "for i in range(20):\n",
    "    model_Alpha_dp.add(keras.layers.Dense(100,activation='selu',\n",
    "                                      kernel_initializer=\"lecun_normal\")),\n",
    "    \n",
    "model_Alpha_dp.add(keras.layers.AlphaDropout(rate=0.2))\n",
    "#用在模型最后一层\n",
    "\n",
    "model_Alpha_dp.add(RegularizedDense(10,activation='softmax')),"
   ]
  },
  {
   "cell_type": "code",
   "execution_count": 25,
   "metadata": {
    "ExecuteTime": {
     "end_time": "2022-10-26T01:49:40.428581Z",
     "start_time": "2022-10-26T01:49:38.083082Z"
    }
   },
   "outputs": [],
   "source": [
    "pixel_means = X_train.mean(axis=0, keepdims=True)#平均数\n",
    "pixel_stds = X_train.std(axis=0, keepdims=True)#标准差\n",
    "\n",
    "X_train_scaled = (X_train - pixel_means) / pixel_stds\n",
    "X_valid_scaled = (X_valid - pixel_means) / pixel_stds\n",
    "X_test_scaled = (X_test - pixel_means) / pixel_stds"
   ]
  },
  {
   "cell_type": "code",
   "execution_count": 26,
   "metadata": {
    "ExecuteTime": {
     "end_time": "2022-10-26T01:52:43.604466Z",
     "start_time": "2022-10-26T01:49:40.428581Z"
    }
   },
   "outputs": [
    {
     "name": "stdout",
     "output_type": "stream",
     "text": [
      "Epoch 1/20\n",
      "1407/1407 [==============================] - 16s 9ms/step - loss: 1.9596 - accuracy: 0.3055 - val_loss: 1.7257 - val_accuracy: 0.3966\n",
      "Epoch 2/20\n",
      "1407/1407 [==============================] - 13s 9ms/step - loss: 1.6871 - accuracy: 0.3995 - val_loss: 1.6534 - val_accuracy: 0.4220\n",
      "Epoch 3/20\n",
      "1407/1407 [==============================] - 13s 9ms/step - loss: 1.5752 - accuracy: 0.4405 - val_loss: 1.5987 - val_accuracy: 0.4440\n",
      "Epoch 4/20\n",
      "1407/1407 [==============================] - 13s 9ms/step - loss: 1.4992 - accuracy: 0.4689 - val_loss: 1.5535 - val_accuracy: 0.4518\n",
      "Epoch 5/20\n",
      "1407/1407 [==============================] - 12s 9ms/step - loss: 1.4413 - accuracy: 0.4916 - val_loss: 1.5927 - val_accuracy: 0.4614\n",
      "Epoch 6/20\n",
      "1407/1407 [==============================] - 13s 9ms/step - loss: 1.3891 - accuracy: 0.5082 - val_loss: 1.5597 - val_accuracy: 0.4706\n",
      "Epoch 7/20\n",
      "1407/1407 [==============================] - 12s 9ms/step - loss: 1.3498 - accuracy: 0.5231 - val_loss: 1.5682 - val_accuracy: 0.4740\n",
      "Epoch 8/20\n",
      "1407/1407 [==============================] - 13s 9ms/step - loss: 1.3092 - accuracy: 0.5344 - val_loss: 1.6115 - val_accuracy: 0.4728\n",
      "Epoch 9/20\n",
      "1407/1407 [==============================] - 13s 10ms/step - loss: 1.2715 - accuracy: 0.5515 - val_loss: 1.6029 - val_accuracy: 0.4750\n",
      "Epoch 10/20\n",
      "1407/1407 [==============================] - 13s 9ms/step - loss: 1.2410 - accuracy: 0.5611 - val_loss: 1.6289 - val_accuracy: 0.4844\n",
      "Epoch 11/20\n",
      "1407/1407 [==============================] - 13s 9ms/step - loss: 1.2071 - accuracy: 0.5713 - val_loss: 1.6202 - val_accuracy: 0.4904\n",
      "Epoch 12/20\n",
      "1407/1407 [==============================] - 14s 10ms/step - loss: 1.1737 - accuracy: 0.5833 - val_loss: 1.6576 - val_accuracy: 0.4804\n",
      "Epoch 13/20\n",
      "1407/1407 [==============================] - 13s 9ms/step - loss: 1.1409 - accuracy: 0.5951 - val_loss: 1.6773 - val_accuracy: 0.4854\n",
      "Epoch 14/20\n",
      "1407/1407 [==============================] - 13s 9ms/step - loss: 1.1149 - accuracy: 0.6033 - val_loss: 1.7086 - val_accuracy: 0.4908\n"
     ]
    }
   ],
   "source": [
    "# optimizer = keras.optimizers.Nadam(learning_rate=5e-5)\n",
    "\n",
    "checkpoint_cb_Alpha_dp = keras.callbacks.ModelCheckpoint(\"my_keras_alpha_dp_model.h5\", \n",
    "                                                 save_best_only=True)\n",
    "# early_stopping_cb=keras.callbacks.EarlyStopping(patience=10,\n",
    "#                                                restore_best_weights=True)\n",
    "model_Alpha_dp.compile(loss=\"sparse_categorical_crossentropy\",\n",
    "            optimizer=optimizer,\n",
    "            metrics=[\"accuracy\"])\n",
    "\n",
    "history_selu = model_Alpha_dp.fit(X_train_scaled,y_train,epochs=20,\n",
    "                    validation_data=(X_valid_scaled, y_valid),\n",
    "                    callbacks=[early_stopping_cb,checkpoint_cb_Alpha_dp ])"
   ]
  },
  {
   "cell_type": "code",
   "execution_count": 27,
   "metadata": {
    "ExecuteTime": {
     "end_time": "2022-10-26T01:52:44.746488Z",
     "start_time": "2022-10-26T01:52:43.606428Z"
    }
   },
   "outputs": [
    {
     "name": "stdout",
     "output_type": "stream",
     "text": [
      "WARNING:tensorflow:Error in loading the saved optimizer state. As a result, your model is starting with a freshly initialized optimizer.\n",
      "157/157 [==============================] - 1s 3ms/step - loss: 1.5535 - accuracy: 0.4518\n"
     ]
    },
    {
     "data": {
      "text/plain": [
       "[1.5535374879837036, 0.45179998874664307]"
      ]
     },
     "execution_count": 27,
     "metadata": {},
     "output_type": "execute_result"
    }
   ],
   "source": [
    "model_Alpha_dp = keras.models.load_model(\"my_keras_alpha_dp_model.h5\")\n",
    "model_Alpha_dp.evaluate(X_valid_scaled, y_valid)"
   ]
  },
  {
   "cell_type": "markdown",
   "metadata": {},
   "source": [
    "#### 使用Alpha Dropout训练时间为3m3s，ACC为45.17%"
   ]
  },
  {
   "cell_type": "markdown",
   "metadata": {},
   "source": [
    "### 使用MC DropoutACC为45%"
   ]
  },
  {
   "cell_type": "code",
   "execution_count": 28,
   "metadata": {
    "ExecuteTime": {
     "end_time": "2022-10-26T01:52:44.952924Z",
     "start_time": "2022-10-26T01:52:44.748491Z"
    }
   },
   "outputs": [],
   "source": [
    "#使用MC Dropout，不重新训练模型\n",
    "\n",
    "class MCAlphaDropout(keras.layers.AlphaDropout):\n",
    "    #继承AlphaDropout层定义MCAlphaDropout类，让其代替Dropout层\n",
    "    def call(self, inputs):\n",
    "        return super().call(inputs, training=True)\n",
    "    \n",
    "#创建一个和my_keras_Alpha_dp_model拥有相同参数的新模型\n",
    "#使用MC Dropout层替代AlphaDropout层\n",
    "model_mc_dp = keras.models.Sequential([\n",
    "    #将MCDropout类替换掉Dropout层\n",
    "    #将已使用Dropout训练好的模型的权重复制到新模型中\n",
    "    MCAlphaDropout(layer.rate) if isinstance(layer, keras.layers.AlphaDropout) else layer\n",
    "    for layer in model_Alpha_dp.layers\n",
    "])"
   ]
  },
  {
   "cell_type": "code",
   "execution_count": 29,
   "metadata": {
    "ExecuteTime": {
     "end_time": "2022-10-26T01:52:44.968928Z",
     "start_time": "2022-10-26T01:52:44.954981Z"
    }
   },
   "outputs": [],
   "source": [
    "def mc_dropout_predict_probas(model_mc_dp, X, n_samples=10):\n",
    "    #用模型对数据集中每个实例进行10次预测\n",
    "    #predict（）返回一个矩阵，每个实例一行每个类一列，y_probas形状为[10,10000,10]\n",
    "    #函数返回y_probas的平均值，得到[10000,10]的矩阵\n",
    "    y_probas = [model_mc_dp.predict(X) for sample in range(n_samples)]\n",
    "    return np.mean(y_probas, axis=0)\n",
    "\n",
    "def mc_dropout_predict_classes(model_mc_dp, X, n_samples=10):\n",
    "    #使用y_proba预测其种类\n",
    "    y_probas = mc_dropout_predict_probas(model_mc_dp, X, n_samples)\n",
    "    return np.argmax(y_probas, axis=1)"
   ]
  },
  {
   "cell_type": "code",
   "execution_count": 30,
   "metadata": {
    "ExecuteTime": {
     "end_time": "2022-10-26T01:52:49.215112Z",
     "start_time": "2022-10-26T01:52:44.971056Z"
    }
   },
   "outputs": [
    {
     "data": {
      "text/plain": [
       "0.45"
      ]
     },
     "execution_count": 30,
     "metadata": {},
     "output_type": "execute_result"
    }
   ],
   "source": [
    "#预测验证集中的所有实例，计算MC Dropout后的准确度\n",
    "y_pred = mc_dropout_predict_classes(model_mc_dp, X_valid_scaled)\n",
    "\n",
    "# accuracy = np.sum(y_pred == y_valid[:, 0]) / len(y_valid)\n",
    "accuracy = np.mean(y_pred == y_valid[:, 0])\n",
    "#mean()：求取平均值\n",
    "\n",
    "accuracy"
   ]
  },
  {
   "cell_type": "code",
   "execution_count": 31,
   "metadata": {
    "ExecuteTime": {
     "end_time": "2022-10-26T01:52:49.230667Z",
     "start_time": "2022-10-26T01:52:49.217166Z"
    }
   },
   "outputs": [
    {
     "data": {
      "text/plain": [
       "(5000, 1)"
      ]
     },
     "execution_count": 31,
     "metadata": {},
     "output_type": "execute_result"
    }
   ],
   "source": [
    "y_valid.shape"
   ]
  },
  {
   "cell_type": "code",
   "execution_count": 32,
   "metadata": {
    "ExecuteTime": {
     "end_time": "2022-10-26T01:52:49.246612Z",
     "start_time": "2022-10-26T01:52:49.233603Z"
    }
   },
   "outputs": [
    {
     "name": "stdout",
     "output_type": "stream",
     "text": [
      "[6 9 9 ... 5 4 6]\n"
     ]
    }
   ],
   "source": [
    "print(y_valid[:,0])\n",
    "#第一个维度有5000个样例，第二个维度为样例的种类"
   ]
  },
  {
   "cell_type": "code",
   "execution_count": 33,
   "metadata": {
    "ExecuteTime": {
     "end_time": "2022-10-26T01:52:49.262606Z",
     "start_time": "2022-10-26T01:52:49.248601Z"
    }
   },
   "outputs": [
    {
     "name": "stdout",
     "output_type": "stream",
     "text": [
      "[6 1 9 ... 9 2 5]\n"
     ]
    }
   ],
   "source": [
    "print(y_pred)"
   ]
  },
  {
   "cell_type": "markdown",
   "metadata": {},
   "source": [
    "### f"
   ]
  },
  {
   "cell_type": "markdown",
   "metadata": {},
   "source": [
    "#### Retrain your model using 1cycle scheduling and see if it improves training speed and model accuracy."
   ]
  },
  {
   "cell_type": "markdown",
   "metadata": {},
   "source": [
    "### 一周期调度方法训练模型时间为2m23s，ACC为51.20%"
   ]
  },
  {
   "cell_type": "markdown",
   "metadata": {},
   "source": [
    "### 训练速度最快，精确度最高"
   ]
  },
  {
   "cell_type": "code",
   "execution_count": 34,
   "metadata": {
    "ExecuteTime": {
     "end_time": "2022-10-26T01:52:49.462636Z",
     "start_time": "2022-10-26T01:52:49.265605Z"
    }
   },
   "outputs": [],
   "source": [
    "#建立模型并编译\n",
    "\n",
    "model_1cycle = keras.models.Sequential()\n",
    "model_1cycle.add(keras.layers.Flatten(input_shape=[32, 32, 3]))\n",
    "for i in range(20):\n",
    "    model_1cycle.add(keras.layers.Dense(100,\n",
    "                                 kernel_initializer=\"lecun_normal\",\n",
    "                                 activation=\"selu\"))\n",
    "\n",
    "model_1cycle.add(keras.layers.AlphaDropout(rate=0.2))\n",
    "model_1cycle.add(keras.layers.Dense(10, activation=\"softmax\"))\n",
    "\n",
    "optimizer = keras.optimizers.SGD(learning_rate=1e-2)\n",
    "#Nadm是自适应算法，不能使用学习率调度，因此改为随机梯度下降SGD\n",
    "\n",
    "model_1cycle.compile(loss=\"sparse_categorical_crossentropy\",\n",
    "              optimizer=optimizer,\n",
    "              metrics=[\"accuracy\"])"
   ]
  },
  {
   "cell_type": "code",
   "execution_count": 35,
   "metadata": {
    "ExecuteTime": {
     "end_time": "2022-10-26T01:52:49.478725Z",
     "start_time": "2022-10-26T01:52:49.464659Z"
    }
   },
   "outputs": [],
   "source": [
    "K = keras.backend\n",
    "#后端\n",
    "\n",
    "class ExponentialLearningRate(keras.callbacks.Callback):\n",
    "    \"\"\"根据系数factor指数调度学习率，\n",
    "    使学习率与factor相乘，进行线性变换\"\"\"\n",
    "    \n",
    "    def __init__(self, factor):\n",
    "        \"\"\"每个与类相关联的方法调用都自动传递实参self\n",
    "           以self为前缀的变量可以供类中的所有办法使用\"\"\"\n",
    "        \n",
    "        self.factor = factor #系数\n",
    "        #获取存储在形参factor中的值并存储到变量factor中\n",
    "        \n",
    "        self.rates = []\n",
    "        self.losses = []\n",
    "        \n",
    "    def on_batch_end(self, batch, logs):\n",
    "        \"\"\"在每个批次处理的最后，保存模型的lr和loss，\n",
    "           对模型学习率进行线性增长（×factor）\"\"\"\n",
    "        \n",
    "        self.rates.append(K.get_value(self.model.optimizer.learning_rate))\n",
    "        #将模型优化器的学习率参数添加进（存储在）rates数组\n",
    "        \n",
    "        self.losses.append(logs[\"loss\"])\n",
    "        #将日志中计算出的loss保存至losses数组\n",
    "        \n",
    "        K.set_value(self.model.optimizer.learning_rate,\n",
    "                    self.model.optimizer.learning_rate * self.factor)\n",
    "        #tf.keras.backend.set_value(x,value)，从Numpy数组将值载入tensor中\n",
    "        #x：要设置为新值的Tensor\n",
    "        #value：Numpy数组（具有相同形状），将载入x\n",
    "        #将模型的学习率设置为：与系数factor相乘后的学习率"
   ]
  },
  {
   "cell_type": "code",
   "execution_count": 36,
   "metadata": {
    "ExecuteTime": {
     "end_time": "2022-10-26T01:52:49.486550Z",
     "start_time": "2022-10-26T01:52:49.480535Z"
    }
   },
   "outputs": [],
   "source": [
    "import math\n",
    "\n",
    "def find_learning_rate(model, X, y, epochs=1, batch_size=32,\n",
    "                       min_rate=10**-5, max_rate=10):\n",
    "    \"\"\"找到最优学习率，设置为最大学习率，\n",
    "       初始最小学习率设置为10的-5次方，最大学习率设置为10，\n",
    "       在此范围内寻找最优学习率\"\"\"\n",
    "    \n",
    "    init_weights = model.get_weights()#获得模型原始参数\n",
    "    \n",
    "    iterations = math.ceil(len(X) / batch_size) * epochs\n",
    "    #学习率总迭代次数\n",
    "    #lr在处理每个batch批次的最后和每个epoch的最后更新\n",
    "    #math.ceil(x) 方法将 x 向上舍入到最接近的整数\n",
    "    \n",
    "    factor = np.exp(np.log(max_rate / min_rate) / iterations)\n",
    "    #系数\"\"\"按需设置\"\"\"\n",
    "    #numpy.exp()：返回e的幂次方，e是一个常数为2.71828\n",
    "    \n",
    "    init_lr = K.get_value(model.optimizer.learning_rate)\n",
    "    #得到模型原始学习率init_lr\n",
    "    \n",
    "    K.set_value(model.optimizer.learning_rate, min_rate)\n",
    "    #将模型学习率设置为最小学习率min_rate，\n",
    "    \n",
    "    exp_lr = ExponentialLearningRate(factor)\n",
    "    #在每个轮次训练的最后lr都与factor相乘在训练中途线性增长\n",
    "    #每个轮次都保存lr到rates数组，保存loss到losses数组\n",
    "    \n",
    "    history = model.fit(X, y, epochs=epochs, batch_size=batch_size,\n",
    "                        callbacks=[exp_lr])\n",
    "    #训练模型\n",
    "    \n",
    "    K.set_value(model.optimizer.learning_rate, init_lr)\n",
    "    #将模型学习率设置为初始学习率init_lr\n",
    "    \n",
    "    model.set_weights(init_weights)\n",
    "    #将模型权重设置为初始权重\n",
    "    \n",
    "    return exp_lr.rates, exp_lr.losses\n",
    "    #返回记录了每个批次变化的学习率和loss的rates[]和losses[]"
   ]
  },
  {
   "cell_type": "code",
   "execution_count": 46,
   "metadata": {
    "ExecuteTime": {
     "end_time": "2022-10-26T02:14:34.437905Z",
     "start_time": "2022-10-26T02:14:34.373945Z"
    }
   },
   "outputs": [],
   "source": [
    "%matplotlib inline\n",
    "#使得图片可见\n",
    "import matplotlib.pylab as plt#导入绘图库\n",
    "\n",
    "def plot_lr_vs_loss(rates, losses):\n",
    "    plt.plot(rates, losses)\n",
    "    plt.gca().set_xscale('log')\n",
    "    plt.hlines(min(losses), min(rates), max(rates))\n",
    "    plt.axis([min(rates), max(rates), min(losses), (losses[0] + min(losses)) / 2])\n",
    "    plt.xlabel(\"Learning rate\")\n",
    "    plt.ylabel(\"Loss\")"
   ]
  },
  {
   "cell_type": "code",
   "execution_count": 47,
   "metadata": {
    "ExecuteTime": {
     "end_time": "2022-10-26T02:14:42.838210Z",
     "start_time": "2022-10-26T02:14:35.893719Z"
    }
   },
   "outputs": [
    {
     "name": "stdout",
     "output_type": "stream",
     "text": [
      "1407/1407 [==============================] - 6s 4ms/step - loss: nan - accuracy: 0.6459\n"
     ]
    },
    {
     "data": {
      "text/plain": [
       "[1e-05, 9.903079, 0.2294904738664627, 0.3619192008461271]"
      ]
     },
     "execution_count": 47,
     "metadata": {},
     "output_type": "execute_result"
    },
    {
     "data": {
      "image/png": "[encoded data removed]",
      "text/plain": [
       "<Figure size 432x288 with 1 Axes>"
      ]
     },
     "metadata": {
      "needs_background": "light"
     },
     "output_type": "display_data"
    }
   ],
   "source": [
    "batch_size = 32\n",
    "rates, losses = find_learning_rate(model_1cycle, X_train_scaled, y_train,\n",
    "                                   epochs=1, batch_size=batch_size)\n",
    "plot_lr_vs_loss(rates, losses)\n",
    "\"\"\"找到图中损失值降低的最快的点对应的学习率，确定最优学习率\"\"\"\n",
    "plt.axis([min(rates), max(rates), min(losses), (losses[0] + min(losses)) / 1.4])"
   ]
  },
  {
   "cell_type": "code",
   "execution_count": 37,
   "metadata": {
    "ExecuteTime": {
     "end_time": "2022-10-26T01:52:49.502210Z",
     "start_time": "2022-10-26T01:52:49.486550Z"
    }
   },
   "outputs": [],
   "source": [
    "class OneCycleScheduler(keras.callbacks.Callback):\n",
    "    \"\"\"训练开始到中途从 lr0（0.005）到lr1（0.05），\n",
    "    训练的后半部分降回lr0（0.005），\n",
    "    最后的几个轮次再往下降到1.0663265306122723e-05\"\"\"\n",
    "\n",
    "    def __init__(self, iterations, max_rate, start_rate=None,\n",
    "                 last_iterations=None, last_rate=None):\n",
    "        \n",
    "        self.iterations = iterations\n",
    "        #学习率迭代次数#print(iterations) #设置为8800\n",
    "        \n",
    "        self.max_rate = max_rate \n",
    "        #学习率最大值#print(max_rate)  #设置为0.05\n",
    "        \n",
    "        self.start_rate = start_rate or max_rate / 10 #初始学习率\n",
    "        #最大学习率大约比初始学习率大10倍 #print(self.start_rate)#0.005\n",
    "        \n",
    "        self.last_iterations = last_iterations or iterations // 10 + 1\n",
    "        #最后几个轮次学习率的迭代次数\n",
    "        #lr0-lr1和lr1-lr0各占据学习率迭代的约一半，最后lr0降低几个数量级相当于1/11\n",
    "        #//为整除 #print(self.last_iterations) #881\n",
    "        \n",
    "        self.half_iteration = (iterations - self.last_iterations) // 2\n",
    "        #训练到中途学习率的迭代次数\n",
    "        #print(self.half_iteration) #3959 #print(2 * self.half_iteration)#7918\n",
    "        \n",
    "        self.last_rate = last_rate or self.start_rate / 1000\n",
    "        #最后几个轮次的 学习率\n",
    "        #print(self.last_rate) #5e-06\n",
    "        \n",
    "        self.iteration = 0\n",
    "        #将当前学习率迭代次数设置为0\n",
    "        \n",
    "    def _interpolate(self, iter1, iter2, rate1, rate2):\n",
    "        #插值\n",
    "        \"\"\"学习率迭代次数从iter1到iter2的过程中，学习率从rate1线性变化到rate2\"\"\"\n",
    "        return ((rate2 - rate1) * (self.iteration - iter1)/ (iter2 - iter1) + rate1)\n",
    "    \n",
    "    def on_batch_begin(self, batch, logs):\n",
    "        #在每个批次开始时\n",
    "        \n",
    "        if self.iteration < self.half_iteration:\n",
    "            #第一阶段，lr0-lr1\n",
    "            rate = self._interpolate(0, self.half_iteration, \n",
    "                                     self.start_rate, self.max_rate)\n",
    "            \n",
    "        elif self.iteration < 2 * self.half_iteration:\n",
    "            #第二阶段，lr1-lr2\n",
    "            rate = self._interpolate(self.half_iteration, 2 * self.half_iteration,\n",
    "                                     self.max_rate, self.start_rate)\n",
    "            \n",
    "        else:\n",
    "            #第三阶段，最后几个批次学习率降低几个数量级\n",
    "            rate = self._interpolate(2 * self.half_iteration, self.iterations,\n",
    "                                     self.start_rate, self.last_rate)\n",
    "              \n",
    "        self.iteration += 1\n",
    "        #当前学习率迭代次数＋1\n",
    "        \n",
    "        K.set_value(self.model.optimizer.lr, rate)\n",
    "        #将变化的学习率应用于模型优化器的学习率"
   ]
  },
  {
   "cell_type": "code",
   "execution_count": 41,
   "metadata": {
    "ExecuteTime": {
     "end_time": "2022-10-26T02:06:11.377422Z",
     "start_time": "2022-10-26T02:03:48.571691Z"
    }
   },
   "outputs": [
    {
     "name": "stdout",
     "output_type": "stream",
     "text": [
      "Epoch 1/20\n",
      "1407/1407 [==============================] - 7s 5ms/step - loss: 0.4848 - accuracy: 0.8357 - val_loss: 2.5282 - val_accuracy: 0.5268\n",
      "Epoch 2/20\n",
      "1407/1407 [==============================] - 7s 5ms/step - loss: 0.5635 - accuracy: 0.8071 - val_loss: 2.5031 - val_accuracy: 0.4860\n",
      "Epoch 3/20\n",
      "1407/1407 [==============================] - 7s 5ms/step - loss: 0.6425 - accuracy: 0.7792 - val_loss: 2.2492 - val_accuracy: 0.5176\n",
      "Epoch 4/20\n",
      "1407/1407 [==============================] - 7s 5ms/step - loss: 0.7138 - accuracy: 0.7529 - val_loss: 2.2252 - val_accuracy: 0.5014\n",
      "Epoch 5/20\n",
      "1407/1407 [==============================] - 7s 5ms/step - loss: 0.7762 - accuracy: 0.7330 - val_loss: 2.2005 - val_accuracy: 0.5074\n",
      "Epoch 6/20\n",
      "1407/1407 [==============================] - 7s 5ms/step - loss: 0.8476 - accuracy: 0.7100 - val_loss: 2.0299 - val_accuracy: 0.5040\n",
      "Epoch 7/20\n",
      "1407/1407 [==============================] - 7s 5ms/step - loss: 0.9002 - accuracy: 0.6917 - val_loss: 2.1419 - val_accuracy: 0.4820\n",
      "Epoch 8/20\n",
      "1407/1407 [==============================] - 7s 5ms/step - loss: 0.9548 - accuracy: 0.6750 - val_loss: 2.0721 - val_accuracy: 0.4874\n",
      "Epoch 9/20\n",
      "1407/1407 [==============================] - 7s 5ms/step - loss: 0.9868 - accuracy: 0.6656 - val_loss: 1.9968 - val_accuracy: 0.4842\n",
      "Epoch 10/20\n",
      "1407/1407 [==============================] - 7s 5ms/step - loss: 0.9912 - accuracy: 0.6663 - val_loss: 2.1623 - val_accuracy: 0.4734\n",
      "Epoch 11/20\n",
      "1407/1407 [==============================] - 7s 5ms/step - loss: 0.9110 - accuracy: 0.6917 - val_loss: 2.0739 - val_accuracy: 0.4856\n",
      "Epoch 12/20\n",
      "1407/1407 [==============================] - 7s 5ms/step - loss: 0.8467 - accuracy: 0.7106 - val_loss: 1.9962 - val_accuracy: 0.5148\n",
      "Epoch 13/20\n",
      "1407/1407 [==============================] - 7s 5ms/step - loss: 0.7751 - accuracy: 0.7376 - val_loss: 2.2227 - val_accuracy: 0.4900\n",
      "Epoch 14/20\n",
      "1407/1407 [==============================] - 7s 5ms/step - loss: 0.6947 - accuracy: 0.7640 - val_loss: 2.2279 - val_accuracy: 0.5078\n",
      "Epoch 15/20\n",
      "1407/1407 [==============================] - 7s 5ms/step - loss: 0.6150 - accuracy: 0.7926 - val_loss: 2.4039 - val_accuracy: 0.5152\n",
      "Epoch 16/20\n",
      "1407/1407 [==============================] - 7s 5ms/step - loss: 0.5301 - accuracy: 0.8189 - val_loss: 2.6071 - val_accuracy: 0.5100\n",
      "Epoch 17/20\n",
      "1407/1407 [==============================] - 7s 5ms/step - loss: 0.4443 - accuracy: 0.8493 - val_loss: 2.7318 - val_accuracy: 0.5174\n",
      "Epoch 18/20\n",
      "1407/1407 [==============================] - 8s 5ms/step - loss: 0.3579 - accuracy: 0.8822 - val_loss: 3.0224 - val_accuracy: 0.5172\n",
      "Epoch 19/20\n",
      "1407/1407 [==============================] - 7s 5ms/step - loss: 0.2903 - accuracy: 0.9066 - val_loss: 3.2809 - val_accuracy: 0.5148\n",
      "Epoch 20/20\n",
      "1407/1407 [==============================] - 7s 5ms/step - loss: 0.2512 - accuracy: 0.9219 - val_loss: 3.3726 - val_accuracy: 0.5120\n"
     ]
    }
   ],
   "source": [
    "n_epochs = 20\n",
    "batch_size = 32\n",
    "onecycle = OneCycleScheduler(math.ceil(len(X_train_scaled) / batch_size) * n_epochs, \n",
    "                             max_rate=0.05)\n",
    "#传入学习率迭代次数和最大学习率\n",
    "\n",
    "early_stopping_cb=keras.callbacks.EarlyStopping(patience=10,\n",
    "                                                restore_best_weights=True)\n",
    "\n",
    "history_1cycle = model_1cycle.fit(X_train_scaled, y_train, \n",
    "                                  epochs=n_epochs, \n",
    "                                  batch_size=batch_size,\n",
    "                                  validation_data=(X_valid_scaled, y_valid),\n",
    "                                  callbacks=[onecycle，early_stopping_cb])"
   ]
  },
  {
   "cell_type": "code",
   "execution_count": 48,
   "metadata": {
    "ExecuteTime": {
     "end_time": "2022-10-26T02:32:17.180099Z",
     "start_time": "2022-10-26T02:32:16.735073Z"
    }
   },
   "outputs": [
    {
     "name": "stdout",
     "output_type": "stream",
     "text": [
      "157/157 [==============================] - 0s 2ms/step - loss: 3.3726 - accuracy: 0.5120\n"
     ]
    },
    {
     "data": {
      "text/plain": [
       "[3.3725836277008057, 0.5120000243186951]"
      ]
     },
     "execution_count": 48,
     "metadata": {},
     "output_type": "execute_result"
    }
   ],
   "source": [
    "model_1cycle.evaluate(X_valid_scaled, y_valid)"
   ]
  },
  {
   "cell_type": "markdown",
   "metadata": {},
   "source": [
    "### 一周期调度方法训练模型时间为2m23s，ACC为51.20%"
   ]
  },
  {
   "cell_type": "code",
   "execution_count": null,
   "metadata": {},
   "outputs": [],
   "source": []
  }
 ],
 "metadata": {
  "kernelspec": {
   "display_name": "Python 3",
   "language": "python",
   "name": "python3"
  },
  "language_info": {
   "codemirror_mode": {
    "name": "ipython",
    "version": 3
   },
   "file_extension": ".py",
   "mimetype": "text/x-python",
   "name": "python",
   "nbconvert_exporter": "python",
   "pygments_lexer": "ipython3",
   "version": "3.7.0"
  }
 },
 "nbformat": 4,
 "nbformat_minor": 2
}
