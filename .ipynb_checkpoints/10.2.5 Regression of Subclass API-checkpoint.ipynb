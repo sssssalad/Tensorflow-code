{
 "cells": [
  {
   "cell_type": "code",
   "execution_count": 1,
   "metadata": {
    "ExecuteTime": {
     "end_time": "2022-11-10T06:38:11.002620Z",
     "start_time": "2022-11-10T06:38:07.800503Z"
    }
   },
   "outputs": [],
   "source": [
    "import numpy as np\n",
    "import tensorflow as tf\n",
    "from tensorflow import keras\n",
    "\n",
    "#打印模型结构\n",
    "from keras.utils.vis_utils import plot_model\n",
    "\n",
    "#可视化\n",
    "import matplotlib.pylab as plt#导入绘图库\n",
    "import pandas as pd"
   ]
  },
  {
   "cell_type": "code",
   "execution_count": 2,
   "metadata": {
    "ExecuteTime": {
     "end_time": "2022-11-10T06:38:11.308196Z",
     "start_time": "2022-11-10T06:38:11.002620Z"
    }
   },
   "outputs": [],
   "source": [
    "\"\"\"加载数据\"\"\"\n",
    "from sklearn.datasets import fetch_california_housing\n",
    "from sklearn.model_selection import train_test_split\n",
    "from sklearn.preprocessing import StandardScaler\n",
    "\n",
    "housing = fetch_california_housing()\n",
    "#加利福尼亚的房价数据\n",
    "#总计20640个样本，每个样本8个属性表示，以及房价作为target，所有属性值均为number\n",
    "#目标变量：平均房屋价值\n",
    "#输入变量（特征）：平均收入、住房平均年龄、平均房间、平均卧室、人口、平均占用、纬度和经度"
   ]
  },
  {
   "cell_type": "code",
   "execution_count": 3,
   "metadata": {
    "ExecuteTime": {
     "end_time": "2022-11-10T06:38:11.323442Z",
     "start_time": "2022-11-10T06:38:11.310153Z"
    }
   },
   "outputs": [],
   "source": [
    "X_train_full, X_test, y_train_full, y_test = train_test_split(housing.data, \n",
    "                                                              housing.target, \n",
    "                                                              random_state=42)\n",
    "X_train, X_valid, y_train, y_valid = train_test_split(X_train_full, \n",
    "                                                      y_train_full,\n",
    "                                                      random_state=42)"
   ]
  },
  {
   "cell_type": "markdown",
   "metadata": {},
   "source": [
    "StandardScaler(): 针对每一个特征维度去均值和方差归一化，加快了梯度下降求最优解的速度，可能提升模型精度"
   ]
  },
  {
   "cell_type": "code",
   "execution_count": 4,
   "metadata": {
    "ExecuteTime": {
     "end_time": "2022-11-10T06:38:11.338620Z",
     "start_time": "2022-11-10T06:38:11.325596Z"
    }
   },
   "outputs": [],
   "source": [
    "scaler = StandardScaler()"
   ]
  },
  {
   "cell_type": "markdown",
   "metadata": {},
   "source": [
    "fit(): 求得训练集X的均值/方差等固有属性，可理解为一个训练过程\n",
    "\n",
    "transform(): 在Fit的基础上，进行标准化，降维，归一化等操作（看具体用的是哪个工具，如PCA，StandardScaler等）\n",
    "\n",
    "fit_transform():fit_transform是fit和transform的组合，既包括了训练又包含了转换。"
   ]
  },
  {
   "cell_type": "code",
   "execution_count": 5,
   "metadata": {
    "ExecuteTime": {
     "end_time": "2022-11-10T06:38:11.354550Z",
     "start_time": "2022-11-10T06:38:11.340590Z"
    }
   },
   "outputs": [],
   "source": [
    "X_train = scaler.fit_transform(X_train) #求训练集的固有属性\n",
    "X_valid = scaler.transform(X_valid) #归一化转换验证集\n",
    "X_test = scaler.transform(X_test) #归一化转换测试集"
   ]
  },
  {
   "cell_type": "code",
   "execution_count": 6,
   "metadata": {
    "ExecuteTime": {
     "end_time": "2022-11-10T06:38:11.370109Z",
     "start_time": "2022-11-10T06:38:11.356569Z"
    }
   },
   "outputs": [
    {
     "data": {
      "text/plain": [
       "(11610, 8)"
      ]
     },
     "execution_count": 6,
     "metadata": {},
     "output_type": "execute_result"
    }
   ],
   "source": [
    "X_train.shape #10610个房价数据"
   ]
  },
  {
   "cell_type": "code",
   "execution_count": 7,
   "metadata": {
    "ExecuteTime": {
     "end_time": "2022-11-10T06:38:11.385141Z",
     "start_time": "2022-11-10T06:38:11.371140Z"
    }
   },
   "outputs": [
    {
     "data": {
      "text/plain": [
       "'California housing dataset.\\n\\nThe original database is available from StatLib\\n\\n    http://lib.stat.cmu.edu/datasets/\\n\\nThe data contains 20,640 observations on 9 variables.\\n\\nThis dataset contains the average house value as target variable\\nand the following input variables (features): average income,\\nhousing average age, average rooms, average bedrooms, population,\\naverage occupation, latitude, and longitude in that order.\\n\\nReferences\\n----------\\n\\nPace, R. Kelley and Ronald Barry, Sparse Spatial Autoregressions,\\nStatistics and Probability Letters, 33 (1997) 291-297.\\n\\n'"
      ]
     },
     "execution_count": 7,
     "metadata": {},
     "output_type": "execute_result"
    }
   ],
   "source": [
    "fetch_california_housing () ['DESCR'] #查看数据集属性"
   ]
  },
  {
   "cell_type": "code",
   "execution_count": 8,
   "metadata": {
    "ExecuteTime": {
     "end_time": "2022-11-10T06:38:11.401142Z",
     "start_time": "2022-11-10T06:38:11.387146Z"
    }
   },
   "outputs": [],
   "source": [
    "class_names = [\"average income\",\"housing average age\",\n",
    "               \"average rooms\",\"average bedrooms\",\n",
    "               \"population\",\"average occupation\",\n",
    "               \"latitude\",\"longitude \"]"
   ]
  },
  {
   "cell_type": "code",
   "execution_count": 9,
   "metadata": {
    "ExecuteTime": {
     "end_time": "2022-11-10T06:38:11.416369Z",
     "start_time": "2022-11-10T06:38:11.404155Z"
    }
   },
   "outputs": [],
   "source": [
    "\"\"\"设置随机种子，使每次运行结果一样\"\"\"\n",
    "np.random.seed(42)\n",
    "tf.random.set_seed(42)"
   ]
  },
  {
   "cell_type": "markdown",
   "metadata": {},
   "source": [
    "### 子类API构建动态回归模型"
   ]
  },
  {
   "cell_type": "markdown",
   "metadata": {},
   "source": [
    "**kwargs将一个可变的关键字参数的字典dict传给函数实参"
   ]
  },
  {
   "cell_type": "code",
   "execution_count": 10,
   "metadata": {
    "ExecuteTime": {
     "end_time": "2022-11-10T06:38:11.432340Z",
     "start_time": "2022-11-10T06:38:11.418250Z"
    }
   },
   "outputs": [],
   "source": [
    "class WideAndDeepModel(keras.models.Model):\n",
    "    \"\"\"\n",
    "    不需要创建输入，只使用call（）中的输入参数\n",
    "    模型架构隐藏在call（）中，keras无法检查，不知其内部如何连接，更容易出错\n",
    "    \"\"\"\n",
    "    def __init__(self, units=30, activation=\"relu\", **kwargs):\n",
    "        \"\"\"\n",
    "        创建层和变量，\n",
    "        初始化父类keras.models.Model的属性 + 初始化构建的模型的特有属性\n",
    "        \"\"\"\n",
    "        super().__init__(**kwargs)\n",
    "        #继承keras.models.Model里的可变关键字参数，对Model类子类化\n",
    "        \n",
    "        #units：正整数，输出空间的维数\n",
    "        self.hidden1 = keras.layers.Dense(units, activation=activation)\n",
    "        self.hidden2 = keras.layers.Dense(units, activation=activation)\n",
    "        self.main_output = keras.layers.Dense(1)\n",
    "        self.aux_output = keras.layers.Dense(1)\n",
    "        \n",
    "    def call(self, inputs):\n",
    "        \"\"\" 编写层的连接与操作方式（for循环、if语句、底层TensorFlow操作等）\"\"\"\n",
    "        input_A, input_B = inputs\n",
    "        hidden1 = self.hidden1(input_B)\n",
    "        hidden2 = self.hidden2(hidden1)\n",
    "        concat = keras.layers.concatenate([input_A, hidden2])\n",
    "        main_output = self.main_output(concat)\n",
    "        aux_output = self.aux_output(hidden2)\n",
    "        return main_output, aux_output"
   ]
  },
  {
   "cell_type": "code",
   "execution_count": 11,
   "metadata": {
    "ExecuteTime": {
     "end_time": "2022-11-10T06:38:11.463065Z",
     "start_time": "2022-11-10T06:38:11.435127Z"
    }
   },
   "outputs": [],
   "source": [
    "input_A = keras.layers.Input(shape=[5], name=\"wide_input\")\n",
    "input_B = keras.layers.Input(shape=[6], name=\"deep_input\")"
   ]
  },
  {
   "cell_type": "code",
   "execution_count": 12,
   "metadata": {
    "ExecuteTime": {
     "end_time": "2022-11-10T06:38:11.698711Z",
     "start_time": "2022-11-10T06:38:11.464944Z"
    }
   },
   "outputs": [],
   "source": [
    "model= WideAndDeepModel(30, activation=\"relu\")#创建实例"
   ]
  },
  {
   "cell_type": "markdown",
   "metadata": {},
   "source": [
    "在使用Sequential 或Functional API时已经“自动”（implicitly）调用了model.build方法；而通过子类API构建模型时需要自己调用model.build方法（explicitly）"
   ]
  },
  {
   "cell_type": "code",
   "execution_count": 13,
   "metadata": {
    "ExecuteTime": {
     "end_time": "2022-11-10T06:38:11.714625Z",
     "start_time": "2022-11-10T06:38:11.700606Z"
    }
   },
   "outputs": [],
   "source": [
    "model.build(input_shape=())"
   ]
  },
  {
   "cell_type": "code",
   "execution_count": 15,
   "metadata": {
    "ExecuteTime": {
     "end_time": "2022-11-10T06:38:36.393049Z",
     "start_time": "2022-11-10T06:38:36.245293Z"
    }
   },
   "outputs": [
    {
     "data": {
      "image/png": "[encoded data removed]",
      "text/plain": [
       "<IPython.core.display.Image object>"
      ]
     },
     "execution_count": 15,
     "metadata": {},
     "output_type": "execute_result"
    }
   ],
   "source": [
    "keras.utils.plot_model(model,show_shapes=True)\n",
    "#模型架构隐藏在call（）中，keras无法检查，不知其内部如何连接"
   ]
  },
  {
   "cell_type": "markdown",
   "metadata": {},
   "source": [
    "summary()：显示模型的所有层参数数量等"
   ]
  },
  {
   "cell_type": "code",
   "execution_count": 16,
   "metadata": {
    "ExecuteTime": {
     "end_time": "2022-11-10T06:38:41.966151Z",
     "start_time": "2022-11-10T06:38:41.945415Z"
    }
   },
   "outputs": [
    {
     "name": "stdout",
     "output_type": "stream",
     "text": [
      "Model: \"wide_and_deep_model\"\n",
      "_________________________________________________________________\n",
      " Layer (type)                Output Shape              Param #   \n",
      "=================================================================\n",
      " dense (Dense)               multiple                  0 (unused)\n",
      "                                                                 \n",
      " dense_1 (Dense)             multiple                  0 (unused)\n",
      "                                                                 \n",
      " dense_2 (Dense)             multiple                  0 (unused)\n",
      "                                                                 \n",
      " dense_3 (Dense)             multiple                  0 (unused)\n",
      "                                                                 \n",
      "=================================================================\n",
      "Total params: 0\n",
      "Trainable params: 0\n",
      "Non-trainable params: 0\n",
      "_________________________________________________________________\n"
     ]
    }
   ],
   "source": [
    "model.summary()\n",
    "#子类模型无法观察其内部连接方式等具体信息"
   ]
  },
  {
   "cell_type": "code",
   "execution_count": 17,
   "metadata": {
    "ExecuteTime": {
     "end_time": "2022-11-10T06:38:44.095515Z",
     "start_time": "2022-11-10T06:38:44.088520Z"
    }
   },
   "outputs": [],
   "source": [
    "#使用训练集的两个子集\n",
    "#model_3宽路径送5个特征（0-4）的子集X_train_A，深路径送6个特征（2-7）的子集X_train_B\n",
    "X_train_A,X_train_B = X_train[:,:5],X_train[:,2:]\n",
    "X_valid_A,X_valid_B = X_valid[:,:5],X_valid[:,2:]\n",
    "X_test_A,X_test_B = X_test[:,:5],X_test[:,2:]"
   ]
  },
  {
   "cell_type": "markdown",
   "metadata": {},
   "source": [
    "#### 编译模型"
   ]
  },
  {
   "cell_type": "code",
   "execution_count": 18,
   "metadata": {
    "ExecuteTime": {
     "end_time": "2022-11-10T06:38:46.406665Z",
     "start_time": "2022-11-10T06:38:46.384656Z"
    }
   },
   "outputs": [],
   "source": [
    "model.compile(loss=\"mse\", loss_weights=[0.9, 0.1], \n",
    "              optimizer=keras.optimizers.SGD(learning_rate=1e-3))"
   ]
  },
  {
   "cell_type": "markdown",
   "metadata": {},
   "source": [
    "#### 输入训练集训练模型fit()，返回History对象"
   ]
  },
  {
   "cell_type": "code",
   "execution_count": 19,
   "metadata": {
    "ExecuteTime": {
     "end_time": "2022-11-10T06:38:52.129644Z",
     "start_time": "2022-11-10T06:38:47.182909Z"
    }
   },
   "outputs": [
    {
     "name": "stdout",
     "output_type": "stream",
     "text": [
      "Epoch 1/10\n",
      "363/363 [==============================] - 1s 2ms/step - loss: 2.1365 - output_1_loss: 1.9196 - output_2_loss: 4.0890 - val_loss: 1.6233 - val_output_1_loss: 0.8468 - val_output_2_loss: 8.6117\n",
      "Epoch 2/10\n",
      "363/363 [==============================] - 0s 1ms/step - loss: 0.8905 - output_1_loss: 0.6969 - output_2_loss: 2.6326 - val_loss: 1.5163 - val_output_1_loss: 0.6836 - val_output_2_loss: 9.0109\n",
      "Epoch 3/10\n",
      "363/363 [==============================] - 0s 1ms/step - loss: 0.7429 - output_1_loss: 0.6088 - output_2_loss: 1.9499 - val_loss: 1.4639 - val_output_1_loss: 0.6229 - val_output_2_loss: 9.0326\n",
      "Epoch 4/10\n",
      "363/363 [==============================] - 0s 1ms/step - loss: 0.6771 - output_1_loss: 0.5691 - output_2_loss: 1.6485 - val_loss: 1.3388 - val_output_1_loss: 0.5481 - val_output_2_loss: 8.4552\n",
      "Epoch 5/10\n",
      "363/363 [==============================] - 0s 1ms/step - loss: 0.6381 - output_1_loss: 0.5434 - output_2_loss: 1.4911 - val_loss: 1.2177 - val_output_1_loss: 0.5194 - val_output_2_loss: 7.5030\n",
      "Epoch 6/10\n",
      "363/363 [==============================] - 0s 1ms/step - loss: 0.6079 - output_1_loss: 0.5207 - output_2_loss: 1.3923 - val_loss: 1.0935 - val_output_1_loss: 0.5106 - val_output_2_loss: 6.3396\n",
      "Epoch 7/10\n",
      "363/363 [==============================] - 0s 1ms/step - loss: 0.5853 - output_1_loss: 0.5040 - output_2_loss: 1.3175 - val_loss: 0.9918 - val_output_1_loss: 0.5115 - val_output_2_loss: 5.3151\n",
      "Epoch 8/10\n",
      "363/363 [==============================] - 0s 1ms/step - loss: 0.5666 - output_1_loss: 0.4898 - output_2_loss: 1.2572 - val_loss: 0.8733 - val_output_1_loss: 0.4733 - val_output_2_loss: 4.4740\n",
      "Epoch 9/10\n",
      "363/363 [==============================] - 0s 1ms/step - loss: 0.5504 - output_1_loss: 0.4771 - output_2_loss: 1.2101 - val_loss: 0.7832 - val_output_1_loss: 0.4555 - val_output_2_loss: 3.7323\n",
      "Epoch 10/10\n",
      "363/363 [==============================] - 0s 1ms/step - loss: 0.5373 - output_1_loss: 0.4671 - output_2_loss: 1.1695 - val_loss: 0.7170 - val_output_1_loss: 0.4604 - val_output_2_loss: 3.0262\n"
     ]
    }
   ],
   "source": [
    "history = model.fit((X_train_A, X_train_B), (y_train, y_train), epochs=10,\n",
    "                    validation_data=((X_valid_A, X_valid_B), (y_valid, y_valid)))"
   ]
  },
  {
   "cell_type": "markdown",
   "metadata": {},
   "source": [
    "#### 评估模型"
   ]
  },
  {
   "cell_type": "code",
   "execution_count": 20,
   "metadata": {
    "ExecuteTime": {
     "end_time": "2022-11-10T06:38:52.349138Z",
     "start_time": "2022-11-10T06:38:52.147771Z"
    }
   },
   "outputs": [
    {
     "name": "stdout",
     "output_type": "stream",
     "text": [
      "162/162 [==============================] - 0s 758us/step - loss: 0.5279 - output_1_loss: 0.4605 - output_2_loss: 1.1352\n"
     ]
    }
   ],
   "source": [
    "mse_test = model.evaluate((X_test_A, X_test_B), (y_test, y_test))"
   ]
  },
  {
   "cell_type": "markdown",
   "metadata": {},
   "source": [
    "#### 保存与还原模型\n",
    "\n",
    "顺序API和函数API可使用HDF5 格式保存模型结构，直接保存训练好的Keras模型，\n",
    "\n",
    "使用HDF5格式保存模型的结构（包含每一层的超参数、所有模型参数值（包含连接权重和偏置等）、优化器（包含其超参数和可能具有的任何状态））\n",
    "\n",
    "子类化模型需在训练结束时自己保存模型（只可用save_weights（）保存模型权重），还需在训练过程中定期保存检查点"
   ]
  },
  {
   "cell_type": "code",
   "execution_count": 21,
   "metadata": {
    "ExecuteTime": {
     "end_time": "2022-11-10T06:38:52.379770Z",
     "start_time": "2022-11-10T06:38:52.351139Z"
    }
   },
   "outputs": [],
   "source": [
    "#保存模型权重\n",
    "model.save_weights(\"my_keras_weights.ckpt\")"
   ]
  },
  {
   "cell_type": "code",
   "execution_count": 22,
   "metadata": {
    "ExecuteTime": {
     "end_time": "2022-11-10T06:38:52.395119Z",
     "start_time": "2022-11-10T06:38:52.381728Z"
    }
   },
   "outputs": [
    {
     "data": {
      "text/plain": [
       "<tensorflow.python.training.tracking.util.CheckpointLoadStatus at 0x231d7478f28>"
      ]
     },
     "execution_count": 22,
     "metadata": {},
     "output_type": "execute_result"
    }
   ],
   "source": [
    "#还原模型权重\n",
    "model.load_weights(\"my_keras_weights.ckpt\")"
   ]
  },
  {
   "cell_type": "markdown",
   "metadata": {},
   "source": [
    "#### 模型可视化"
   ]
  },
  {
   "cell_type": "code",
   "execution_count": 23,
   "metadata": {
    "ExecuteTime": {
     "end_time": "2022-11-10T06:38:52.551325Z",
     "start_time": "2022-11-10T06:38:52.397427Z"
    }
   },
   "outputs": [
    {
     "data": {
      "image/png": "[encoded data removed]",
      "text/plain": [
       "<Figure size 576x360 with 1 Axes>"
      ]
     },
     "metadata": {
      "needs_background": "light"
     },
     "output_type": "display_data"
    }
   ],
   "source": [
    "#plt.plot(pd.DataFrame(history.history))\n",
    "#没有每条线是什么参数的标注\n",
    "pd.DataFrame(history.history).plot(figsize=(8, 5))\n",
    "\n",
    "plt.grid(True)\n",
    "plt.title('Multi-output subclassing API')\n",
    "plt.gca().set_ylim(0, 1)#设置纵坐标范围为0-1\n",
    "plt.show()"
   ]
  },
  {
   "cell_type": "markdown",
   "metadata": {},
   "source": [
    "#### 预测模型效果"
   ]
  },
  {
   "cell_type": "code",
   "execution_count": 24,
   "metadata": {
    "ExecuteTime": {
     "end_time": "2022-11-10T06:38:52.567401Z",
     "start_time": "2022-11-10T06:38:52.553325Z"
    }
   },
   "outputs": [
    {
     "name": "stdout",
     "output_type": "stream",
     "text": [
      "[[-1.15780104 -0.28673138 -0.49550877 -0.16618097 -0.02946012]\n",
      " [-0.7125531   0.10880952 -0.16332973  0.20164652  0.12842117]\n",
      " [-0.2156101   1.8491895  -0.57982788  0.18528489 -0.10429403]]\n",
      "[[-0.49550877 -0.16618097 -0.02946012  0.38899735  0.19374821  0.2870474 ]\n",
      " [-0.16332973  0.20164652  0.12842117 -0.11818174 -0.23725261  0.06215231]\n",
      " [-0.57982788  0.18528489 -0.10429403 -0.67694905  1.00890193 -1.4271529 ]]\n"
     ]
    }
   ],
   "source": [
    "X_new_A,X_new_B = X_test_A[:3],X_test_B[:3]\n",
    "print(X_test_A[:3])\n",
    "print(X_test_B[:3])"
   ]
  },
  {
   "cell_type": "code",
   "execution_count": 25,
   "metadata": {
    "ExecuteTime": {
     "end_time": "2022-11-10T06:38:52.708530Z",
     "start_time": "2022-11-10T06:38:52.570386Z"
    }
   },
   "outputs": [
    {
     "data": {
      "text/plain": [
       "array([[0.30148625],\n",
       "       [1.6784241 ],\n",
       "       [3.0203469 ]], dtype=float32)"
      ]
     },
     "execution_count": 25,
     "metadata": {},
     "output_type": "execute_result"
    }
   ],
   "source": [
    "y_pred_main, y_pred_aux = model.predict((X_new_A, X_new_B))\n",
    "y_pred_main"
   ]
  },
  {
   "cell_type": "code",
   "execution_count": 26,
   "metadata": {
    "ExecuteTime": {
     "end_time": "2022-11-10T06:38:52.723265Z",
     "start_time": "2022-11-10T06:38:52.710258Z"
    }
   },
   "outputs": [
    {
     "data": {
      "text/plain": [
       "array([[1.030725 ],\n",
       "       [1.6647578],\n",
       "       [2.2852387]], dtype=float32)"
      ]
     },
     "execution_count": 26,
     "metadata": {},
     "output_type": "execute_result"
    }
   ],
   "source": [
    "y_pred_aux#辅助输出（仅用于正则化）的预测"
   ]
  },
  {
   "cell_type": "code",
   "execution_count": null,
   "metadata": {},
   "outputs": [],
   "source": []
  }
 ],
 "metadata": {
  "kernelspec": {
   "display_name": "Python 3",
   "language": "python",
   "name": "python3"
  },
  "language_info": {
   "codemirror_mode": {
    "name": "ipython",
    "version": 3
   },
   "file_extension": ".py",
   "mimetype": "text/x-python",
   "name": "python",
   "nbconvert_exporter": "python",
   "pygments_lexer": "ipython3",
   "version": "3.7.0"
  }
 },
 "nbformat": 4,
 "nbformat_minor": 2
}
