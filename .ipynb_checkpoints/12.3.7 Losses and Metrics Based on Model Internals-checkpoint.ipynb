{
 "cells": [
  {
   "cell_type": "code",
   "execution_count": 1,
   "metadata": {
    "ExecuteTime": {
     "end_time": "2022-11-16T02:30:41.516979Z",
     "start_time": "2022-11-16T02:30:38.157721Z"
    }
   },
   "outputs": [],
   "source": [
    "import tensorflow as tf\n",
    "import numpy as np\n",
    "from tensorflow import keras"
   ]
  },
  {
   "cell_type": "code",
   "execution_count": 2,
   "metadata": {
    "ExecuteTime": {
     "end_time": "2022-11-16T02:30:47.647891Z",
     "start_time": "2022-11-16T02:30:47.326850Z"
    }
   },
   "outputs": [],
   "source": [
    "from sklearn.datasets import fetch_california_housing\n",
    "from sklearn.model_selection import train_test_split\n",
    "from sklearn.preprocessing import StandardScaler\n",
    "\n",
    "housing = fetch_california_housing()\n",
    "#总计20640个样本，每个样本8个属性表示，以及房价作为target，所有属性值均为number\n",
    "#目标变量：平均房屋价值\n",
    "#输入变量（特征）：平均收入、住房平均年龄、平均房间、平均卧室、人口、平均占用、纬度和经度\n",
    "\n",
    "X_train_full, X_test, y_train_full, y_test = train_test_split(\n",
    "    housing.data, housing.target.reshape(-1, 1), random_state=42)\n",
    "X_train, X_valid, y_train, y_valid = train_test_split(\n",
    "    X_train_full, y_train_full, random_state=42)\n",
    "\n",
    "scaler = StandardScaler()\n",
    "X_train_scaled = scaler.fit_transform(X_train)\n",
    "X_valid_scaled = scaler.transform(X_valid)\n",
    "X_test_scaled = scaler.transform(X_test)"
   ]
  },
  {
   "cell_type": "code",
   "execution_count": 3,
   "metadata": {
    "ExecuteTime": {
     "end_time": "2022-11-16T02:30:55.997850Z",
     "start_time": "2022-11-16T02:30:55.981970Z"
    }
   },
   "outputs": [],
   "source": [
    "input_shape = X_train.shape[1:]"
   ]
  },
  {
   "cell_type": "code",
   "execution_count": 4,
   "metadata": {
    "ExecuteTime": {
     "end_time": "2022-11-16T02:31:03.025516Z",
     "start_time": "2022-11-16T02:31:03.017454Z"
    }
   },
   "outputs": [],
   "source": [
    "#创建一个函数重新创建已配置的损失函数，阈值默认值为1.0\n",
    "def create_huber(threshold=1.0):\n",
    "    def huber_fn(y_true, y_pred):\n",
    "        error = y_true - y_pred\n",
    "        is_small_error = tf.abs(error) < threshold\n",
    "        squared_loss = tf.square(error) / 2\n",
    "        linear_loss  = threshold * tf.abs(error) - threshold**2 / 2\n",
    "        return tf.where(is_small_error, squared_loss, linear_loss)\n",
    "    return huber_fn"
   ]
  },
  {
   "cell_type": "markdown",
   "metadata": {},
   "source": [
    "### 基于模型内部的损失和指标"
   ]
  },
  {
   "cell_type": "markdown",
   "metadata": {},
   "source": [
    "模型内部的指标如权重或隐藏层的激活对于正则化或见识模型的某些内部方面可能很有用\n",
    "\n",
    "要基于模型内部自定义损失，根据所需模型的任何部分进行计算，然后将结果传递给add_loss()方法"
   ]
  },
  {
   "cell_type": "markdown",
   "metadata": {},
   "source": [
    "#### 自定义重建损失的自定义模型"
   ]
  },
  {
   "cell_type": "markdown",
   "metadata": {
    "ExecuteTime": {
     "end_time": "2022-11-16T02:51:42.504088Z",
     "start_time": "2022-11-16T02:51:42.497053Z"
    }
   },
   "source": [
    "重建损失：辅助输出有关的损失，他是重建与输入之间的均方差"
   ]
  },
  {
   "cell_type": "markdown",
   "metadata": {},
   "source": [
    "#### tf.keras.metrics.Mean(name=\"mean\", dtype=None):计算给定值的（加权）平均值。\n",
    "\n",
    "name:（可选）度量标准实例的字符串名称。\n",
    "dtype:（可选）度量标准结果的数据类型。\n",
    "\n",
    "如果 sample_weight 为 None ，则权重默认为1。使用 sample_weight 为0掩盖值。"
   ]
  },
  {
   "cell_type": "markdown",
   "metadata": {},
   "source": [
    "#### add_loss（）：将损失添加到模型的损失列表中"
   ]
  },
  {
   "cell_type": "code",
   "execution_count": 11,
   "metadata": {
    "ExecuteTime": {
     "end_time": "2022-11-16T15:15:32.377010Z",
     "start_time": "2022-11-16T15:15:32.362021Z"
    }
   },
   "outputs": [],
   "source": [
    "class ReconstructingRegressor(keras.Model):\n",
    "    \"\"\"\n",
    "    构建具有5个密集隐藏层和1个密集输出层的DNN；\n",
    "    通过将重建损失添加到主要损失中，\n",
    "    模型可通过隐藏层保留尽可能多的信息，实际应用时有时会提高泛化性\n",
    "    \"\"\"\n",
    "    def __init__(self, output_dim, **kwargs):\n",
    "        super().__init__(**kwargs)\n",
    "        self.hidden = [keras.layers.Dense(30, activation=\"selu\",\n",
    "                                          kernel_initializer=\"lecun_normal\")\n",
    "                       for _ in range(5)]\n",
    "        self.out = keras.layers.Dense(output_dim)\n",
    "        #重建损失指标\n",
    "        self.reconstruction_mean = keras.metrics.Mean(name=\"reconstruction_error\")\n",
    "\n",
    "    def build(self, batch_input_shape):\n",
    "        \"\"\"\n",
    "        创建一个额外的密集层，用于重建模型的输入（定义模型内部的损失）\n",
    "        其单元数（神经元个数）必须=数据集输入的label种类数\n",
    "        \"\"\"\n",
    "        n_inputs = batch_input_shape[-1]\n",
    "        #print(\"batch_input_shape[-1]\",batch_input_shape[-1])#8\n",
    "        self.reconstruct = keras.layers.Dense(n_inputs)\n",
    "    \n",
    "    def call(self, inputs, training=None):\n",
    "        \"\"\"将5个隐藏层中每个层的输入传递给层，将隐藏层输出结果传递到重建层产生重构\"\"\"\n",
    "        #构造使用模型\n",
    "        Z = inputs\n",
    "        for layer in self.hidden:\n",
    "            Z = layer(Z)  \n",
    "        reconstruction = self.reconstruct(Z)\n",
    "        \n",
    "        #重建损失 = 重构与输入之间的均方差\n",
    "        recon_loss = tf.reduce_mean(tf.square(reconstruction - inputs))\n",
    "        #保存结果（按比例缩减使得重建损失不在主要损失中占大部分，0.05是可调整）\n",
    "        self.add_loss(0.05 * recon_loss)\n",
    "        \n",
    "        if training:#训练结束后重建损失不变\n",
    "            #计算给定值recon_loss的加权平均值\n",
    "            result = self.reconstruction_mean(recon_loss)#自定义的指标\n",
    "            self.add_metric(result)#将隐藏层的输出传递到输出层并返回其输出\n",
    "            \n",
    "        return self.out(Z)#返回输出层的输出"
   ]
  },
  {
   "cell_type": "code",
   "execution_count": 12,
   "metadata": {
    "ExecuteTime": {
     "end_time": "2022-11-16T15:15:35.259121Z",
     "start_time": "2022-11-16T15:15:33.197168Z"
    }
   },
   "outputs": [
    {
     "name": "stdout",
     "output_type": "stream",
     "text": [
      "Epoch 1/2\n",
      "batch_input_shape[-1] 8\n",
      "batch_input_shape[] (None, 8)\n",
      "363/363 [==============================] - 2s 1ms/step - loss: 0.8081 - reconstruction_error: 0.7556\n",
      "Epoch 2/2\n",
      "363/363 [==============================] - 0s 1ms/step - loss: 0.4309 - reconstruction_error: 0.3314\n"
     ]
    }
   ],
   "source": [
    "model = ReconstructingRegressor(1)\n",
    "#输出维度为1\n",
    "model.compile(loss=\"mse\", optimizer=\"nadam\")\n",
    "history = model.fit(X_train_scaled, y_train, epochs=2)\n",
    "#这里的loss是每个轮次的平均损失（主要损失+0.05倍的重建损失）\n",
    "#reconstruction_error是自定义的指标：每个轮次的重建误差"
   ]
  },
  {
   "cell_type": "code",
   "execution_count": 9,
   "metadata": {
    "ExecuteTime": {
     "end_time": "2022-11-16T15:00:37.708564Z",
     "start_time": "2022-11-16T15:00:37.580099Z"
    }
   },
   "outputs": [
    {
     "data": {
      "text/plain": [
       "array([[0.72072554],\n",
       "       [1.7385862 ],\n",
       "       [4.126143  ],\n",
       "       ...,\n",
       "       [1.6334091 ],\n",
       "       [2.627631  ],\n",
       "       [4.194734  ]], dtype=float32)"
      ]
     },
     "execution_count": 9,
     "metadata": {},
     "output_type": "execute_result"
    }
   ],
   "source": [
    "y_pred = model.predict(X_test_scaled)\n",
    "y_pred"
   ]
  },
  {
   "cell_type": "code",
   "execution_count": null,
   "metadata": {},
   "outputs": [],
   "source": []
  }
 ],
 "metadata": {
  "kernelspec": {
   "display_name": "Python 3",
   "language": "python",
   "name": "python3"
  },
  "language_info": {
   "codemirror_mode": {
    "name": "ipython",
    "version": 3
   },
   "file_extension": ".py",
   "mimetype": "text/x-python",
   "name": "python",
   "nbconvert_exporter": "python",
   "pygments_lexer": "ipython3",
   "version": "3.7.0"
  }
 },
 "nbformat": 4,
 "nbformat_minor": 2
}
