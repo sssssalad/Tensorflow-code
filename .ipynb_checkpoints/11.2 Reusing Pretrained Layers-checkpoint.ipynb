{
 "cells": [
  {
   "cell_type": "code",
   "execution_count": 1,
   "metadata": {
    "ExecuteTime": {
     "end_time": "2022-10-22T06:50:14.122788Z",
     "start_time": "2022-10-22T06:50:10.890121Z"
    }
   },
   "outputs": [],
   "source": [
    "import sys\n",
    "import sklearn\n",
    "import tensorflow as tf\n",
    "from tensorflow import keras\n",
    "import numpy as np\n",
    "import os\n",
    "\n",
    "np.random.seed(42)"
   ]
  },
  {
   "cell_type": "code",
   "execution_count": 2,
   "metadata": {
    "ExecuteTime": {
     "end_time": "2022-10-22T06:50:14.618821Z",
     "start_time": "2022-10-22T06:50:14.122788Z"
    }
   },
   "outputs": [],
   "source": [
    "(X_train_full, y_train_full), (X_test, y_test) = keras.datasets.fashion_mnist.load_data()\n",
    "X_train_full = X_train_full / 255.0\n",
    "X_test = X_test / 255.0\n",
    "\n",
    "X_valid, X_train = X_train_full[:5000], X_train_full[5000:]\n",
    "y_valid, y_train = y_train_full[:5000], y_train_full[5000:]"
   ]
  },
  {
   "cell_type": "code",
   "execution_count": 3,
   "metadata": {
    "ExecuteTime": {
     "end_time": "2022-10-22T06:50:14.633952Z",
     "start_time": "2022-10-22T06:50:14.618821Z"
    }
   },
   "outputs": [],
   "source": [
    "def split_dataset(X, y):\n",
    "    \n",
    "    \"\"\"将数据集划分为\n",
    "       包含8个类别（除凉鞋和衬衫）的数据集A、\n",
    "       含凉鞋和衬衫两个类别的数据集B\"\"\"\n",
    "    \n",
    "    y_5_or_6 = (y == 5) | (y == 6) \n",
    "    # y为sandals凉鞋 or shirts衬衫时y_5_or_6为True，其他类时为False\n",
    "    \n",
    "    y_A = y[~y_5_or_6]\n",
    "    #~y_5_or_6在y为5或6时取False，不选择这两类\n",
    "    #选择y中布尔值为True的类别\n",
    "    \n",
    "    y_A[y_A > 6] -= 2 # class indices 7, 8, 9 should be moved to 5, 6, 7\n",
    "    \n",
    "    y_B = (y[y_5_or_6] == 6).astype(np.float32) \n",
    "    # binary classification task: is it a shirt (class 6)?\n",
    "    # 将衬衫类别设置为1，凉鞋类别设置为0\n",
    "    \n",
    "    return ((X[~y_5_or_6], y_A),\n",
    "            (X[y_5_or_6], y_B))"
   ]
  },
  {
   "cell_type": "markdown",
   "metadata": {},
   "source": [
    "#### X_train_A: all images of all items except for sandals and shirts (classes 5 and 6).    \n",
    "#### X_train_B: a much smaller training set of just the first 200 images of sandals or shirts."
   ]
  },
  {
   "cell_type": "code",
   "execution_count": 4,
   "metadata": {
    "ExecuteTime": {
     "end_time": "2022-10-22T06:50:14.792906Z",
     "start_time": "2022-10-22T06:50:14.636901Z"
    }
   },
   "outputs": [],
   "source": [
    "(X_train_A, y_train_A), (X_train_B, y_train_B) = split_dataset(X_train, y_train)\n",
    "(X_valid_A, y_valid_A), (X_valid_B, y_valid_B) = split_dataset(X_valid, y_valid)\n",
    "(X_test_A, y_test_A), (X_test_B, y_test_B) = split_dataset(X_test, y_test)\n",
    "\n",
    "X_train_B = X_train_B[:200]#只取前两百张图像\n",
    "y_train_B = y_train_B[:200]"
   ]
  },
  {
   "cell_type": "code",
   "execution_count": 5,
   "metadata": {
    "ExecuteTime": {
     "end_time": "2022-10-22T06:50:28.809461Z",
     "start_time": "2022-10-22T06:50:28.795460Z"
    }
   },
   "outputs": [
    {
     "data": {
      "text/plain": [
       "(43986, 28, 28)"
      ]
     },
     "execution_count": 5,
     "metadata": {},
     "output_type": "execute_result"
    }
   ],
   "source": [
    "X_train_A.shape"
   ]
  },
  {
   "cell_type": "code",
   "execution_count": 6,
   "metadata": {
    "ExecuteTime": {
     "end_time": "2022-10-22T06:50:33.465725Z",
     "start_time": "2022-10-22T06:50:33.459714Z"
    }
   },
   "outputs": [
    {
     "data": {
      "text/plain": [
       "(200, 28, 28)"
      ]
     },
     "execution_count": 6,
     "metadata": {},
     "output_type": "execute_result"
    }
   ],
   "source": [
    "X_train_B.shape"
   ]
  },
  {
   "cell_type": "code",
   "execution_count": 7,
   "metadata": {
    "ExecuteTime": {
     "end_time": "2022-10-22T06:50:50.868813Z",
     "start_time": "2022-10-22T06:50:50.861813Z"
    }
   },
   "outputs": [
    {
     "data": {
      "text/plain": [
       "array([4, 0, 5, 7, 7, 7, 4, 4, 3, 4, 0, 1, 6, 3, 4, 3, 2, 6, 5, 3, 4, 5,\n",
       "       1, 3, 4, 2, 0, 6, 7, 1], dtype=uint8)"
      ]
     },
     "execution_count": 7,
     "metadata": {},
     "output_type": "execute_result"
    }
   ],
   "source": [
    "y_train_A[:30]"
   ]
  },
  {
   "cell_type": "code",
   "execution_count": 8,
   "metadata": {
    "ExecuteTime": {
     "end_time": "2022-10-22T06:50:59.654386Z",
     "start_time": "2022-10-22T06:50:59.642392Z"
    }
   },
   "outputs": [
    {
     "data": {
      "text/plain": [
       "array([1., 1., 0., 0., 0., 0., 1., 1., 1., 0., 0., 1., 1., 0., 0., 0., 0.,\n",
       "       0., 0., 1., 1., 0., 0., 1., 1., 0., 1., 1., 1., 1.], dtype=float32)"
      ]
     },
     "execution_count": 8,
     "metadata": {},
     "output_type": "execute_result"
    }
   ],
   "source": [
    "y_train_B[:30]"
   ]
  },
  {
   "cell_type": "markdown",
   "metadata": {},
   "source": [
    "### 训练模型A"
   ]
  },
  {
   "cell_type": "code",
   "execution_count": 9,
   "metadata": {
    "ExecuteTime": {
     "end_time": "2022-10-22T06:53:58.696182Z",
     "start_time": "2022-10-22T06:53:02.938524Z"
    }
   },
   "outputs": [
    {
     "name": "stdout",
     "output_type": "stream",
     "text": [
      "Epoch 1/20\n",
      "1375/1375 [==============================] - 3s 2ms/step - loss: 0.5355 - accuracy: 0.8207 - val_loss: 0.3594 - val_accuracy: 0.8690\n",
      "Epoch 2/20\n",
      "1375/1375 [==============================] - 3s 2ms/step - loss: 0.3438 - accuracy: 0.8810 - val_loss: 0.3108 - val_accuracy: 0.8939\n",
      "Epoch 3/20\n",
      "1375/1375 [==============================] - 3s 2ms/step - loss: 0.3107 - accuracy: 0.8924 - val_loss: 0.2960 - val_accuracy: 0.8971\n",
      "Epoch 4/20\n",
      "1375/1375 [==============================] - 3s 2ms/step - loss: 0.2924 - accuracy: 0.8992 - val_loss: 0.2779 - val_accuracy: 0.9053\n",
      "Epoch 5/20\n",
      "1375/1375 [==============================] - 3s 2ms/step - loss: 0.2802 - accuracy: 0.9035 - val_loss: 0.2732 - val_accuracy: 0.9031\n",
      "Epoch 6/20\n",
      "1375/1375 [==============================] - 3s 2ms/step - loss: 0.2711 - accuracy: 0.9079 - val_loss: 0.2610 - val_accuracy: 0.9118\n",
      "Epoch 7/20\n",
      "1375/1375 [==============================] - 3s 2ms/step - loss: 0.2633 - accuracy: 0.9106 - val_loss: 0.2579 - val_accuracy: 0.9118\n",
      "Epoch 8/20\n",
      "1375/1375 [==============================] - 3s 2ms/step - loss: 0.2572 - accuracy: 0.9121 - val_loss: 0.2550 - val_accuracy: 0.9128\n",
      "Epoch 9/20\n",
      "1375/1375 [==============================] - 3s 2ms/step - loss: 0.2518 - accuracy: 0.9146 - val_loss: 0.2504 - val_accuracy: 0.9170\n",
      "Epoch 10/20\n",
      "1375/1375 [==============================] - 3s 2ms/step - loss: 0.2462 - accuracy: 0.9162 - val_loss: 0.2456 - val_accuracy: 0.9165\n",
      "Epoch 11/20\n",
      "1375/1375 [==============================] - 3s 2ms/step - loss: 0.2428 - accuracy: 0.9177 - val_loss: 0.2511 - val_accuracy: 0.9141\n",
      "Epoch 12/20\n",
      "1375/1375 [==============================] - 3s 2ms/step - loss: 0.2392 - accuracy: 0.9187 - val_loss: 0.2481 - val_accuracy: 0.9173\n",
      "Epoch 13/20\n",
      "1375/1375 [==============================] - 3s 2ms/step - loss: 0.2359 - accuracy: 0.9192 - val_loss: 0.2399 - val_accuracy: 0.9193\n",
      "Epoch 14/20\n",
      "1375/1375 [==============================] - 3s 2ms/step - loss: 0.2326 - accuracy: 0.9210 - val_loss: 0.2377 - val_accuracy: 0.9168\n",
      "Epoch 15/20\n",
      "1375/1375 [==============================] - 3s 2ms/step - loss: 0.2293 - accuracy: 0.9225 - val_loss: 0.2387 - val_accuracy: 0.9165\n",
      "Epoch 16/20\n",
      "1375/1375 [==============================] - 3s 2ms/step - loss: 0.2266 - accuracy: 0.9230 - val_loss: 0.2329 - val_accuracy: 0.9190\n",
      "Epoch 17/20\n",
      "1375/1375 [==============================] - 3s 2ms/step - loss: 0.2239 - accuracy: 0.9231 - val_loss: 0.2327 - val_accuracy: 0.9185\n",
      "Epoch 18/20\n",
      "1375/1375 [==============================] - 3s 2ms/step - loss: 0.2211 - accuracy: 0.9250 - val_loss: 0.2416 - val_accuracy: 0.9138\n",
      "Epoch 19/20\n",
      "1375/1375 [==============================] - 3s 2ms/step - loss: 0.2187 - accuracy: 0.9246 - val_loss: 0.2364 - val_accuracy: 0.9170\n",
      "Epoch 20/20\n",
      "1375/1375 [==============================] - 3s 2ms/step - loss: 0.2170 - accuracy: 0.9257 - val_loss: 0.2297 - val_accuracy: 0.9180\n"
     ]
    }
   ],
   "source": [
    "\"\"\"多分类任务\"\"\"\n",
    "model_A = keras.models.Sequential()\n",
    "model_A.add(keras.layers.Flatten(input_shape=[28, 28]))\n",
    "for n_hidden in (300, 100, 50, 50, 50):\n",
    "    model_A.add(keras.layers.Dense(n_hidden, activation=\"selu\"))\n",
    "model_A.add(keras.layers.Dense(8, activation=\"softmax\"))\n",
    "\n",
    "model_A.compile(loss=\"sparse_categorical_crossentropy\",\n",
    "                optimizer=keras.optimizers.SGD(learning_rate=1e-3),\n",
    "                metrics=[\"accuracy\"])\n",
    "\n",
    "#用A数据集训练模型A（8分类）\n",
    "history = model_A.fit(X_train_A, y_train_A, epochs=20,\n",
    "                    validation_data=(X_valid_A, y_valid_A))"
   ]
  },
  {
   "cell_type": "code",
   "execution_count": 10,
   "metadata": {
    "ExecuteTime": {
     "end_time": "2022-10-22T07:10:59.448262Z",
     "start_time": "2022-10-22T07:10:59.415349Z"
    }
   },
   "outputs": [],
   "source": [
    "model_A.save(\"my_model_A.h5\")"
   ]
  },
  {
   "cell_type": "code",
   "execution_count": 11,
   "metadata": {
    "ExecuteTime": {
     "end_time": "2022-10-22T07:11:59.250772Z",
     "start_time": "2022-10-22T07:11:57.218185Z"
    }
   },
   "outputs": [
    {
     "name": "stdout",
     "output_type": "stream",
     "text": [
      "Epoch 1/20\n",
      "7/7 [==============================] - 0s 28ms/step - loss: 0.7387 - accuracy: 0.5650 - val_loss: 0.6108 - val_accuracy: 0.7272\n",
      "Epoch 2/20\n",
      "7/7 [==============================] - 0s 11ms/step - loss: 0.5643 - accuracy: 0.7300 - val_loss: 0.4909 - val_accuracy: 0.8093\n",
      "Epoch 3/20\n",
      "7/7 [==============================] - 0s 10ms/step - loss: 0.4519 - accuracy: 0.8150 - val_loss: 0.4098 - val_accuracy: 0.8479\n",
      "Epoch 4/20\n",
      "7/7 [==============================] - 0s 11ms/step - loss: 0.3748 - accuracy: 0.8750 - val_loss: 0.3470 - val_accuracy: 0.8884\n",
      "Epoch 5/20\n",
      "7/7 [==============================] - 0s 11ms/step - loss: 0.3145 - accuracy: 0.9100 - val_loss: 0.3048 - val_accuracy: 0.9016\n",
      "Epoch 6/20\n",
      "7/7 [==============================] - 0s 10ms/step - loss: 0.2726 - accuracy: 0.9250 - val_loss: 0.2716 - val_accuracy: 0.9209\n",
      "Epoch 7/20\n",
      "7/7 [==============================] - 0s 13ms/step - loss: 0.2398 - accuracy: 0.9300 - val_loss: 0.2436 - val_accuracy: 0.9351\n",
      "Epoch 8/20\n",
      "7/7 [==============================] - 0s 9ms/step - loss: 0.2123 - accuracy: 0.9400 - val_loss: 0.2231 - val_accuracy: 0.9412\n",
      "Epoch 9/20\n",
      "7/7 [==============================] - 0s 11ms/step - loss: 0.1920 - accuracy: 0.9500 - val_loss: 0.2054 - val_accuracy: 0.9513\n",
      "Epoch 10/20\n",
      "7/7 [==============================] - 0s 12ms/step - loss: 0.1750 - accuracy: 0.9650 - val_loss: 0.1893 - val_accuracy: 0.9564\n",
      "Epoch 11/20\n",
      "7/7 [==============================] - 0s 12ms/step - loss: 0.1595 - accuracy: 0.9700 - val_loss: 0.1772 - val_accuracy: 0.9594\n",
      "Epoch 12/20\n",
      "7/7 [==============================] - 0s 11ms/step - loss: 0.1477 - accuracy: 0.9700 - val_loss: 0.1671 - val_accuracy: 0.9604\n",
      "Epoch 13/20\n",
      "7/7 [==============================] - 0s 10ms/step - loss: 0.1376 - accuracy: 0.9750 - val_loss: 0.1579 - val_accuracy: 0.9625\n",
      "Epoch 14/20\n",
      "7/7 [==============================] - 0s 12ms/step - loss: 0.1288 - accuracy: 0.9750 - val_loss: 0.1502 - val_accuracy: 0.9665\n",
      "Epoch 15/20\n",
      "7/7 [==============================] - 0s 11ms/step - loss: 0.1208 - accuracy: 0.9800 - val_loss: 0.1434 - val_accuracy: 0.9686\n",
      "Epoch 16/20\n",
      "7/7 [==============================] - 0s 10ms/step - loss: 0.1138 - accuracy: 0.9850 - val_loss: 0.1368 - val_accuracy: 0.9696\n",
      "Epoch 17/20\n",
      "7/7 [==============================] - 0s 11ms/step - loss: 0.1074 - accuracy: 0.9850 - val_loss: 0.1307 - val_accuracy: 0.9706\n",
      "Epoch 18/20\n",
      "7/7 [==============================] - 0s 10ms/step - loss: 0.1014 - accuracy: 0.9900 - val_loss: 0.1251 - val_accuracy: 0.9706\n",
      "Epoch 19/20\n",
      "7/7 [==============================] - 0s 11ms/step - loss: 0.0960 - accuracy: 0.9900 - val_loss: 0.1201 - val_accuracy: 0.9736\n",
      "Epoch 20/20\n",
      "7/7 [==============================] - 0s 11ms/step - loss: 0.0912 - accuracy: 0.9900 - val_loss: 0.1150 - val_accuracy: 0.9767\n"
     ]
    }
   ],
   "source": [
    "\"\"\"二分类\"\"\"\n",
    "model_B = keras.models.Sequential()\n",
    "model_B.add(keras.layers.Flatten(input_shape=[28, 28]))\n",
    "for n_hidden in (300, 100, 50, 50, 50):\n",
    "    model_B.add(keras.layers.Dense(n_hidden, activation=\"selu\"))\n",
    "model_B.add(keras.layers.Dense(1, activation=\"sigmoid\"))\n",
    "\n",
    "model_B.compile(loss=\"binary_crossentropy\",\n",
    "                optimizer=keras.optimizers.SGD(learning_rate=1e-3),\n",
    "                metrics=[\"accuracy\"])\n",
    "\n",
    "#用B训练集训练模型B（2分类）\n",
    "history = model_B.fit(X_train_B, y_train_B, epochs=20,\n",
    "                      validation_data=(X_valid_B, y_valid_B))"
   ]
  },
  {
   "cell_type": "markdown",
   "metadata": {},
   "source": [
    "#### 迁移学习，重用模型A除输出层的所有层"
   ]
  },
  {
   "cell_type": "code",
   "execution_count": 12,
   "metadata": {
    "ExecuteTime": {
     "end_time": "2022-10-22T07:34:31.387076Z",
     "start_time": "2022-10-22T07:34:31.255322Z"
    }
   },
   "outputs": [],
   "source": [
    "model_A = keras.models.load_model(\"my_model_A.h5\")\n",
    "\n",
    "model_B_on_A = keras.models.Sequential(model_A.layers[:-1])\n",
    "#model_A和model_B_on_A共享一些层，训练model_B_on_A时会影响model_A\n",
    "\n",
    "model_B_on_A.add(keras.layers.Dense(1, activation=\"sigmoid\"))"
   ]
  },
  {
   "cell_type": "markdown",
   "metadata": {},
   "source": [
    "#### keras.models.clone_model(model_A)：复制模型A的架构\n",
    "#### model.set_weights(model_A.get_weights()):复制模型A的参数"
   ]
  },
  {
   "cell_type": "code",
   "execution_count": 13,
   "metadata": {
    "ExecuteTime": {
     "end_time": "2022-10-22T07:36:11.536013Z",
     "start_time": "2022-10-22T07:36:11.427023Z"
    }
   },
   "outputs": [],
   "source": [
    "\"\"\"克隆模型A，复制其权重，使训练model_B_on_A时不影响已训练好的model_A\"\"\"\n",
    "model_A_clone = keras.models.clone_model(model_A)\n",
    "model_A_clone.set_weights(model_A.get_weights())\n",
    "\n",
    "model_B_on_A = keras.models.Sequential(model_A_clone.layers[:-1])\n",
    "model_B_on_A.add(keras.layers.Dense(1, activation=\"sigmoid\"))\n",
    "#新输出层随机初始化，会产生较大错误梯度，可能会破坏重用的权重\n",
    "#应在前几个轮次冻结重用层（可训练属性设置为“False”），给新层时间学习合理权重"
   ]
  },
  {
   "cell_type": "code",
   "execution_count": 16,
   "metadata": {
    "ExecuteTime": {
     "end_time": "2022-10-22T07:42:57.839382Z",
     "start_time": "2022-10-22T07:42:57.105984Z"
    }
   },
   "outputs": [
    {
     "name": "stdout",
     "output_type": "stream",
     "text": [
      "Epoch 1/4\n",
      "7/7 [==============================] - 0s 27ms/step - loss: 0.7823 - accuracy: 0.5050 - val_loss: 0.7432 - val_accuracy: 0.5162\n",
      "Epoch 2/4\n",
      "7/7 [==============================] - 0s 11ms/step - loss: 0.7095 - accuracy: 0.5550 - val_loss: 0.6795 - val_accuracy: 0.5680\n",
      "Epoch 3/4\n",
      "7/7 [==============================] - 0s 10ms/step - loss: 0.6478 - accuracy: 0.6050 - val_loss: 0.6210 - val_accuracy: 0.6268\n",
      "Epoch 4/4\n",
      "7/7 [==============================] - 0s 10ms/step - loss: 0.5913 - accuracy: 0.6550 - val_loss: 0.5705 - val_accuracy: 0.6755\n"
     ]
    }
   ],
   "source": [
    "\"\"\"冻结重用层：设置layer的trainable参数\"\"\"\n",
    "for layer in model_B_on_A.layers[:-1]:\n",
    "    layer.trainable = False\n",
    "    \n",
    "model_B_on_A.compile(loss=\"binary_crossentropy\",\n",
    "                     optimizer=keras.optimizers.SGD(learning_rate=1e-3),\n",
    "                     metrics=[\"accuracy\"])\n",
    "\n",
    "history = model_B_on_A.fit(X_train_B, y_train_B, epochs=4,\n",
    "                           validation_data=(X_valid_B, y_valid_B))\n",
    "#训练4个轮次，让输出层学习参数"
   ]
  },
  {
   "cell_type": "code",
   "execution_count": 17,
   "metadata": {
    "ExecuteTime": {
     "end_time": "2022-10-22T07:43:42.043562Z",
     "start_time": "2022-10-22T07:43:40.371609Z"
    }
   },
   "outputs": [
    {
     "name": "stdout",
     "output_type": "stream",
     "text": [
      "Epoch 1/16\n",
      "7/7 [==============================] - 0s 29ms/step - loss: 0.4523 - accuracy: 0.8200 - val_loss: 0.3438 - val_accuracy: 0.9097\n",
      "Epoch 2/16\n",
      "7/7 [==============================] - 0s 11ms/step - loss: 0.2974 - accuracy: 0.9400 - val_loss: 0.2669 - val_accuracy: 0.9473\n",
      "Epoch 3/16\n",
      "7/7 [==============================] - 0s 10ms/step - loss: 0.2333 - accuracy: 0.9650 - val_loss: 0.2187 - val_accuracy: 0.9615\n",
      "Epoch 4/16\n",
      "7/7 [==============================] - 0s 11ms/step - loss: 0.1916 - accuracy: 0.9650 - val_loss: 0.1856 - val_accuracy: 0.9746\n",
      "Epoch 5/16\n",
      "7/7 [==============================] - 0s 10ms/step - loss: 0.1625 - accuracy: 0.9700 - val_loss: 0.1607 - val_accuracy: 0.9817\n",
      "Epoch 6/16\n",
      "7/7 [==============================] - 0s 11ms/step - loss: 0.1399 - accuracy: 0.9750 - val_loss: 0.1431 - val_accuracy: 0.9828\n",
      "Epoch 7/16\n",
      "7/7 [==============================] - 0s 10ms/step - loss: 0.1239 - accuracy: 0.9800 - val_loss: 0.1285 - val_accuracy: 0.9848\n",
      "Epoch 8/16\n",
      "7/7 [==============================] - 0s 11ms/step - loss: 0.1104 - accuracy: 0.9850 - val_loss: 0.1178 - val_accuracy: 0.9858\n",
      "Epoch 9/16\n",
      "7/7 [==============================] - 0s 14ms/step - loss: 0.1006 - accuracy: 0.9850 - val_loss: 0.1084 - val_accuracy: 0.9868\n",
      "Epoch 10/16\n",
      "7/7 [==============================] - 0s 11ms/step - loss: 0.0919 - accuracy: 0.9850 - val_loss: 0.1011 - val_accuracy: 0.9868\n",
      "Epoch 11/16\n",
      "7/7 [==============================] - 0s 13ms/step - loss: 0.0850 - accuracy: 0.9850 - val_loss: 0.0949 - val_accuracy: 0.9868\n",
      "Epoch 12/16\n",
      "7/7 [==============================] - 0s 11ms/step - loss: 0.0793 - accuracy: 0.9900 - val_loss: 0.0894 - val_accuracy: 0.9878\n",
      "Epoch 13/16\n",
      "7/7 [==============================] - 0s 10ms/step - loss: 0.0740 - accuracy: 0.9900 - val_loss: 0.0846 - val_accuracy: 0.9888\n",
      "Epoch 14/16\n",
      "7/7 [==============================] - 0s 13ms/step - loss: 0.0695 - accuracy: 0.9900 - val_loss: 0.0805 - val_accuracy: 0.9888\n",
      "Epoch 15/16\n",
      "7/7 [==============================] - 0s 13ms/step - loss: 0.0656 - accuracy: 0.9900 - val_loss: 0.0770 - val_accuracy: 0.9888\n",
      "Epoch 16/16\n",
      "7/7 [==============================] - 0s 12ms/step - loss: 0.0623 - accuracy: 0.9900 - val_loss: 0.0739 - val_accuracy: 0.9888\n"
     ]
    }
   ],
   "source": [
    "\"\"\"解冻重用层\"\"\"\n",
    "for layer in model_B_on_A.layers[:-1]:\n",
    "    layer.trainable = True\n",
    "\n",
    "model_B_on_A.compile(loss=\"binary_crossentropy\",\n",
    "                     optimizer=keras.optimizers.SGD(learning_rate=1e-4),\n",
    "                     #降低学习率从1e-3降至1e-4，可避免损坏重用权重\n",
    "                     metrics=[\"accuracy\"])\n",
    "history = model_B_on_A.fit(X_train_B, y_train_B, epochs=16,\n",
    "                           validation_data=(X_valid_B, y_valid_B))"
   ]
  },
  {
   "cell_type": "markdown",
   "metadata": {},
   "source": [
    "#### 迁移学习得到的model_B_on_A（精度0.9888）比model_B的精度（精度0.9767）高0.01"
   ]
  },
  {
   "cell_type": "code",
   "execution_count": 18,
   "metadata": {
    "ExecuteTime": {
     "end_time": "2022-10-22T07:53:43.491946Z",
     "start_time": "2022-10-22T07:53:43.338342Z"
    }
   },
   "outputs": [
    {
     "name": "stdout",
     "output_type": "stream",
     "text": [
      "63/63 [==============================] - 0s 1ms/step - loss: 0.1143 - accuracy: 0.9755\n"
     ]
    },
    {
     "data": {
      "text/plain": [
       "[0.11425404250621796, 0.9754999876022339]"
      ]
     },
     "execution_count": 18,
     "metadata": {},
     "output_type": "execute_result"
    }
   ],
   "source": [
    "model_B.evaluate(X_test_B, y_test_B)"
   ]
  },
  {
   "cell_type": "code",
   "execution_count": 19,
   "metadata": {
    "ExecuteTime": {
     "end_time": "2022-10-22T07:54:01.716754Z",
     "start_time": "2022-10-22T07:54:01.563759Z"
    }
   },
   "outputs": [
    {
     "name": "stdout",
     "output_type": "stream",
     "text": [
      "63/63 [==============================] - 0s 1ms/step - loss: 0.0705 - accuracy: 0.9940\n"
     ]
    },
    {
     "data": {
      "text/plain": [
       "[0.07050134986639023, 0.9940000176429749]"
      ]
     },
     "execution_count": 19,
     "metadata": {},
     "output_type": "execute_result"
    }
   ],
   "source": [
    "model_B_on_A.evaluate(X_test_B, y_test_B)"
   ]
  },
  {
   "cell_type": "code",
   "execution_count": null,
   "metadata": {},
   "outputs": [],
   "source": []
  }
 ],
 "metadata": {
  "kernelspec": {
   "display_name": "Python 3",
   "language": "python",
   "name": "python3"
  },
  "language_info": {
   "codemirror_mode": {
    "name": "ipython",
    "version": 3
   },
   "file_extension": ".py",
   "mimetype": "text/x-python",
   "name": "python",
   "nbconvert_exporter": "python",
   "pygments_lexer": "ipython3",
   "version": "3.7.0"
  }
 },
 "nbformat": 4,
 "nbformat_minor": 2
}
