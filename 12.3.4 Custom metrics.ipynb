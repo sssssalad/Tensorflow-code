{
 "cells": [
  {
   "cell_type": "code",
   "execution_count": 1,
   "metadata": {
    "ExecuteTime": {
     "end_time": "2022-11-08T12:28:17.933752Z",
     "start_time": "2022-11-08T12:28:14.422409Z"
    }
   },
   "outputs": [],
   "source": [
    "import tensorflow as tf\n",
    "import numpy as np\n",
    "from tensorflow import keras"
   ]
  },
  {
   "cell_type": "code",
   "execution_count": 2,
   "metadata": {
    "ExecuteTime": {
     "end_time": "2022-11-08T12:28:19.423387Z",
     "start_time": "2022-11-08T12:28:17.934135Z"
    }
   },
   "outputs": [],
   "source": [
    "from sklearn.datasets import fetch_california_housing\n",
    "from sklearn.model_selection import train_test_split\n",
    "from sklearn.preprocessing import StandardScaler\n",
    "\n",
    "housing = fetch_california_housing()\n",
    "#总计20640个样本，每个样本8个属性表示，以及房价作为target，所有属性值均为number\n",
    "#目标变量：平均房屋价值\n",
    "#输入变量（特征）：平均收入、住房平均年龄、平均房间、平均卧室、人口、平均占用、纬度和经度\n",
    "\n",
    "X_train_full, X_test, y_train_full, y_test = train_test_split(\n",
    "    housing.data, housing.target.reshape(-1, 1), random_state=42)\n",
    "X_train, X_valid, y_train, y_valid = train_test_split(\n",
    "    X_train_full, y_train_full, random_state=42)\n",
    "\n",
    "scaler = StandardScaler()\n",
    "X_train_scaled = scaler.fit_transform(X_train)\n",
    "X_valid_scaled = scaler.transform(X_valid)\n",
    "X_test_scaled = scaler.transform(X_test)"
   ]
  },
  {
   "cell_type": "code",
   "execution_count": 5,
   "metadata": {
    "ExecuteTime": {
     "end_time": "2022-11-08T12:29:44.260158Z",
     "start_time": "2022-11-08T12:29:44.244483Z"
    }
   },
   "outputs": [],
   "source": [
    "input_shape = X_train.shape[1:]"
   ]
  },
  {
   "cell_type": "code",
   "execution_count": 3,
   "metadata": {
    "ExecuteTime": {
     "end_time": "2022-11-08T12:28:19.438873Z",
     "start_time": "2022-11-08T12:28:19.423387Z"
    }
   },
   "outputs": [],
   "source": [
    "#创建一个函数重新创建已配置的损失函数，阈值默认值为1.0\n",
    "def create_huber(threshold=1.0):\n",
    "    def huber_fn(y_true, y_pred):\n",
    "        error = y_true - y_pred\n",
    "        is_small_error = tf.abs(error) < threshold\n",
    "        squared_loss = tf.square(error) / 2\n",
    "        linear_loss  = threshold * tf.abs(error) - threshold**2 / 2\n",
    "        return tf.where(is_small_error, squared_loss, linear_loss)\n",
    "    return huber_fn"
   ]
  },
  {
   "cell_type": "markdown",
   "metadata": {},
   "source": [
    "### Custom Metrics自定义指标"
   ]
  },
  {
   "cell_type": "code",
   "execution_count": 6,
   "metadata": {
    "ExecuteTime": {
     "end_time": "2022-11-08T12:29:49.380673Z",
     "start_time": "2022-11-08T12:29:47.328439Z"
    }
   },
   "outputs": [
    {
     "name": "stdout",
     "output_type": "stream",
     "text": [
      "Epoch 1/2\n",
      "363/363 [==============================] - 1s 884us/step - loss: 2.1071 - huber_fn: 0.9148\n",
      "Epoch 2/2\n",
      "363/363 [==============================] - 0s 820us/step - loss: 0.5010 - huber_fn: 0.2443\n"
     ]
    },
    {
     "data": {
      "text/plain": [
       "<keras.callbacks.History at 0x2028676f898>"
      ]
     },
     "execution_count": 6,
     "metadata": {},
     "output_type": "execute_result"
    }
   ],
   "source": [
    "model = keras.models.Sequential([\n",
    "    keras.layers.Dense(30, activation=\"selu\", kernel_initializer=\"lecun_normal\",\n",
    "                       input_shape=input_shape),\n",
    "    keras.layers.Dense(1),\n",
    "])\n",
    "model.compile(loss=\"mse\", optimizer=\"nadam\", metrics=[create_huber(2.0)])\n",
    "#用huber损失作为一个指标\n",
    "\n",
    "model.fit(X_train_scaled, y_train, epochs=2)"
   ]
  },
  {
   "cell_type": "markdown",
   "metadata": {},
   "source": [
    "将huber损失定义为loss和metric出来的模型效果不一样\n",
    "\n",
    "loss = metric × 样本权重平均值 (加上一些浮点精确值的误差)\n",
    "\n",
    "loss：损失函数的目的是计算模型在训练过程中最小化的数值。实际的优化目标：所有数据点输出数组的平均值。\n",
    "\n",
    "metric：指标是用于判断模型性能的函数，训练模型时不使用指标，可使用任何loss函数作为指标。"
   ]
  },
  {
   "cell_type": "raw",
   "metadata": {},
   "source": [
    "自每个epoch开始的loss = 到目前为止所有epoch的loss平均值，\n",
    "每个epoch的loss＝加权的实例loss之和÷epoch大小（因此批次损失不是损失的加权平均值)\n",
    "\n",
    "每个epoch开始以来的metric=加权的实例loss的总和÷到目前为止的所有权重的总和\n",
    "                 =所有实例损失的加权平均值"
   ]
  },
  {
   "cell_type": "markdown",
   "metadata": {},
   "source": [
    "对训练期间的每一批次keras都会计算该指标、并自动跟踪自轮次开始以来的均值（但阈值无法保存）"
   ]
  },
  {
   "cell_type": "code",
   "execution_count": 7,
   "metadata": {
    "ExecuteTime": {
     "end_time": "2022-11-08T12:29:55.343535Z",
     "start_time": "2022-11-08T12:29:52.448568Z"
    }
   },
   "outputs": [
    {
     "name": "stdout",
     "output_type": "stream",
     "text": [
      "Epoch 1/2\n",
      "363/363 [==============================] - 1s 970us/step - loss: 0.1144 - huber_fn: 0.2337\n",
      "Epoch 2/2\n",
      "363/363 [==============================] - 0s 928us/step - loss: 0.1097 - huber_fn: 0.2262\n"
     ]
    }
   ],
   "source": [
    "model.compile(loss=create_huber(2.0), optimizer=\"nadam\", \n",
    "              metrics=[create_huber(2.0)])\n",
    "#若第一轮次指标为0.8，第二轮次为0，则第二轮次后两次指标均值得到的指标值为0.4\n",
    "#与自轮次开始以来总体指标0.5不相等，不正确\n",
    "\n",
    "sample_weight = np.random.rand(len(y_train))\n",
    "#生成和训练集样本个数同样数量的权重随机值\n",
    "\n",
    "history = model.fit(X_train_scaled, y_train, epochs=2, \n",
    "                    sample_weight=sample_weight)"
   ]
  },
  {
   "cell_type": "markdown",
   "metadata": {},
   "source": [
    "model.fit()返回一个History对象，包含训练参数history.params、经历的轮次列表history.epoch，包含在训练集和验证集上每个轮次结束时测得的损失和格外指标的字典history.history。"
   ]
  },
  {
   "cell_type": "code",
   "execution_count": 8,
   "metadata": {
    "ExecuteTime": {
     "end_time": "2022-11-08T12:29:57.244444Z",
     "start_time": "2022-11-08T12:29:57.217888Z"
    }
   },
   "outputs": [
    {
     "data": {
      "text/plain": [
       "(0.11435428261756897, 0.11704190442014657)"
      ]
     },
     "execution_count": 8,
     "metadata": {},
     "output_type": "execute_result"
    }
   ],
   "source": [
    "history.history[\"loss\"][0], history.history[\"huber_fn\"][0] * sample_weight.mean()\n",
    "#将metric得到的metric × 样本权重平均值得到的loss与自每个epoch开始的loss比较\n",
    "#差距是由于浮点计算引起的误差值"
   ]
  },
  {
   "cell_type": "markdown",
   "metadata": {},
   "source": [
    "### 流式指标（逐批次更新的状态指标）"
   ]
  },
  {
   "cell_type": "markdown",
   "metadata": {},
   "source": [
    "keras.metrics.Precision类：跟踪真正和假正的数量，在被请求时计算其比率"
   ]
  },
  {
   "cell_type": "code",
   "execution_count": 9,
   "metadata": {
    "ExecuteTime": {
     "end_time": "2022-11-08T12:31:57.161735Z",
     "start_time": "2022-11-08T12:31:57.133801Z"
    }
   },
   "outputs": [
    {
     "data": {
      "text/plain": [
       "<tf.Tensor: shape=(), dtype=float32, numpy=0.8>"
      ]
     },
     "execution_count": 9,
     "metadata": {},
     "output_type": "execute_result"
    }
   ],
   "source": [
    "precision = keras.metrics.Precision()\n",
    "precision([0, 1, 1, 1, 0, 1, 0, 1], \n",
    "          [1, 1, 0, 1, 0, 1, 0, 1])\n",
    "#做了5次正预测其中4次是对的，本轮次精度ACC = 真正例/（真正例+假正例）= 4/5=80%\n",
    "#由于是第一轮次，因此目前为止总体精度=0.8"
   ]
  },
  {
   "cell_type": "code",
   "execution_count": 10,
   "metadata": {
    "ExecuteTime": {
     "end_time": "2022-11-08T12:32:07.912971Z",
     "start_time": "2022-11-08T12:32:07.888555Z"
    }
   },
   "outputs": [
    {
     "data": {
      "text/plain": [
       "<tf.Tensor: shape=(), dtype=float32, numpy=0.5>"
      ]
     },
     "execution_count": 10,
     "metadata": {},
     "output_type": "execute_result"
    }
   ],
   "source": [
    "precision([0, 1, 0, 0, 1, 0, 1, 0],\n",
    "          [1, 0, 1, 1, 0, 0, 0, 0])\n",
    "#做了3次正预测都不对，本轮次精度 =0%，\n",
    "#目前为止总体精度=目前为止所有真正例/（目前为止所有真正例+目前为止所有假正例）=4/8=0.5"
   ]
  },
  {
   "cell_type": "markdown",
   "metadata": {},
   "source": [
    "result()：获取指标当前值"
   ]
  },
  {
   "cell_type": "code",
   "execution_count": 11,
   "metadata": {
    "ExecuteTime": {
     "end_time": "2022-11-08T12:32:27.334879Z",
     "start_time": "2022-11-08T12:32:27.318906Z"
    }
   },
   "outputs": [
    {
     "data": {
      "text/plain": [
       "<tf.Tensor: shape=(), dtype=float32, numpy=0.5>"
      ]
     },
     "execution_count": 11,
     "metadata": {},
     "output_type": "execute_result"
    }
   ],
   "source": [
    "precision.result()\n",
    "#目前为止总体精度"
   ]
  },
  {
   "cell_type": "markdown",
   "metadata": {},
   "source": [
    "variables属性:查看变量"
   ]
  },
  {
   "cell_type": "code",
   "execution_count": 12,
   "metadata": {
    "ExecuteTime": {
     "end_time": "2022-11-08T12:32:48.634056Z",
     "start_time": "2022-11-08T12:32:48.626053Z"
    }
   },
   "outputs": [
    {
     "data": {
      "text/plain": [
       "[<tf.Variable 'true_positives:0' shape=(1,) dtype=float32, numpy=array([4.], dtype=float32)>,\n",
       " <tf.Variable 'false_positives:0' shape=(1,) dtype=float32, numpy=array([4.], dtype=float32)>]"
      ]
     },
     "execution_count": 12,
     "metadata": {},
     "output_type": "execute_result"
    }
   ],
   "source": [
    "precision.variables\n",
    "#真正例和假正例判断次数都为4"
   ]
  },
  {
   "cell_type": "markdown",
   "metadata": {},
   "source": [
    "reset_states():重置变量"
   ]
  },
  {
   "cell_type": "code",
   "execution_count": 13,
   "metadata": {
    "ExecuteTime": {
     "end_time": "2022-11-08T12:33:24.148763Z",
     "start_time": "2022-11-08T12:33:24.124930Z"
    }
   },
   "outputs": [
    {
     "data": {
      "text/plain": [
       "[<tf.Variable 'true_positives:0' shape=(1,) dtype=float32, numpy=array([0.], dtype=float32)>,\n",
       " <tf.Variable 'false_positives:0' shape=(1,) dtype=float32, numpy=array([0.], dtype=float32)>]"
      ]
     },
     "execution_count": 13,
     "metadata": {},
     "output_type": "execute_result"
    }
   ],
   "source": [
    "precision.reset_states()\n",
    "precision.variables#变量都被设置为0了"
   ]
  },
  {
   "cell_type": "markdown",
   "metadata": {},
   "source": [
    "#### 创建流式指标"
   ]
  },
  {
   "cell_type": "markdown",
   "metadata": {},
   "source": [
    "keras.add_weight():手动创建变量\n",
    "\n",
    "tf.cast(x，dtype):类型转换\n",
    "\n",
    "tf.assign_add(ref, value, use_locking=None, name=None)：将值 value 加到变量 ref 上\n",
    "\n",
    "tf.size ()：返回输入张量的大小（元素个数）"
   ]
  },
  {
   "cell_type": "code",
   "execution_count": 14,
   "metadata": {
    "ExecuteTime": {
     "end_time": "2022-11-08T12:34:02.587703Z",
     "start_time": "2022-11-08T12:34:02.563669Z"
    }
   },
   "outputs": [],
   "source": [
    "class HuberMetric(keras.metrics.Metric):\n",
    "    \"\"\"\n",
    "    继承keras.metrics.Metric类，跟踪Huber总损失（目前为止总体loss），\n",
    "    keras在每个批次调用该指标，跟踪每轮次的均值，\n",
    "    好处是：可保存阈值\n",
    "    \"\"\"\n",
    "    def __init__(self, threshold=1.0, **kwargs):\n",
    "        super().__init__(**kwargs) # handles base args (e.g., dtype)\n",
    "        self.threshold = threshold\n",
    "        self.huber_fn = create_huber(threshold)\n",
    "        self.total = self.add_weight(\"total\", initializer=\"zeros\")\n",
    "        #跟踪所有Huber损失的总和（总计）,初始化为0\n",
    "        self.count = self.add_weight(\"count\", initializer=\"zeros\")\n",
    "        #跟踪目前为止的所有实例数（计数）\n",
    "\n",
    "    def update_state(self, y_true, y_pred, sample_weight=None):\n",
    "        \"\"\"给定一个批次的标签和预测值，更新变量\"\"\"\n",
    "        metric = self.huber_fn(y_true, y_pred)\n",
    "        #调用huber_add方法，得到所有标签被判定正确的loss\n",
    "        self.total.assign_add(tf.reduce_sum(metric))\n",
    "        self.count.assign_add(tf.cast(tf.size(y_true), tf.float32))  \n",
    "        \n",
    "    def result(self):\n",
    "        \"\"\"指标=目前为止所有批次的loss/目前为止所有实例\"\"\"\n",
    "        return self.total / self.count\n",
    "    \n",
    "    def get_config(self):\n",
    "        \"\"\"确保threshold与模型一起被保存\"\"\"\n",
    "        base_config = super().get_config()\n",
    "        return {**base_config, \"threshold\": self.threshold}"
   ]
  },
  {
   "cell_type": "code",
   "execution_count": 15,
   "metadata": {
    "ExecuteTime": {
     "end_time": "2022-11-08T12:34:13.566948Z",
     "start_time": "2022-11-08T12:34:13.535292Z"
    }
   },
   "outputs": [],
   "source": [
    "m = HuberMetric(2.)\n",
    "#创建HuberMetric类的实例m\n",
    "#huber loss的阈值设为2.0"
   ]
  },
  {
   "cell_type": "code",
   "execution_count": 16,
   "metadata": {
    "ExecuteTime": {
     "end_time": "2022-11-08T12:34:24.842202Z",
     "start_time": "2022-11-08T12:34:24.735331Z"
    }
   },
   "outputs": [
    {
     "data": {
      "text/plain": [
       "<tf.Tensor: shape=(), dtype=float32, numpy=14.0>"
      ]
     },
     "execution_count": 16,
     "metadata": {},
     "output_type": "execute_result"
    }
   ],
   "source": [
    "# error=10-2=8>2，总体loss：total = 2 * |10 - 2| - 2²/2 = 14\n",
    "# count = 1，一共跟踪了一个实例\n",
    "# result = 14 / 1 = 14\n",
    "\n",
    "#y_true真实标签为2, y_pred预测标签为10\n",
    "m(tf.constant([[2.]]), tf.constant([[10.]])) "
   ]
  },
  {
   "cell_type": "code",
   "execution_count": 17,
   "metadata": {
    "ExecuteTime": {
     "end_time": "2022-11-08T12:34:41.635555Z",
     "start_time": "2022-11-08T12:34:41.619572Z"
    }
   },
   "outputs": [
    {
     "data": {
      "text/plain": [
       "<tf.Tensor: shape=(), dtype=float32, numpy=7.0>"
      ]
     },
     "execution_count": 17,
     "metadata": {},
     "output_type": "execute_result"
    }
   ],
   "source": [
    "# error=（1-0<2）、（9.25-5>2）\n",
    "#total = total + (|1 - 0|² / 2) + (2 * |9.25 - 5| - 2² / 2) = 14 + 7 = 21\n",
    "# count = count + 2 = 3,两个轮次一共3个实例\n",
    "# result = total / count = 21 / 3 = 7\n",
    "m(tf.constant([[0.], [5.]]), tf.constant([[1.], [9.25]]))\n",
    "m.result()"
   ]
  },
  {
   "cell_type": "code",
   "execution_count": 18,
   "metadata": {
    "ExecuteTime": {
     "end_time": "2022-11-08T12:34:50.197699Z",
     "start_time": "2022-11-08T12:34:50.173649Z"
    }
   },
   "outputs": [
    {
     "data": {
      "text/plain": [
       "[<tf.Variable 'total:0' shape=() dtype=float32, numpy=21.0>,\n",
       " <tf.Variable 'count:0' shape=() dtype=float32, numpy=3.0>]"
      ]
     },
     "execution_count": 18,
     "metadata": {},
     "output_type": "execute_result"
    }
   ],
   "source": [
    "m.variables"
   ]
  },
  {
   "cell_type": "code",
   "execution_count": 19,
   "metadata": {
    "ExecuteTime": {
     "end_time": "2022-11-08T12:34:59.076884Z",
     "start_time": "2022-11-08T12:34:59.061255Z"
    }
   },
   "outputs": [
    {
     "data": {
      "text/plain": [
       "[<tf.Variable 'total:0' shape=() dtype=float32, numpy=0.0>,\n",
       " <tf.Variable 'count:0' shape=() dtype=float32, numpy=0.0>]"
      ]
     },
     "execution_count": 19,
     "metadata": {},
     "output_type": "execute_result"
    }
   ],
   "source": [
    "m.reset_states()\n",
    "m.variables"
   ]
  },
  {
   "cell_type": "markdown",
   "metadata": {},
   "source": [
    "#### 测试HuberMetric类构建流式指标的模型效果"
   ]
  },
  {
   "cell_type": "code",
   "execution_count": 20,
   "metadata": {
    "ExecuteTime": {
     "end_time": "2022-11-08T12:35:22.501764Z",
     "start_time": "2022-11-08T12:35:21.186334Z"
    }
   },
   "outputs": [
    {
     "name": "stdout",
     "output_type": "stream",
     "text": [
      "Epoch 1/2\n",
      "363/363 [==============================] - 1s 950us/step - loss: 0.7793 - huber_metric_1: 0.7793\n",
      "Epoch 2/2\n",
      "363/363 [==============================] - 0s 905us/step - loss: 0.2337 - huber_metric_1: 0.2337\n"
     ]
    },
    {
     "data": {
      "text/plain": [
       "<keras.callbacks.History at 0x2028cd5e9e8>"
      ]
     },
     "execution_count": 20,
     "metadata": {},
     "output_type": "execute_result"
    }
   ],
   "source": [
    "model = keras.models.Sequential([\n",
    "    keras.layers.Dense(30, activation=\"selu\", \n",
    "                       kernel_initializer=\"lecun_normal\",\n",
    "                       input_shape=input_shape),\n",
    "    keras.layers.Dense(1),\n",
    "])\n",
    "model.compile(loss=create_huber(2.0), optimizer=\"nadam\", \n",
    "              metrics=[HuberMetric(2.0)])\n",
    "#设置指标metrics为阈值2的HuberMetric实例\n",
    "\n",
    "model.fit(X_train_scaled.astype(np.float32), \n",
    "          y_train.astype(np.float32), epochs=2)"
   ]
  },
  {
   "cell_type": "code",
   "execution_count": 21,
   "metadata": {
    "ExecuteTime": {
     "end_time": "2022-11-08T12:35:39.630979Z",
     "start_time": "2022-11-08T12:35:38.589811Z"
    }
   },
   "outputs": [
    {
     "name": "stdout",
     "output_type": "stream",
     "text": [
      "Epoch 1/2\n",
      "363/363 [==============================] - 1s 874us/step - loss: 0.2236 - huber_metric_1: 0.2236\n",
      "Epoch 2/2\n",
      "363/363 [==============================] - 0s 853us/step - loss: 0.2173 - huber_metric_1: 0.2173\n"
     ]
    },
    {
     "data": {
      "text/plain": [
       "<keras.callbacks.History at 0x2028566b978>"
      ]
     },
     "execution_count": 21,
     "metadata": {},
     "output_type": "execute_result"
    }
   ],
   "source": [
    "model.save(\"my_model_with_a_custom_metric.h5\")\n",
    "model = keras.models.load_model(\"my_model_with_a_custom_metric.h5\",\n",
    "                                custom_objects={\"huber_fn\": create_huber(2.0),\n",
    "                                                \"HuberMetric\": HuberMetric})\n",
    "model.fit(X_train_scaled.astype(np.float32), \n",
    "          y_train.astype(np.float32), epochs=2)"
   ]
  },
  {
   "cell_type": "code",
   "execution_count": 22,
   "metadata": {
    "ExecuteTime": {
     "end_time": "2022-11-08T12:35:52.805611Z",
     "start_time": "2022-11-08T12:35:52.797621Z"
    }
   },
   "outputs": [
    {
     "data": {
      "text/plain": [
       "2.0"
      ]
     },
     "execution_count": 22,
     "metadata": {},
     "output_type": "execute_result"
    }
   ],
   "source": [
    "model.metrics[-1].threshold\n",
    "#最后一个指标的阈值"
   ]
  },
  {
   "cell_type": "markdown",
   "metadata": {},
   "source": [
    "#### 创建流式指标（简化）"
   ]
  },
  {
   "cell_type": "markdown",
   "metadata": {},
   "source": [
    "update_state():将每一次更新的数据作为一组数据，在真正计算的时候会计算出每一组的结果，然后求多组结果的平均值"
   ]
  },
  {
   "cell_type": "code",
   "execution_count": 23,
   "metadata": {
    "ExecuteTime": {
     "end_time": "2022-11-08T12:36:32.981288Z",
     "start_time": "2022-11-08T12:36:32.957251Z"
    }
   },
   "outputs": [],
   "source": [
    "class HuberMetric(keras.metrics.Mean):\n",
    "    \"\"\"\n",
    "    继承keras.metrics.Mean类，\n",
    "    结果为到目前为止所有epoch的loss平均值\n",
    "    \"\"\"\n",
    "    def __init__(self, threshold=1.0, name='HuberMetric', dtype=None):\n",
    "        self.threshold = threshold\n",
    "        self.huber_fn = create_huber(threshold)\n",
    "        super().__init__(name=name, dtype=dtype)\n",
    "        \n",
    "    def update_state(self, y_true, y_pred, sample_weight=None):\n",
    "        \"\"\"指标=目前为止所有批次的loss/目前为止所有实例\"\"\"\n",
    "        metric = self.huber_fn(y_true, y_pred)\n",
    "        #调用huber_add方法，得到标签被判定正确的loss\n",
    "        super(HuberMetric, self).update_state(metric, sample_weight)\n",
    "        #计算指标的平均值\n",
    "        \n",
    "    def get_config(self):\n",
    "        base_config = super().get_config()\n",
    "        return {**base_config, \"threshold\": self.threshold}        "
   ]
  },
  {
   "cell_type": "markdown",
   "metadata": {},
   "source": [
    "model.compile（）的metrics参数：用于评估当前训练模型的性能的评价函数。当模型编译后评价函数应该作为 metrics 的参数来输入。评价函数的结果不会用于训练过程中。\n",
    "\n",
    "model.compile（）的weighted_metrics参数：在训练和测试期间，要由 sample_weight 或 class_weight 评估和加权的指标列表,会给出一系列指标"
   ]
  },
  {
   "cell_type": "code",
   "execution_count": 24,
   "metadata": {
    "ExecuteTime": {
     "end_time": "2022-11-08T12:36:54.890379Z",
     "start_time": "2022-11-08T12:36:51.656710Z"
    }
   },
   "outputs": [
    {
     "name": "stdout",
     "output_type": "stream",
     "text": [
      "Epoch 1/2\n",
      "363/363 [==============================] - 1s 1ms/step - loss: 0.3993 - HuberMetric: 0.8024\n",
      "Epoch 2/2\n",
      "363/363 [==============================] - 0s 1ms/step - loss: 0.1232 - HuberMetric: 0.2475\n"
     ]
    }
   ],
   "source": [
    "#测试效果\n",
    "model = keras.models.Sequential([\n",
    "    keras.layers.Dense(30, activation=\"selu\", kernel_initializer=\"lecun_normal\",\n",
    "                       input_shape=input_shape),\n",
    "    keras.layers.Dense(1),\n",
    "])\n",
    "model.compile(loss=keras.losses.Huber(2.0), \n",
    "              optimizer=\"nadam\", \n",
    "              weighted_metrics=[HuberMetric(2.0)])\n",
    "#设置权重指标列表为阈值为2的HuberMetric类实例\n",
    "\n",
    "sample_weight = np.random.rand(len(y_train))\n",
    "history = model.fit(X_train_scaled.astype(np.float32), y_train.astype(np.float32),\n",
    "                    epochs=2, sample_weight=sample_weight)"
   ]
  },
  {
   "cell_type": "code",
   "execution_count": 25,
   "metadata": {
    "ExecuteTime": {
     "end_time": "2022-11-08T12:37:07.105540Z",
     "start_time": "2022-11-08T12:37:07.089381Z"
    }
   },
   "outputs": [
    {
     "data": {
      "text/plain": [
       "0.39927175641059875"
      ]
     },
     "execution_count": 25,
     "metadata": {},
     "output_type": "execute_result"
    }
   ],
   "source": [
    "history.history[\"loss\"][0]"
   ]
  },
  {
   "cell_type": "code",
   "execution_count": 26,
   "metadata": {
    "ExecuteTime": {
     "end_time": "2022-11-08T12:37:15.034831Z",
     "start_time": "2022-11-08T12:37:15.011025Z"
    }
   },
   "outputs": [
    {
     "data": {
      "text/plain": [
       "0.39927155268077624"
      ]
     },
     "execution_count": 26,
     "metadata": {},
     "output_type": "execute_result"
    }
   ],
   "source": [
    "#目前为止总体loss = 目前为止所有epoch的loss平均值metric × 样本权重的平均值 \n",
    "#(加上一些浮点精确值的误差)\n",
    "history.history[\"HuberMetric\"][0] * sample_weight.mean()"
   ]
  },
  {
   "cell_type": "code",
   "execution_count": 27,
   "metadata": {
    "ExecuteTime": {
     "end_time": "2022-11-08T12:37:25.447443Z",
     "start_time": "2022-11-08T12:37:24.394055Z"
    }
   },
   "outputs": [
    {
     "name": "stdout",
     "output_type": "stream",
     "text": [
      "Epoch 1/2\n",
      "363/363 [==============================] - 1s 907us/step - loss: 0.2250 - HuberMetric: 0.2250\n",
      "Epoch 2/2\n",
      "363/363 [==============================] - 0s 948us/step - loss: 0.2159 - HuberMetric: 0.2159\n"
     ]
    },
    {
     "data": {
      "text/plain": [
       "<keras.callbacks.History at 0x20291138b38>"
      ]
     },
     "execution_count": 27,
     "metadata": {},
     "output_type": "execute_result"
    }
   ],
   "source": [
    "model.save(\"my_model_with_a_custom_metric_v2.h5\")\n",
    "model = keras.models.load_model(\"my_model_with_a_custom_metric_v2.h5\",\n",
    "                                custom_objects={\"HuberMetric\": HuberMetric})\n",
    "model.fit(X_train_scaled.astype(np.float32), \n",
    "          y_train.astype(np.float32), epochs=2)"
   ]
  },
  {
   "cell_type": "code",
   "execution_count": 28,
   "metadata": {
    "ExecuteTime": {
     "end_time": "2022-11-08T12:37:34.995754Z",
     "start_time": "2022-11-08T12:37:34.987748Z"
    }
   },
   "outputs": [
    {
     "data": {
      "text/plain": [
       "2.0"
      ]
     },
     "execution_count": 28,
     "metadata": {},
     "output_type": "execute_result"
    }
   ],
   "source": [
    "#最后一个指标（huber loss）的阈值\n",
    "model.metrics[-1].threshold"
   ]
  },
  {
   "cell_type": "code",
   "execution_count": null,
   "metadata": {},
   "outputs": [],
   "source": []
  }
 ],
 "metadata": {
  "kernelspec": {
   "display_name": "Python 3",
   "language": "python",
   "name": "python3"
  },
  "language_info": {
   "codemirror_mode": {
    "name": "ipython",
    "version": 3
   },
   "file_extension": ".py",
   "mimetype": "text/x-python",
   "name": "python",
   "nbconvert_exporter": "python",
   "pygments_lexer": "ipython3",
   "version": "3.7.0"
  }
 },
 "nbformat": 4,
 "nbformat_minor": 2
}
