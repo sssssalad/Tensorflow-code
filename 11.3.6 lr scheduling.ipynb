{
 "cells": [
  {
   "cell_type": "markdown",
   "metadata": {},
   "source": [
    "## 学习率调度"
   ]
  },
  {
   "cell_type": "code",
   "execution_count": 1,
   "metadata": {
    "ExecuteTime": {
     "end_time": "2022-10-26T03:03:55.179117Z",
     "start_time": "2022-10-26T03:03:46.990209Z"
    }
   },
   "outputs": [],
   "source": [
    "import sys\n",
    "import sklearn\n",
    "import tensorflow as tf\n",
    "from tensorflow import keras\n",
    "import numpy as np\n",
    "import os\n",
    "\n",
    "np.random.seed(42)"
   ]
  },
  {
   "cell_type": "code",
   "execution_count": 2,
   "metadata": {
    "ExecuteTime": {
     "end_time": "2022-10-26T03:03:55.383403Z",
     "start_time": "2022-10-26T03:03:55.181116Z"
    }
   },
   "outputs": [],
   "source": [
    "%matplotlib inline\n",
    "import matplotlib as mpl\n",
    "import matplotlib.pyplot as plt\n",
    "mpl.rc('axes', labelsize=14)\n",
    "mpl.rc('xtick', labelsize=12)\n",
    "mpl.rc('ytick', labelsize=12)"
   ]
  },
  {
   "cell_type": "code",
   "execution_count": 3,
   "metadata": {
    "ExecuteTime": {
     "end_time": "2022-10-26T03:03:56.501483Z",
     "start_time": "2022-10-26T03:03:55.385285Z"
    }
   },
   "outputs": [],
   "source": [
    "(X_train_full, y_train_full), (X_test, y_test) = keras.datasets.fashion_mnist.load_data()\n",
    "X_train_full = X_train_full / 255.0\n",
    "X_test = X_test / 255.0\n",
    "X_valid, X_train = X_train_full[:5000], X_train_full[5000:]\n",
    "y_valid, y_train = y_train_full[:5000], y_train_full[5000:]\n",
    "\n",
    "\"\"\"Z-score标准化输入使其平均数为0，标准差为1，\n",
    "    加快梯度下降求最优解速度，可能可以提高精度\"\"\"\n",
    "pixel_means = X_train.mean(axis=0, keepdims=True)#平均数\n",
    "pixel_stds = X_train.std(axis=0, keepdims=True)#标准差\n",
    "X_train_scaled = (X_train - pixel_means) / pixel_stds\n",
    "X_valid_scaled = (X_valid - pixel_means) / pixel_stds\n",
    "X_test_scaled = (X_test - pixel_means) / pixel_stds"
   ]
  },
  {
   "cell_type": "markdown",
   "metadata": {},
   "source": [
    "### 幂调度（Power Scheduling）:学习率开始时迅速下降，后来越来越慢"
   ]
  },
  {
   "cell_type": "markdown",
   "metadata": {
    "ExecuteTime": {
     "end_time": "2022-10-23T02:15:47.189858Z",
     "start_time": "2022-10-23T02:15:47.177828Z"
    }
   },
   "source": [
    "#### lr = lr0 / (1 + steps / s)**c"
   ]
  },
  {
   "cell_type": "code",
   "execution_count": 4,
   "metadata": {
    "ExecuteTime": {
     "end_time": "2022-10-26T03:03:56.517459Z",
     "start_time": "2022-10-26T03:03:56.503460Z"
    }
   },
   "outputs": [],
   "source": [
    "# Keras uses c=1 and s = 1 / decay\n",
    "#s：步骤，t：迭代次数\n",
    "optimizer = keras.optimizers.SGD(learning_rate=0.01, decay=1e-4)"
   ]
  },
  {
   "cell_type": "markdown",
   "metadata": {},
   "source": [
    "### 指数调度（Exponential Scheduling）：每s步逐渐下降10倍"
   ]
  },
  {
   "cell_type": "markdown",
   "metadata": {},
   "source": [
    "#### lr = lr0 * 0.1**(epoch / s)"
   ]
  },
  {
   "cell_type": "code",
   "execution_count": 5,
   "metadata": {
    "ExecuteTime": {
     "end_time": "2022-10-26T03:03:56.533494Z",
     "start_time": "2022-10-26T03:03:56.520456Z"
    }
   },
   "outputs": [],
   "source": [
    "def exponential_decay(lr0, s):\n",
    "    #lr0为初始学习率\n",
    "    \n",
    "    def exponential_decay_fn(epoch):\n",
    "        #采用当前轮次返回学习率\n",
    "        return lr0 * 0.1**(epoch / s)\n",
    "    \n",
    "    return exponential_decay_fn\n",
    "\n",
    "exponential_decay_fn = exponential_decay(lr0=0.01, s=20)"
   ]
  },
  {
   "cell_type": "markdown",
   "metadata": {},
   "source": [
    "#### LearningRateScheduler（）在每个轮次开始时更新优化器的学习率"
   ]
  },
  {
   "cell_type": "markdown",
   "metadata": {},
   "source": [
    "#### 若想更频繁的更新学习率（当每个轮次有很多步骤），可以自己编写回调函数"
   ]
  },
  {
   "cell_type": "code",
   "execution_count": 6,
   "metadata": {
    "ExecuteTime": {
     "end_time": "2022-10-26T03:03:57.725725Z",
     "start_time": "2022-10-26T03:03:56.535454Z"
    }
   },
   "outputs": [],
   "source": [
    "model = keras.models.Sequential([\n",
    "    keras.layers.Flatten(input_shape=[28, 28]),\n",
    "    keras.layers.Dense(300, activation=\"selu\", kernel_initializer=\"lecun_normal\"),\n",
    "    keras.layers.Dense(100, activation=\"selu\", kernel_initializer=\"lecun_normal\"),\n",
    "    keras.layers.Dense(10, activation=\"softmax\")\n",
    "])\n",
    "model.compile(loss=\"sparse_categorical_crossentropy\", \n",
    "              optimizer=\"nadam\", \n",
    "              metrics=[\"accuracy\"])\n",
    "\n",
    "n_epochs = 25\n",
    "\n",
    "\"\"\"将学习率传递给LearningRateScheduler回调函数，\n",
    "    再将回调函数传递给fit（）\"\"\"\n",
    "lr_scheduler = keras.callbacks.LearningRateScheduler(exponential_decay_fn)\n",
    "#history = model.fit(X_train_scaled, y_train, epochs=n_epochs,\n",
    " #                   validation_data=(X_valid_scaled, y_valid),\n",
    "  #                  callbacks=[lr_scheduler])"
   ]
  },
  {
   "cell_type": "markdown",
   "metadata": {},
   "source": [
    "### 分段恒定调度（Piecewise Constant Scheduling）"
   ]
  },
  {
   "cell_type": "code",
   "execution_count": 7,
   "metadata": {
    "ExecuteTime": {
     "end_time": "2022-10-26T03:03:57.741705Z",
     "start_time": "2022-10-26T03:03:57.727704Z"
    }
   },
   "outputs": [],
   "source": [
    "def piecewise_constant_fn(epoch):\n",
    "    if epoch < 5:\n",
    "        return 0.01\n",
    "    elif epoch < 15:\n",
    "        return 0.005\n",
    "    else:\n",
    "        return 0.001"
   ]
  },
  {
   "cell_type": "code",
   "execution_count": 8,
   "metadata": {
    "ExecuteTime": {
     "end_time": "2022-10-26T03:03:57.757418Z",
     "start_time": "2022-10-26T03:03:57.743705Z"
    }
   },
   "outputs": [],
   "source": [
    "\"\"\"更通用\"\"\"\n",
    "def piecewise_constant(boundaries, values):\n",
    "    boundaries = np.array([0] + boundaries)\n",
    "    values = np.array(values)\n",
    "    def piecewise_constant_fn(epoch):\n",
    "        return values[np.argmax(boundaries > epoch) - 1]\n",
    "    #argmax（）返回最大值的索引\n",
    "    return piecewise_constant_fn\n",
    "\n",
    "piecewise_constant_fn = piecewise_constant([5, 15], [0.01, 0.005, 0.001])"
   ]
  },
  {
   "cell_type": "code",
   "execution_count": 9,
   "metadata": {
    "ExecuteTime": {
     "end_time": "2022-10-26T03:03:57.803454Z",
     "start_time": "2022-10-26T03:03:57.759418Z"
    }
   },
   "outputs": [],
   "source": [
    "\"\"\"将学习率传递给LearningRateScheduler回调函数，\n",
    "    再将回调函数传递给fit（）\"\"\"\n",
    "lr_scheduler = keras.callbacks.LearningRateScheduler(piecewise_constant_fn)\n",
    "\n",
    "model = keras.models.Sequential([\n",
    "    keras.layers.Flatten(input_shape=[28, 28]),\n",
    "    keras.layers.Dense(300, activation=\"selu\", kernel_initializer=\"lecun_normal\"),\n",
    "    keras.layers.Dense(100, activation=\"selu\", kernel_initializer=\"lecun_normal\"),\n",
    "    keras.layers.Dense(10, activation=\"softmax\")\n",
    "])\n",
    "model.compile(loss=\"sparse_categorical_crossentropy\", \n",
    "              optimizer=\"nadam\", metrics=[\"accuracy\"])\n",
    "n_epochs = 25\n",
    "#history = model.fit(X_train_scaled, y_train, epochs=n_epochs,\n",
    " #                   validation_data=(X_valid_scaled, y_valid),\n",
    "  #                  callbacks=[lr_scheduler])"
   ]
  },
  {
   "cell_type": "markdown",
   "metadata": {},
   "source": [
    "### 性能调度（Performance Scheduling）"
   ]
  },
  {
   "cell_type": "code",
   "execution_count": 10,
   "metadata": {
    "ExecuteTime": {
     "end_time": "2022-10-26T03:03:57.865414Z",
     "start_time": "2022-10-26T03:03:57.805416Z"
    }
   },
   "outputs": [],
   "source": [
    "lr_scheduler = keras.callbacks.ReduceLROnPlateau(factor=0.5, patience=5)\n",
    "#使用ReduceLROnPlateau回调函数，当5个轮次最好验证损失没有改善则将学习率*0.5\n",
    "\n",
    "model = keras.models.Sequential([\n",
    "    keras.layers.Flatten(input_shape=[28, 28]),\n",
    "    keras.layers.Dense(300, activation=\"selu\", kernel_initializer=\"lecun_normal\"),\n",
    "    keras.layers.Dense(100, activation=\"selu\", kernel_initializer=\"lecun_normal\"),\n",
    "    keras.layers.Dense(10, activation=\"softmax\")\n",
    "])\n",
    "optimizer = keras.optimizers.SGD(learning_rate=0.02, momentum=0.9)\n",
    "model.compile(loss=\"sparse_categorical_crossentropy\", \n",
    "              optimizer=optimizer, metrics=[\"accuracy\"])\n",
    "n_epochs = 25\n",
    "#history = model.fit(X_train_scaled, y_train, epochs=n_epochs,\n",
    "          #          validation_data=(X_valid_scaled, y_valid),\n",
    "           #         callbacks=[lr_scheduler])"
   ]
  },
  {
   "cell_type": "markdown",
   "metadata": {},
   "source": [
    "### tf.keras schedulers：每个步骤更新学习率"
   ]
  },
  {
   "cell_type": "code",
   "execution_count": 11,
   "metadata": {
    "ExecuteTime": {
     "end_time": "2022-10-26T03:03:57.929426Z",
     "start_time": "2022-10-26T03:03:57.867414Z"
    }
   },
   "outputs": [],
   "source": [
    "model = keras.models.Sequential([\n",
    "    keras.layers.Flatten(input_shape=[28, 28]),\n",
    "    keras.layers.Dense(300, activation=\"selu\", kernel_initializer=\"lecun_normal\"),\n",
    "    keras.layers.Dense(100, activation=\"selu\", kernel_initializer=\"lecun_normal\"),\n",
    "    keras.layers.Dense(10, activation=\"softmax\")\n",
    "])\n",
    "\n",
    "s = 20 * len(X_train) // 32 # number of steps in 20 epochs (batch size = 32)\n",
    "#python//表示取整除 ，返回商的整数部分（向下取整）\n",
    "\n",
    "learning_rate = keras.optimizers.schedules.ExponentialDecay(0.01, s, 0.1)\n",
    "#使用指数衰减的学习率\n",
    "#初始值是0.01，梯度为s，衰减率（底数）为0.1，每s步学习率*0.1\n",
    "\n",
    "optimizer = keras.optimizers.SGD(learning_rate)\n",
    "model.compile(loss=\"sparse_categorical_crossentropy\", \n",
    "              optimizer=optimizer, metrics=[\"accuracy\"])\n",
    "n_epochs = 25\n",
    "#history = model.fit(X_train_scaled, y_train, epochs=n_epochs,\n",
    "           #         validation_data=(X_valid_scaled, y_valid))"
   ]
  },
  {
   "cell_type": "code",
   "execution_count": 12,
   "metadata": {
    "ExecuteTime": {
     "end_time": "2022-10-26T03:03:57.945413Z",
     "start_time": "2022-10-26T03:03:57.930414Z"
    }
   },
   "outputs": [],
   "source": [
    "#分段恒定调度的学习率，每个步骤更新\n",
    "n_steps_per_epoch = 10#每个轮次的步骤数\n",
    "\n",
    "learning_rate = keras.optimizers.schedules.PiecewiseConstantDecay(\n",
    "    boundaries=[5. * n_steps_per_epoch, 15. * n_steps_per_epoch],\n",
    "    values=[0.01, 0.005, 0.001])"
   ]
  },
  {
   "cell_type": "markdown",
   "metadata": {},
   "source": [
    "### 1周期方法（1Cycle scheduling）"
   ]
  },
  {
   "cell_type": "code",
   "execution_count": 13,
   "metadata": {
    "ExecuteTime": {
     "end_time": "2022-10-26T03:03:57.961414Z",
     "start_time": "2022-10-26T03:03:57.947426Z"
    }
   },
   "outputs": [],
   "source": [
    "K = keras.backend\n",
    "#后端\n",
    "class ExponentialLearningRate(keras.callbacks.Callback):\n",
    "    \"\"\"根据系数factor指数调度学习率，\n",
    "    使学习率与factor相乘，进行线性变换\"\"\"\n",
    "    \n",
    "    def __init__(self, factor):\n",
    "        \"\"\"每个与类相关联的方法调用都自动传递实参self\n",
    "           以self为前缀的变量可以供类中的所有办法使用\"\"\"\n",
    "        \n",
    "        self.factor = factor #系数\n",
    "        #获取存储在形参factor中的值并存储到变量factor中\n",
    "        \n",
    "        self.rates = []\n",
    "        self.losses = []\n",
    "        \n",
    "    def on_batch_end(self, batch, logs):\n",
    "        \"\"\"在每个批次处理的最后，保存模型的lr和loss，\n",
    "           对模型学习率进行线性增长（×factor）\"\"\"\n",
    "        \n",
    "        self.rates.append(K.get_value(self.model.optimizer.learning_rate))\n",
    "        #将模型优化器的学习率参数添加进（存储在）rates数组\n",
    "        \n",
    "        self.losses.append(logs[\"loss\"])\n",
    "        #将日志中计算出的loss保存至losses数组\n",
    "        \n",
    "        K.set_value(self.model.optimizer.learning_rate,\n",
    "                    self.model.optimizer.learning_rate * self.factor)\n",
    "        #tf.keras.backend.set_value(x,value)，从Numpy数组将值载入tensor中\n",
    "        #x：要设置为新值的Tensor\n",
    "        #value：Numpy数组（具有相同形状），将载入x\n",
    "        #将模型的学习率设置为：与系数factor相乘后的学习率"
   ]
  },
  {
   "cell_type": "code",
   "execution_count": 14,
   "metadata": {
    "ExecuteTime": {
     "end_time": "2022-10-26T03:03:57.977419Z",
     "start_time": "2022-10-26T03:03:57.964420Z"
    }
   },
   "outputs": [],
   "source": [
    "import math\n",
    "\n",
    "def find_learning_rate(model, X, y, epochs=1, batch_size=32,\n",
    "                       min_rate=10**-5, max_rate=10):\n",
    "    \"\"\"找到最优学习率，设置为最大学习率，\n",
    "       初始最小学习率设置为10的-5次方，最大学习率设置为10，\n",
    "       在此范围内寻找最优学习率\"\"\"\n",
    "    \n",
    "    init_weights = model.get_weights()#获得模型原始参数\n",
    "    \n",
    "    iterations = math.ceil(len(X) / batch_size) * epochs\n",
    "    #学习率总迭代次数\n",
    "    #lr在处理每个batch批次的最后和每个epoch的最后更新\n",
    "    #math.ceil(x) 方法将 x 向上舍入到最接近的整数\n",
    "    \n",
    "    factor = np.exp(np.log(max_rate / min_rate) / iterations)\n",
    "    #系数\"\"\"按需设置\"\"\"\n",
    "    #numpy.exp()：返回e的幂次方，e是一个常数为2.71828\n",
    "    \n",
    "    init_lr = K.get_value(model.optimizer.learning_rate)\n",
    "    #得到模型原始学习率init_lr\n",
    "    \n",
    "    K.set_value(model.optimizer.learning_rate, min_rate)\n",
    "    #将模型学习率设置为最小学习率min_rate，\n",
    "    \n",
    "    exp_lr = ExponentialLearningRate(factor)\n",
    "    #在每个轮次训练的最后lr都与factor相乘在训练中途线性增长\n",
    "    #每个轮次都保存lr到rates数组，保存loss到losses数组\n",
    "    \n",
    "    history = model.fit(X, y, epochs=epochs, batch_size=batch_size,\n",
    "                        callbacks=[exp_lr])\n",
    "    #训练模型\n",
    "    \n",
    "    K.set_value(model.optimizer.learning_rate, init_lr)\n",
    "    #将模型学习率设置为初始学习率init_lr\n",
    "    \n",
    "    model.set_weights(init_weights)\n",
    "    #将模型权重设置为初始权重\n",
    "    \n",
    "    return exp_lr.rates, exp_lr.losses\n",
    "    #返回记录了每个批次变化的学习率和loss的rates[]和losses[]"
   ]
  },
  {
   "cell_type": "code",
   "execution_count": 15,
   "metadata": {
    "ExecuteTime": {
     "end_time": "2022-10-26T03:03:57.993416Z",
     "start_time": "2022-10-26T03:03:57.979418Z"
    }
   },
   "outputs": [],
   "source": [
    "%matplotlib inline\n",
    "#使得图片可见\n",
    "import matplotlib.pylab as plt#导入绘图库\n",
    "\n",
    "def plot_lr_vs_loss(rates, losses):\n",
    "    plt.plot(rates, losses)\n",
    "    plt.gca().set_xscale('log')\n",
    "    plt.hlines(min(losses), min(rates), max(rates))\n",
    "    plt.axis([min(rates), max(rates), min(losses), (losses[0] + min(losses)) / 2])\n",
    "    plt.xlabel(\"Learning rate\")\n",
    "    plt.ylabel(\"Loss\")"
   ]
  },
  {
   "cell_type": "code",
   "execution_count": 19,
   "metadata": {
    "ExecuteTime": {
     "end_time": "2022-10-26T03:04:53.161484Z",
     "start_time": "2022-10-26T03:04:51.031396Z"
    }
   },
   "outputs": [
    {
     "name": "stdout",
     "output_type": "stream",
     "text": [
      "430/430 [==============================] - 2s 3ms/step - loss: nan - accuracy: 0.3669\n"
     ]
    },
    {
     "data": {
      "text/plain": [
       "[1e-05, 9.683906, 1.650153398513794, 3.204094512122018]"
      ]
     },
     "execution_count": 19,
     "metadata": {},
     "output_type": "execute_result"
    },
    {
     "data": {
      "image/png": "[encoded data removed]",
      "text/plain": [
       "<Figure size 432x288 with 1 Axes>"
      ]
     },
     "metadata": {
      "needs_background": "light"
     },
     "output_type": "display_data"
    }
   ],
   "source": [
    "model = keras.models.Sequential([\n",
    "    keras.layers.Flatten(input_shape=[28, 28]),\n",
    "    keras.layers.Dense(300, activation=\"selu\", kernel_initializer=\"lecun_normal\"),\n",
    "    keras.layers.Dense(100, activation=\"selu\", kernel_initializer=\"lecun_normal\"),\n",
    "    keras.layers.Dense(10, activation=\"softmax\")\n",
    "])\n",
    "model.compile(loss=\"sparse_categorical_crossentropy\",\n",
    "              optimizer=keras.optimizers.SGD(learning_rate=1e-3),\n",
    "              metrics=[\"accuracy\"])\n",
    "\n",
    "batch_size = 128\n",
    "rates, losses = find_learning_rate(model, X_train_scaled, y_train,\n",
    "                                   epochs=1, batch_size=batch_size)\n",
    "plot_lr_vs_loss(rates, losses)\n",
    "\"\"\"找到图中损失值降低的最快的点对应的学习率，确定最优学习率\"\"\"\n",
    "plt.axis([min(rates), max(rates), min(losses), (losses[0] + min(losses)) / 1.4])"
   ]
  },
  {
   "cell_type": "code",
   "execution_count": 17,
   "metadata": {
    "ExecuteTime": {
     "end_time": "2022-10-26T03:04:00.409023Z",
     "start_time": "2022-10-26T03:04:00.395023Z"
    }
   },
   "outputs": [],
   "source": [
    "class OneCycleScheduler(keras.callbacks.Callback):\n",
    "    \"\"\"训练开始到中途从 lr0（0.005）到lr1（0.05），\n",
    "    训练的后半部分降回lr0（0.005），\n",
    "    最后的几个轮次再往下降到1.0663265306122723e-05\"\"\"\n",
    "\n",
    "    def __init__(self, iterations, max_rate, start_rate=None,\n",
    "                 last_iterations=None, last_rate=None):\n",
    "        \n",
    "        self.iterations = iterations\n",
    "        #学习率迭代次数#print(iterations) #设置为8800\n",
    "        \n",
    "        self.max_rate = max_rate \n",
    "        #学习率最大值#print(max_rate)  #设置为0.05\n",
    "        \n",
    "        self.start_rate = start_rate or max_rate / 10 #初始学习率\n",
    "        #最大学习率大约比初始学习率大10倍 #print(self.start_rate)#0.005\n",
    "        \n",
    "        self.last_iterations = last_iterations or iterations // 10 + 1\n",
    "        #最后几个轮次学习率的迭代次数\n",
    "        #lr0-lr1和lr1-lr0各占据学习率迭代的约一半，最后lr0降低几个数量级相当于1/11\n",
    "        #//为整除 #print(self.last_iterations) #881\n",
    "        \n",
    "        self.half_iteration = (iterations - self.last_iterations) // 2\n",
    "        #训练到中途学习率的迭代次数\n",
    "        #print(self.half_iteration) #3959 #print(2 * self.half_iteration)#7918\n",
    "        \n",
    "        self.last_rate = last_rate or self.start_rate / 1000\n",
    "        #最后几个轮次的 学习率\n",
    "        #print(self.last_rate) #5e-06\n",
    "        \n",
    "        self.iteration = 0\n",
    "        #将当前学习率迭代次数设置为0\n",
    "        \n",
    "    def _interpolate(self, iter1, iter2, rate1, rate2):\n",
    "        #插值\n",
    "        \"\"\"学习率迭代次数从iter1到iter2的过程中，学习率从rate1线性变化到rate2\"\"\"\n",
    "        return ((rate2 - rate1) * (self.iteration - iter1)/ (iter2 - iter1) + rate1)\n",
    "    \n",
    "    def on_batch_begin(self, batch, logs):\n",
    "        #在每个批次开始时\n",
    "        \n",
    "        if self.iteration < self.half_iteration:\n",
    "            #第一阶段，lr0-lr1\n",
    "            rate = self._interpolate(0, self.half_iteration, \n",
    "                                     self.start_rate, self.max_rate)\n",
    "            \n",
    "        elif self.iteration < 2 * self.half_iteration:\n",
    "            #第二阶段，lr1-lr2\n",
    "            rate = self._interpolate(self.half_iteration, 2 * self.half_iteration,\n",
    "                                     self.max_rate, self.start_rate)\n",
    "            \n",
    "        else:\n",
    "            #第三阶段，最后几个批次学习率降低几个数量级\n",
    "            rate = self._interpolate(2 * self.half_iteration, self.iterations,\n",
    "                                     self.start_rate, self.last_rate)\n",
    "              \n",
    "        self.iteration += 1\n",
    "        #当前学习率迭代次数＋1\n",
    "        \n",
    "        K.set_value(self.model.optimizer.lr, rate)\n",
    "        #将变化的学习率应用于模型优化器的学习率"
   ]
  },
  {
   "cell_type": "code",
   "execution_count": 18,
   "metadata": {
    "ExecuteTime": {
     "end_time": "2022-10-26T03:04:34.254475Z",
     "start_time": "2022-10-26T03:04:00.411022Z"
    }
   },
   "outputs": [
    {
     "name": "stdout",
     "output_type": "stream",
     "text": [
      "Epoch 1/25\n",
      "430/430 [==============================] - 2s 4ms/step - loss: 0.6544 - accuracy: 0.7763 - val_loss: 0.4773 - val_accuracy: 0.8370\n",
      "Epoch 2/25\n",
      "430/430 [==============================] - 1s 3ms/step - loss: 0.4528 - accuracy: 0.8424 - val_loss: 0.4282 - val_accuracy: 0.8530\n",
      "Epoch 3/25\n",
      "430/430 [==============================] - 1s 3ms/step - loss: 0.4096 - accuracy: 0.8566 - val_loss: 0.4060 - val_accuracy: 0.8578\n",
      "Epoch 4/25\n",
      "430/430 [==============================] - 1s 3ms/step - loss: 0.3822 - accuracy: 0.8655 - val_loss: 0.3909 - val_accuracy: 0.8646\n",
      "Epoch 5/25\n",
      "430/430 [==============================] - 1s 3ms/step - loss: 0.3600 - accuracy: 0.8726 - val_loss: 0.3856 - val_accuracy: 0.8660\n",
      "Epoch 6/25\n",
      "430/430 [==============================] - 1s 3ms/step - loss: 0.3433 - accuracy: 0.8786 - val_loss: 0.3682 - val_accuracy: 0.8762\n",
      "Epoch 7/25\n",
      "430/430 [==============================] - 1s 3ms/step - loss: 0.3272 - accuracy: 0.8830 - val_loss: 0.3599 - val_accuracy: 0.8702\n",
      "Epoch 8/25\n",
      "430/430 [==============================] - 1s 3ms/step - loss: 0.3139 - accuracy: 0.8887 - val_loss: 0.3468 - val_accuracy: 0.8762\n",
      "Epoch 9/25\n",
      "430/430 [==============================] - 1s 3ms/step - loss: 0.3024 - accuracy: 0.8902 - val_loss: 0.3455 - val_accuracy: 0.8752\n",
      "Epoch 10/25\n",
      "430/430 [==============================] - 1s 3ms/step - loss: 0.2889 - accuracy: 0.8955 - val_loss: 0.3559 - val_accuracy: 0.8724\n",
      "Epoch 11/25\n",
      "430/430 [==============================] - 1s 3ms/step - loss: 0.2817 - accuracy: 0.8981 - val_loss: 0.3398 - val_accuracy: 0.8810\n",
      "Epoch 12/25\n",
      "430/430 [==============================] - 1s 3ms/step - loss: 0.2673 - accuracy: 0.9019 - val_loss: 0.3681 - val_accuracy: 0.8644\n",
      "Epoch 13/25\n",
      "430/430 [==============================] - 1s 3ms/step - loss: 0.2503 - accuracy: 0.9095 - val_loss: 0.3277 - val_accuracy: 0.8860\n",
      "Epoch 14/25\n",
      "430/430 [==============================] - 1s 3ms/step - loss: 0.2359 - accuracy: 0.9148 - val_loss: 0.3303 - val_accuracy: 0.8848\n",
      "Epoch 15/25\n",
      "430/430 [==============================] - 1s 3ms/step - loss: 0.2253 - accuracy: 0.9189 - val_loss: 0.3226 - val_accuracy: 0.8890\n",
      "Epoch 16/25\n",
      "430/430 [==============================] - 1s 3ms/step - loss: 0.2131 - accuracy: 0.9231 - val_loss: 0.3196 - val_accuracy: 0.8900\n",
      "Epoch 17/25\n",
      "430/430 [==============================] - 1s 3ms/step - loss: 0.2037 - accuracy: 0.9267 - val_loss: 0.3194 - val_accuracy: 0.8896\n",
      "Epoch 18/25\n",
      "430/430 [==============================] - 1s 3ms/step - loss: 0.1947 - accuracy: 0.9309 - val_loss: 0.3223 - val_accuracy: 0.8898\n",
      "Epoch 19/25\n",
      "430/430 [==============================] - 1s 3ms/step - loss: 0.1865 - accuracy: 0.9342 - val_loss: 0.3230 - val_accuracy: 0.8896\n",
      "Epoch 20/25\n",
      "430/430 [==============================] - 1s 3ms/step - loss: 0.1793 - accuracy: 0.9373 - val_loss: 0.3139 - val_accuracy: 0.8928\n",
      "Epoch 21/25\n",
      "430/430 [==============================] - 1s 3ms/step - loss: 0.1731 - accuracy: 0.9398 - val_loss: 0.3134 - val_accuracy: 0.8938\n",
      "Epoch 22/25\n",
      "430/430 [==============================] - 1s 3ms/step - loss: 0.1675 - accuracy: 0.9417 - val_loss: 0.3125 - val_accuracy: 0.8928\n",
      "Epoch 23/25\n",
      "430/430 [==============================] - 1s 3ms/step - loss: 0.1631 - accuracy: 0.9443 - val_loss: 0.3130 - val_accuracy: 0.8934\n",
      "Epoch 24/25\n",
      "430/430 [==============================] - 2s 4ms/step - loss: 0.1604 - accuracy: 0.9452 - val_loss: 0.3114 - val_accuracy: 0.8952\n",
      "Epoch 25/25\n",
      "430/430 [==============================] - 1s 3ms/step - loss: 0.1584 - accuracy: 0.9463 - val_loss: 0.3115 - val_accuracy: 0.8950\n"
     ]
    }
   ],
   "source": [
    "n_epochs = 25\n",
    "onecycle = OneCycleScheduler(math.ceil(len(X_train) / batch_size) * n_epochs, \n",
    "                             max_rate=0.05)\n",
    "#传入学习率迭代次数和最大学习率\n",
    "\n",
    "history = model.fit(X_train_scaled, y_train, epochs=n_epochs, batch_size=batch_size,\n",
    "                    validation_data=(X_valid_scaled, y_valid),\n",
    "                    callbacks=[onecycle])"
   ]
  }
 ],
 "metadata": {
  "kernelspec": {
   "display_name": "Python 3",
   "language": "python",
   "name": "python3"
  },
  "language_info": {
   "codemirror_mode": {
    "name": "ipython",
    "version": 3
   },
   "file_extension": ".py",
   "mimetype": "text/x-python",
   "name": "python",
   "nbconvert_exporter": "python",
   "pygments_lexer": "ipython3",
   "version": "3.7.0"
  }
 },
 "nbformat": 4,
 "nbformat_minor": 2
}
